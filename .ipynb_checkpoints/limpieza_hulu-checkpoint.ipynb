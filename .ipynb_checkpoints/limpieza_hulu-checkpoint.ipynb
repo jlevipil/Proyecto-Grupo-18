{
 "cells": [
  {
   "cell_type": "markdown",
   "id": "dc39c320-e45b-4927-9ba9-53cc0c51f985",
   "metadata": {},
   "source": [
    "# Limpieza de Hulu"
   ]
  },
  {
   "cell_type": "markdown",
   "id": "eb5fea03-80ca-49d5-b07f-1cb559ac630c",
   "metadata": {},
   "source": [
    "## Pedir datos a la API"
   ]
  },
  {
   "cell_type": "code",
   "execution_count": 1,
   "id": "c4639437-fb3d-419b-84d9-154826364017",
   "metadata": {},
   "outputs": [],
   "source": [
    "# IMPORTS\n",
    "import numpy as np\n",
    "import pandas as pd\n",
    "import requests as rq\n",
    "from src.buscar_peliculas import buscar_peliculas"
   ]
  },
  {
   "cell_type": "markdown",
   "id": "2d0bde1b-0c13-4ab3-8d44-abf71450184b",
   "metadata": {},
   "source": [
    "Pedimos los datos:"
   ]
  },
  {
   "cell_type": "code",
   "execution_count": 3,
   "id": "f43975c6-08f6-4c10-8569-ba9a09969fdf",
   "metadata": {},
   "outputs": [
    {
     "name": "stdout",
     "output_type": "stream",
     "text": [
      "<Response [200]> 5 1077\n"
     ]
    }
   ],
   "source": [
    "dfhulu_raw = buscar_peliculas('Hulu')"
   ]
  },
  {
   "cell_type": "markdown",
   "id": "7f2dad34-17d7-44bd-b1f4-c3c801688f62",
   "metadata": {},
   "source": [
    "Fecha de consulta en la API: 18-10-2025 23:39\n",
    "\n",
    "Verificamos que no haya perdida de datos:"
   ]
  },
  {
   "cell_type": "code",
   "execution_count": 4,
   "id": "4fd10e4a-e5f6-45be-87f7-8c2b29d77340",
   "metadata": {},
   "outputs": [
    {
     "name": "stdout",
     "output_type": "stream",
     "text": [
      "[1077, 1077]\n"
     ]
    }
   ],
   "source": [
    "largo_dataframe = len(dfhulu_raw[0])\n",
    "largo_segun_API = dfhulu_raw[1]\n",
    "print([largo_dataframe, largo_segun_API])"
   ]
  },
  {
   "cell_type": "markdown",
   "id": "d9e81758-ab90-4380-aff5-56713369d9f8",
   "metadata": {},
   "source": [
    "Los largos coinciden"
   ]
  },
  {
   "cell_type": "code",
   "execution_count": 5,
   "id": "358b51eb-4363-4596-82ae-267b32f80ec4",
   "metadata": {},
   "outputs": [],
   "source": [
    "dfhulu1 = dfhulu_raw[0]"
   ]
  },
  {
   "cell_type": "code",
   "execution_count": 6,
   "id": "37ee4993-eb6b-4af2-bbd9-15e04a53b781",
   "metadata": {},
   "outputs": [
    {
     "data": {
      "text/html": [
       "<div>\n",
       "<style scoped>\n",
       "    .dataframe tbody tr th:only-of-type {\n",
       "        vertical-align: middle;\n",
       "    }\n",
       "\n",
       "    .dataframe tbody tr th {\n",
       "        vertical-align: top;\n",
       "    }\n",
       "\n",
       "    .dataframe thead th {\n",
       "        text-align: right;\n",
       "    }\n",
       "</style>\n",
       "<table border=\"1\" class=\"dataframe\">\n",
       "  <thead>\n",
       "    <tr style=\"text-align: right;\">\n",
       "      <th></th>\n",
       "      <th>id</th>\n",
       "      <th>title</th>\n",
       "      <th>year</th>\n",
       "      <th>imdb_id</th>\n",
       "      <th>tmdb_id</th>\n",
       "      <th>tmdb_type</th>\n",
       "      <th>type</th>\n",
       "    </tr>\n",
       "  </thead>\n",
       "  <tbody>\n",
       "    <tr>\n",
       "      <th>0</th>\n",
       "      <td>1874486</td>\n",
       "      <td>Predator: Killer of Killers</td>\n",
       "      <td>2025</td>\n",
       "      <td>tt36463894</td>\n",
       "      <td>1376434</td>\n",
       "      <td>movie</td>\n",
       "      <td>movie</td>\n",
       "    </tr>\n",
       "    <tr>\n",
       "      <th>1</th>\n",
       "      <td>1615420</td>\n",
       "      <td>Bullet Train</td>\n",
       "      <td>2022</td>\n",
       "      <td>tt12593682</td>\n",
       "      <td>718930</td>\n",
       "      <td>movie</td>\n",
       "      <td>movie</td>\n",
       "    </tr>\n",
       "    <tr>\n",
       "      <th>2</th>\n",
       "      <td>1583908</td>\n",
       "      <td>The Menu</td>\n",
       "      <td>2022</td>\n",
       "      <td>tt9764362</td>\n",
       "      <td>593643</td>\n",
       "      <td>movie</td>\n",
       "      <td>movie</td>\n",
       "    </tr>\n",
       "    <tr>\n",
       "      <th>3</th>\n",
       "      <td>1515072</td>\n",
       "      <td>Uncharted</td>\n",
       "      <td>2022</td>\n",
       "      <td>tt1464335</td>\n",
       "      <td>335787</td>\n",
       "      <td>movie</td>\n",
       "      <td>movie</td>\n",
       "    </tr>\n",
       "    <tr>\n",
       "      <th>4</th>\n",
       "      <td>1650358</td>\n",
       "      <td>Barbarian</td>\n",
       "      <td>2022</td>\n",
       "      <td>tt15791034</td>\n",
       "      <td>913290</td>\n",
       "      <td>movie</td>\n",
       "      <td>movie</td>\n",
       "    </tr>\n",
       "    <tr>\n",
       "      <th>...</th>\n",
       "      <td>...</td>\n",
       "      <td>...</td>\n",
       "      <td>...</td>\n",
       "      <td>...</td>\n",
       "      <td>...</td>\n",
       "      <td>...</td>\n",
       "      <td>...</td>\n",
       "    </tr>\n",
       "    <tr>\n",
       "      <th>1072</th>\n",
       "      <td>1589801</td>\n",
       "      <td>Adrift</td>\n",
       "      <td>2018</td>\n",
       "      <td>tt3454104</td>\n",
       "      <td>635185</td>\n",
       "      <td>movie</td>\n",
       "      <td>movie</td>\n",
       "    </tr>\n",
       "    <tr>\n",
       "      <th>1073</th>\n",
       "      <td>1630649</td>\n",
       "      <td>The Making and Meaning of 'We Are Family'</td>\n",
       "      <td>2002</td>\n",
       "      <td>tt0306219</td>\n",
       "      <td>806685</td>\n",
       "      <td>movie</td>\n",
       "      <td>movie</td>\n",
       "    </tr>\n",
       "    <tr>\n",
       "      <th>1074</th>\n",
       "      <td>1606945</td>\n",
       "      <td>Macross FB7: Listen to My Song!</td>\n",
       "      <td>2012</td>\n",
       "      <td>tt3709868</td>\n",
       "      <td>258156</td>\n",
       "      <td>movie</td>\n",
       "      <td>movie</td>\n",
       "    </tr>\n",
       "    <tr>\n",
       "      <th>1075</th>\n",
       "      <td>538039</td>\n",
       "      <td>Robert Durst: An ID Murder Mystery</td>\n",
       "      <td>2019</td>\n",
       "      <td>tt9726390</td>\n",
       "      <td>593962</td>\n",
       "      <td>movie</td>\n",
       "      <td>movie</td>\n",
       "    </tr>\n",
       "    <tr>\n",
       "      <th>1076</th>\n",
       "      <td>1866954</td>\n",
       "      <td>Abracadaver</td>\n",
       "      <td>2024</td>\n",
       "      <td>tt33525840</td>\n",
       "      <td>1364324</td>\n",
       "      <td>movie</td>\n",
       "      <td>movie</td>\n",
       "    </tr>\n",
       "  </tbody>\n",
       "</table>\n",
       "<p>1077 rows × 7 columns</p>\n",
       "</div>"
      ],
      "text/plain": [
       "           id                                      title  year     imdb_id  \\\n",
       "0     1874486                Predator: Killer of Killers  2025  tt36463894   \n",
       "1     1615420                               Bullet Train  2022  tt12593682   \n",
       "2     1583908                                   The Menu  2022   tt9764362   \n",
       "3     1515072                                  Uncharted  2022   tt1464335   \n",
       "4     1650358                                  Barbarian  2022  tt15791034   \n",
       "...       ...                                        ...   ...         ...   \n",
       "1072  1589801                                     Adrift  2018   tt3454104   \n",
       "1073  1630649  The Making and Meaning of 'We Are Family'  2002   tt0306219   \n",
       "1074  1606945            Macross FB7: Listen to My Song!  2012   tt3709868   \n",
       "1075   538039         Robert Durst: An ID Murder Mystery  2019   tt9726390   \n",
       "1076  1866954                                Abracadaver  2024  tt33525840   \n",
       "\n",
       "      tmdb_id tmdb_type   type  \n",
       "0     1376434     movie  movie  \n",
       "1      718930     movie  movie  \n",
       "2      593643     movie  movie  \n",
       "3      335787     movie  movie  \n",
       "4      913290     movie  movie  \n",
       "...       ...       ...    ...  \n",
       "1072   635185     movie  movie  \n",
       "1073   806685     movie  movie  \n",
       "1074   258156     movie  movie  \n",
       "1075   593962     movie  movie  \n",
       "1076  1364324     movie  movie  \n",
       "\n",
       "[1077 rows x 7 columns]"
      ]
     },
     "execution_count": 6,
     "metadata": {},
     "output_type": "execute_result"
    }
   ],
   "source": [
    "dfhulu1"
   ]
  },
  {
   "cell_type": "markdown",
   "id": "222606e4-2cac-442b-a495-a2cd16effb28",
   "metadata": {},
   "source": [
    "Guardamos estos datos crudos en un csv"
   ]
  },
  {
   "cell_type": "code",
   "execution_count": 7,
   "id": "13e48376-ce28-4301-ae0d-7b677ae85bcb",
   "metadata": {},
   "outputs": [],
   "source": [
    "dfhulu1.to_csv('data/raw_api_hulu.csv', index=False)"
   ]
  },
  {
   "cell_type": "markdown",
   "id": "a3416c8b-2a12-439e-94c3-be7551b3a510",
   "metadata": {},
   "source": [
    "## Limpieza\n",
    "### Columnas\n",
    "Las columnas nos entregan los siguientes datos:\n",
    "- `id`: Identificador de la pelicula en la API\n",
    "- `title`: Nombre de la pelicula\n",
    "- `year`: Año de estreno de la pelicula\n",
    "- `imdb_id`: Identificador de la pelicula en IMDB\n",
    "- `tmdb_id`: Identificador de la pelicula en TMDB\n",
    "- `tmdb_type`: Tipo del titulo en TMDB\n",
    "- `type`: Tipo del titulo en la API"
   ]
  },
  {
   "cell_type": "markdown",
   "id": "7745490c-25a8-4f83-b388-90a273e76437",
   "metadata": {},
   "source": [
    "### Eliminar Columnas\n",
    "Como le especificamos a la API que nos entregara solo peliculas, la columna `type` y `tmdb_type` no deberian entregar informacion importante, ya que todas las filas tienen el mismo tipo"
   ]
  },
  {
   "cell_type": "code",
   "execution_count": 8,
   "id": "116ba1c5-bdce-4ece-ab6f-c7cefda25377",
   "metadata": {},
   "outputs": [
    {
     "data": {
      "text/plain": [
       "array(['movie'], dtype=object)"
      ]
     },
     "execution_count": 8,
     "metadata": {},
     "output_type": "execute_result"
    }
   ],
   "source": [
    "dfhulu1['type'].unique()"
   ]
  },
  {
   "cell_type": "code",
   "execution_count": 9,
   "id": "8f68405c-e9ab-4050-a13b-608b6c7ca5bf",
   "metadata": {},
   "outputs": [
    {
     "data": {
      "text/plain": [
       "array(['movie'], dtype=object)"
      ]
     },
     "execution_count": 9,
     "metadata": {},
     "output_type": "execute_result"
    }
   ],
   "source": [
    "dfhulu1['tmdb_type'].unique()"
   ]
  },
  {
   "cell_type": "markdown",
   "id": "8c8e6f6d-a774-43c8-9af9-e81e240e9501",
   "metadata": {},
   "source": [
    "Al ser todos del mismo tipo, ambas columnas pueden ser eliminadas"
   ]
  },
  {
   "cell_type": "code",
   "execution_count": 10,
   "id": "6b6066bf-aafd-4be0-9177-301bfe84e867",
   "metadata": {},
   "outputs": [],
   "source": [
    "dfhulu2 = dfhulu1[['id', 'title', 'year', 'imdb_id', 'tmdb_id']]"
   ]
  },
  {
   "cell_type": "markdown",
   "id": "4da25fc9-2119-4cd9-9e05-58464abc5476",
   "metadata": {},
   "source": [
    "### Valores Na"
   ]
  },
  {
   "cell_type": "code",
   "execution_count": 11,
   "id": "feeab27e-20ca-4afd-999e-4b26892af983",
   "metadata": {},
   "outputs": [
    {
     "data": {
      "text/plain": [
       "{'id': np.int64(0),\n",
       " 'title': np.int64(0),\n",
       " 'year': np.int64(0),\n",
       " 'imdb_id': np.int64(0),\n",
       " 'tmdb_id': np.int64(0)}"
      ]
     },
     "execution_count": 11,
     "metadata": {},
     "output_type": "execute_result"
    }
   ],
   "source": [
    "resultados = {}\n",
    "for i in dfhulu2.columns:\n",
    "    resultados[i] = dfhulu2[i].isna().sum()\n",
    "resultados"
   ]
  },
  {
   "cell_type": "markdown",
   "id": "190523db-9048-4385-a91c-346ecfb496da",
   "metadata": {},
   "source": [
    "### Duplicados"
   ]
  },
  {
   "cell_type": "code",
   "execution_count": 12,
   "id": "b8ca46d6-91f6-4398-bf86-a0db52c8d6ed",
   "metadata": {},
   "outputs": [
    {
     "data": {
      "text/plain": [
       "np.int64(0)"
      ]
     },
     "execution_count": 12,
     "metadata": {},
     "output_type": "execute_result"
    }
   ],
   "source": [
    "dfhulu2.duplicated().sum()"
   ]
  },
  {
   "cell_type": "markdown",
   "id": "9169755c-4e48-4cec-8147-175fc5901150",
   "metadata": {},
   "source": [
    "#### imdb_id"
   ]
  },
  {
   "cell_type": "code",
   "execution_count": 14,
   "id": "c56b7ec5-2c78-464b-9a36-46fe8ac9edd7",
   "metadata": {},
   "outputs": [
    {
     "data": {
      "text/plain": [
       "np.int64(0)"
      ]
     },
     "execution_count": 14,
     "metadata": {},
     "output_type": "execute_result"
    }
   ],
   "source": [
    "dfhulu2.duplicated('imdb_id').sum()"
   ]
  },
  {
   "cell_type": "markdown",
   "id": "60d70ee2-00f8-4e1a-87c3-c3ffb64cbc6a",
   "metadata": {},
   "source": [
    "#### id\n",
    "Deberia ser unico para cada pelicula"
   ]
  },
  {
   "cell_type": "code",
   "execution_count": 15,
   "id": "d32467f6-db63-4a19-a659-e672fcc8f7e8",
   "metadata": {},
   "outputs": [
    {
     "data": {
      "text/plain": [
       "np.int64(0)"
      ]
     },
     "execution_count": 15,
     "metadata": {},
     "output_type": "execute_result"
    }
   ],
   "source": [
    "dfhulu2.duplicated('id').sum()"
   ]
  },
  {
   "cell_type": "markdown",
   "id": "2f37ef2a-f53d-4aa3-bc00-a5835f2823e4",
   "metadata": {},
   "source": [
    "#### title\n",
    "Es posible que se repita, ya que hay peliculas con el mismo titulo"
   ]
  },
  {
   "cell_type": "code",
   "execution_count": 16,
   "id": "267951b6-397b-4da1-ad56-6900497d3109",
   "metadata": {},
   "outputs": [
    {
     "data": {
      "text/plain": [
       "np.int64(12)"
      ]
     },
     "execution_count": 16,
     "metadata": {},
     "output_type": "execute_result"
    }
   ],
   "source": [
    "dfhulu2.duplicated('title').sum()"
   ]
  },
  {
   "cell_type": "markdown",
   "id": "ac27e826-3b5c-434f-8518-5c4bfbc109a9",
   "metadata": {},
   "source": [
    "revisemos porque se repiten los titulos de las peliculas"
   ]
  },
  {
   "cell_type": "code",
   "execution_count": 17,
   "id": "5988f0e7-9179-4d2f-98b5-69bebbe877ca",
   "metadata": {},
   "outputs": [
    {
     "data": {
      "text/html": [
       "<div>\n",
       "<style scoped>\n",
       "    .dataframe tbody tr th:only-of-type {\n",
       "        vertical-align: middle;\n",
       "    }\n",
       "\n",
       "    .dataframe tbody tr th {\n",
       "        vertical-align: top;\n",
       "    }\n",
       "\n",
       "    .dataframe thead th {\n",
       "        text-align: right;\n",
       "    }\n",
       "</style>\n",
       "<table border=\"1\" class=\"dataframe\">\n",
       "  <thead>\n",
       "    <tr style=\"text-align: right;\">\n",
       "      <th></th>\n",
       "      <th>id</th>\n",
       "      <th>title</th>\n",
       "      <th>year</th>\n",
       "      <th>imdb_id</th>\n",
       "      <th>tmdb_id</th>\n",
       "    </tr>\n",
       "  </thead>\n",
       "  <tbody>\n",
       "    <tr>\n",
       "      <th>194</th>\n",
       "      <td>1397596</td>\n",
       "      <td>The Host</td>\n",
       "      <td>2006</td>\n",
       "      <td>tt0468492</td>\n",
       "      <td>1255</td>\n",
       "    </tr>\n",
       "    <tr>\n",
       "      <th>209</th>\n",
       "      <td>1336403</td>\n",
       "      <td>Scream</td>\n",
       "      <td>1996</td>\n",
       "      <td>tt0117571</td>\n",
       "      <td>4232</td>\n",
       "    </tr>\n",
       "    <tr>\n",
       "      <th>469</th>\n",
       "      <td>11040148</td>\n",
       "      <td>Stay</td>\n",
       "      <td>2025</td>\n",
       "      <td>tt38039379</td>\n",
       "      <td>1547527</td>\n",
       "    </tr>\n",
       "    <tr>\n",
       "      <th>652</th>\n",
       "      <td>1615592</td>\n",
       "      <td>Robots</td>\n",
       "      <td>2023</td>\n",
       "      <td>tt12579470</td>\n",
       "      <td>723347</td>\n",
       "    </tr>\n",
       "    <tr>\n",
       "      <th>662</th>\n",
       "      <td>1596325</td>\n",
       "      <td>Alone</td>\n",
       "      <td>2020</td>\n",
       "      <td>tt10192566</td>\n",
       "      <td>661950</td>\n",
       "    </tr>\n",
       "  </tbody>\n",
       "</table>\n",
       "</div>"
      ],
      "text/plain": [
       "           id     title  year     imdb_id  tmdb_id\n",
       "194   1397596  The Host  2006   tt0468492     1255\n",
       "209   1336403    Scream  1996   tt0117571     4232\n",
       "469  11040148      Stay  2025  tt38039379  1547527\n",
       "652   1615592    Robots  2023  tt12579470   723347\n",
       "662   1596325     Alone  2020  tt10192566   661950"
      ]
     },
     "execution_count": 17,
     "metadata": {},
     "output_type": "execute_result"
    }
   ],
   "source": [
    "dfhulu2[dfhulu2.duplicated('title')].head()"
   ]
  },
  {
   "cell_type": "code",
   "execution_count": 18,
   "id": "e5ec97e1-5bb1-4278-92d0-fad64bc65c61",
   "metadata": {},
   "outputs": [
    {
     "data": {
      "text/html": [
       "<div>\n",
       "<style scoped>\n",
       "    .dataframe tbody tr th:only-of-type {\n",
       "        vertical-align: middle;\n",
       "    }\n",
       "\n",
       "    .dataframe tbody tr th {\n",
       "        vertical-align: top;\n",
       "    }\n",
       "\n",
       "    .dataframe thead th {\n",
       "        text-align: right;\n",
       "    }\n",
       "</style>\n",
       "<table border=\"1\" class=\"dataframe\">\n",
       "  <thead>\n",
       "    <tr style=\"text-align: right;\">\n",
       "      <th></th>\n",
       "      <th>id</th>\n",
       "      <th>title</th>\n",
       "      <th>year</th>\n",
       "      <th>imdb_id</th>\n",
       "      <th>tmdb_id</th>\n",
       "    </tr>\n",
       "  </thead>\n",
       "  <tbody>\n",
       "    <tr>\n",
       "      <th>11</th>\n",
       "      <td>1607086</td>\n",
       "      <td>Scream</td>\n",
       "      <td>2022</td>\n",
       "      <td>tt11245972</td>\n",
       "      <td>646385</td>\n",
       "    </tr>\n",
       "    <tr>\n",
       "      <th>209</th>\n",
       "      <td>1336403</td>\n",
       "      <td>Scream</td>\n",
       "      <td>1996</td>\n",
       "      <td>tt0117571</td>\n",
       "      <td>4232</td>\n",
       "    </tr>\n",
       "  </tbody>\n",
       "</table>\n",
       "</div>"
      ],
      "text/plain": [
       "          id   title  year     imdb_id  tmdb_id\n",
       "11   1607086  Scream  2022  tt11245972   646385\n",
       "209  1336403  Scream  1996   tt0117571     4232"
      ]
     },
     "execution_count": 18,
     "metadata": {},
     "output_type": "execute_result"
    }
   ],
   "source": [
    "dfhulu2[dfhulu2['title'] == 'Scream']"
   ]
  },
  {
   "cell_type": "markdown",
   "id": "5f4ec408-6362-4030-bb2c-39d407b6fbe3",
   "metadata": {},
   "source": [
    "Son distintas peliculas con mismo nombre"
   ]
  },
  {
   "cell_type": "markdown",
   "id": "af2135d7-ca61-4f86-a712-676c76d9544f",
   "metadata": {},
   "source": [
    "### Tipos de columnas"
   ]
  },
  {
   "cell_type": "code",
   "execution_count": 19,
   "id": "709c9686-0b92-4bdc-a2ef-250f1c9f3600",
   "metadata": {},
   "outputs": [
    {
     "data": {
      "text/plain": [
       "id          int64\n",
       "title      object\n",
       "year        int64\n",
       "imdb_id    object\n",
       "tmdb_id     int64\n",
       "dtype: object"
      ]
     },
     "execution_count": 19,
     "metadata": {},
     "output_type": "execute_result"
    }
   ],
   "source": [
    "dfhulu2.dtypes"
   ]
  },
  {
   "cell_type": "markdown",
   "id": "78587aee-f2f6-4f55-92b1-3828e173b306",
   "metadata": {},
   "source": [
    "Los tipos de las columnas estan bien"
   ]
  },
  {
   "cell_type": "markdown",
   "id": "f9efcbc5-e1f1-4ebe-bec2-040b399e7d36",
   "metadata": {},
   "source": [
    "### Analisis de columna `year`"
   ]
  },
  {
   "cell_type": "code",
   "execution_count": 20,
   "id": "72ec8f5c-24b9-4d6f-9397-5f5c2accb757",
   "metadata": {},
   "outputs": [
    {
     "data": {
      "text/plain": [
       "count    1077.000000\n",
       "mean     2016.824513\n",
       "std         9.174974\n",
       "min      1964.000000\n",
       "25%      2012.000000\n",
       "50%      2021.000000\n",
       "75%      2023.000000\n",
       "max      2025.000000\n",
       "Name: year, dtype: float64"
      ]
     },
     "execution_count": 20,
     "metadata": {},
     "output_type": "execute_result"
    }
   ],
   "source": [
    "dfhulu2['year'].describe()"
   ]
  },
  {
   "cell_type": "markdown",
   "id": "4be8a746-9440-40ac-a6cc-5a2bae4b30cc",
   "metadata": {},
   "source": [
    "todos estan dentro de un rango logico"
   ]
  },
  {
   "cell_type": "markdown",
   "id": "97c38027-1257-4ebc-9587-b0fda4aee21d",
   "metadata": {},
   "source": [
    "## Creacion archivo `.csv`\n",
    "Como ya tenemos los datos correctos y limpios, procedemos a guardar en un archivo `.csv`"
   ]
  },
  {
   "cell_type": "code",
   "execution_count": 22,
   "id": "c9a8e1e4-69e2-4787-b536-efb56eb2c0c4",
   "metadata": {},
   "outputs": [],
   "source": [
    "dfhulu2.to_csv('data/api_hulu.csv', index=False)"
   ]
  }
 ],
 "metadata": {
  "kernelspec": {
   "display_name": "Python 3 (ipykernel)",
   "language": "python",
   "name": "python3"
  },
  "language_info": {
   "codemirror_mode": {
    "name": "ipython",
    "version": 3
   },
   "file_extension": ".py",
   "mimetype": "text/x-python",
   "name": "python",
   "nbconvert_exporter": "python",
   "pygments_lexer": "ipython3",
   "version": "3.13.6"
  }
 },
 "nbformat": 4,
 "nbformat_minor": 5
}
