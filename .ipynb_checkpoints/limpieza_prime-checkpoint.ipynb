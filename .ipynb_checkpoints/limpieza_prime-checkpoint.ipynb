{
 "cells": [
  {
   "cell_type": "markdown",
   "id": "dc39c320-e45b-4927-9ba9-53cc0c51f985",
   "metadata": {},
   "source": [
    "# Limpieza de Prime"
   ]
  },
  {
   "cell_type": "markdown",
   "id": "eb5fea03-80ca-49d5-b07f-1cb559ac630c",
   "metadata": {},
   "source": [
    "## Pedir datos a la API"
   ]
  },
  {
   "cell_type": "code",
   "execution_count": 1,
   "id": "c4639437-fb3d-419b-84d9-154826364017",
   "metadata": {},
   "outputs": [],
   "source": [
    "# IMPORTS\n",
    "import numpy as np\n",
    "import pandas as pd\n",
    "import requests as rq\n",
    "from src.buscar_peliculas import buscar_peliculas"
   ]
  },
  {
   "cell_type": "markdown",
   "id": "2d0bde1b-0c13-4ab3-8d44-abf71450184b",
   "metadata": {},
   "source": [
    "Pedimos los datos:"
   ]
  },
  {
   "cell_type": "code",
   "execution_count": 2,
   "id": "f43975c6-08f6-4c10-8569-ba9a09969fdf",
   "metadata": {},
   "outputs": [
    {
     "name": "stdout",
     "output_type": "stream",
     "text": [
      "<Response [200]> 30 7408\n"
     ]
    }
   ],
   "source": [
    "dfprime_raw = buscar_peliculas('Prime')"
   ]
  },
  {
   "cell_type": "markdown",
   "id": "7f2dad34-17d7-44bd-b1f4-c3c801688f62",
   "metadata": {},
   "source": [
    "Fecha de consulta en la API: 18-10-2025 23:06\n",
    "\n",
    "Verificamos que no haya perdida de datos:"
   ]
  },
  {
   "cell_type": "code",
   "execution_count": 3,
   "id": "4fd10e4a-e5f6-45be-87f7-8c2b29d77340",
   "metadata": {},
   "outputs": [
    {
     "name": "stdout",
     "output_type": "stream",
     "text": [
      "[7407, 7408]\n"
     ]
    }
   ],
   "source": [
    "largo_dataframe = len(dfprime_raw[0])\n",
    "largo_segun_API = dfprime_raw[1]\n",
    "print([largo_dataframe, largo_segun_API])"
   ]
  },
  {
   "cell_type": "markdown",
   "id": "d9e81758-ab90-4380-aff5-56713369d9f8",
   "metadata": {},
   "source": [
    "Los largos coinciden"
   ]
  },
  {
   "cell_type": "code",
   "execution_count": 4,
   "id": "358b51eb-4363-4596-82ae-267b32f80ec4",
   "metadata": {},
   "outputs": [],
   "source": [
    "dfprime1 = dfprime_raw[0]"
   ]
  },
  {
   "cell_type": "code",
   "execution_count": 5,
   "id": "37ee4993-eb6b-4af2-bbd9-15e04a53b781",
   "metadata": {},
   "outputs": [
    {
     "data": {
      "text/html": [
       "<div>\n",
       "<style scoped>\n",
       "    .dataframe tbody tr th:only-of-type {\n",
       "        vertical-align: middle;\n",
       "    }\n",
       "\n",
       "    .dataframe tbody tr th {\n",
       "        vertical-align: top;\n",
       "    }\n",
       "\n",
       "    .dataframe thead th {\n",
       "        text-align: right;\n",
       "    }\n",
       "</style>\n",
       "<table border=\"1\" class=\"dataframe\">\n",
       "  <thead>\n",
       "    <tr style=\"text-align: right;\">\n",
       "      <th></th>\n",
       "      <th>id</th>\n",
       "      <th>title</th>\n",
       "      <th>year</th>\n",
       "      <th>imdb_id</th>\n",
       "      <th>tmdb_id</th>\n",
       "      <th>tmdb_type</th>\n",
       "      <th>type</th>\n",
       "    </tr>\n",
       "  </thead>\n",
       "  <tbody>\n",
       "    <tr>\n",
       "      <th>0</th>\n",
       "      <td>11001921</td>\n",
       "      <td>John Candy: I Like Me</td>\n",
       "      <td>2025</td>\n",
       "      <td>tt26683420</td>\n",
       "      <td>1492608</td>\n",
       "      <td>movie</td>\n",
       "      <td>movie</td>\n",
       "    </tr>\n",
       "    <tr>\n",
       "      <th>1</th>\n",
       "      <td>1882904</td>\n",
       "      <td>Maintenance Required</td>\n",
       "      <td>2025</td>\n",
       "      <td>tt33335602</td>\n",
       "      <td>1352755</td>\n",
       "      <td>movie</td>\n",
       "      <td>movie</td>\n",
       "    </tr>\n",
       "    <tr>\n",
       "      <th>2</th>\n",
       "      <td>1535445</td>\n",
       "      <td>Gladiator II</td>\n",
       "      <td>2024</td>\n",
       "      <td>tt9218128</td>\n",
       "      <td>558449</td>\n",
       "      <td>movie</td>\n",
       "      <td>movie</td>\n",
       "    </tr>\n",
       "    <tr>\n",
       "      <th>3</th>\n",
       "      <td>1532981</td>\n",
       "      <td>The Batman</td>\n",
       "      <td>2022</td>\n",
       "      <td>tt1877830</td>\n",
       "      <td>414906</td>\n",
       "      <td>movie</td>\n",
       "      <td>movie</td>\n",
       "    </tr>\n",
       "    <tr>\n",
       "      <th>4</th>\n",
       "      <td>1498670</td>\n",
       "      <td>Nosferatu</td>\n",
       "      <td>2024</td>\n",
       "      <td>tt5040012</td>\n",
       "      <td>426063</td>\n",
       "      <td>movie</td>\n",
       "      <td>movie</td>\n",
       "    </tr>\n",
       "    <tr>\n",
       "      <th>...</th>\n",
       "      <td>...</td>\n",
       "      <td>...</td>\n",
       "      <td>...</td>\n",
       "      <td>...</td>\n",
       "      <td>...</td>\n",
       "      <td>...</td>\n",
       "      <td>...</td>\n",
       "    </tr>\n",
       "    <tr>\n",
       "      <th>7402</th>\n",
       "      <td>1713098</td>\n",
       "      <td>Rage</td>\n",
       "      <td>2023</td>\n",
       "      <td>tt28492037</td>\n",
       "      <td>1129932</td>\n",
       "      <td>movie</td>\n",
       "      <td>movie</td>\n",
       "    </tr>\n",
       "    <tr>\n",
       "      <th>7403</th>\n",
       "      <td>1703537</td>\n",
       "      <td>Wolf Hollow</td>\n",
       "      <td>2023</td>\n",
       "      <td>tt14297962</td>\n",
       "      <td>1082791</td>\n",
       "      <td>movie</td>\n",
       "      <td>movie</td>\n",
       "    </tr>\n",
       "    <tr>\n",
       "      <th>7404</th>\n",
       "      <td>1696692</td>\n",
       "      <td>Dinosaur Hotel 3</td>\n",
       "      <td>2024</td>\n",
       "      <td>tt22462952</td>\n",
       "      <td>1042049</td>\n",
       "      <td>movie</td>\n",
       "      <td>movie</td>\n",
       "    </tr>\n",
       "    <tr>\n",
       "      <th>7405</th>\n",
       "      <td>1686398</td>\n",
       "      <td>Kid Snow</td>\n",
       "      <td>2024</td>\n",
       "      <td>tt21053652</td>\n",
       "      <td>978582</td>\n",
       "      <td>movie</td>\n",
       "      <td>movie</td>\n",
       "    </tr>\n",
       "    <tr>\n",
       "      <th>7406</th>\n",
       "      <td>1644884</td>\n",
       "      <td>Glitter &amp; Doom</td>\n",
       "      <td>2024</td>\n",
       "      <td>tt14304018</td>\n",
       "      <td>879972</td>\n",
       "      <td>movie</td>\n",
       "      <td>movie</td>\n",
       "    </tr>\n",
       "  </tbody>\n",
       "</table>\n",
       "<p>7407 rows × 7 columns</p>\n",
       "</div>"
      ],
      "text/plain": [
       "            id                  title  year     imdb_id  tmdb_id tmdb_type  \\\n",
       "0     11001921  John Candy: I Like Me  2025  tt26683420  1492608     movie   \n",
       "1      1882904   Maintenance Required  2025  tt33335602  1352755     movie   \n",
       "2      1535445           Gladiator II  2024   tt9218128   558449     movie   \n",
       "3      1532981             The Batman  2022   tt1877830   414906     movie   \n",
       "4      1498670              Nosferatu  2024   tt5040012   426063     movie   \n",
       "...        ...                    ...   ...         ...      ...       ...   \n",
       "7402   1713098                   Rage  2023  tt28492037  1129932     movie   \n",
       "7403   1703537            Wolf Hollow  2023  tt14297962  1082791     movie   \n",
       "7404   1696692       Dinosaur Hotel 3  2024  tt22462952  1042049     movie   \n",
       "7405   1686398               Kid Snow  2024  tt21053652   978582     movie   \n",
       "7406   1644884         Glitter & Doom  2024  tt14304018   879972     movie   \n",
       "\n",
       "       type  \n",
       "0     movie  \n",
       "1     movie  \n",
       "2     movie  \n",
       "3     movie  \n",
       "4     movie  \n",
       "...     ...  \n",
       "7402  movie  \n",
       "7403  movie  \n",
       "7404  movie  \n",
       "7405  movie  \n",
       "7406  movie  \n",
       "\n",
       "[7407 rows x 7 columns]"
      ]
     },
     "execution_count": 5,
     "metadata": {},
     "output_type": "execute_result"
    }
   ],
   "source": [
    "dfprime1"
   ]
  },
  {
   "cell_type": "markdown",
   "id": "222606e4-2cac-442b-a495-a2cd16effb28",
   "metadata": {},
   "source": [
    "Guardamos estos datos crudos en un csv"
   ]
  },
  {
   "cell_type": "code",
   "execution_count": 6,
   "id": "13e48376-ce28-4301-ae0d-7b677ae85bcb",
   "metadata": {},
   "outputs": [],
   "source": [
    "dfprime1.to_csv('data/raw_api_prime.csv', index=False)"
   ]
  },
  {
   "cell_type": "markdown",
   "id": "a3416c8b-2a12-439e-94c3-be7551b3a510",
   "metadata": {},
   "source": [
    "## Limpieza\n",
    "### Columnas\n",
    "Las columnas nos entregan los siguientes datos:\n",
    "- `id`: Identificador de la pelicula en la API\n",
    "- `title`: Nombre de la pelicula\n",
    "- `year`: Año de estreno de la pelicula\n",
    "- `imdb_id`: Identificador de la pelicula en IMDB\n",
    "- `tmdb_id`: Identificador de la pelicula en TMDB\n",
    "- `tmdb_type`: Tipo del titulo en TMDB\n",
    "- `type`: Tipo del titulo en la API"
   ]
  },
  {
   "cell_type": "markdown",
   "id": "7745490c-25a8-4f83-b388-90a273e76437",
   "metadata": {},
   "source": [
    "### Eliminar Columnas\n",
    "Como le especificamos a la API que nos entregara solo peliculas, la columna `type` y `tmdb_type` no deberian entregar informacion importante, ya que todas las filas tienen el mismo tipo"
   ]
  },
  {
   "cell_type": "code",
   "execution_count": 8,
   "id": "116ba1c5-bdce-4ece-ab6f-c7cefda25377",
   "metadata": {},
   "outputs": [
    {
     "data": {
      "text/plain": [
       "array(['movie'], dtype=object)"
      ]
     },
     "execution_count": 8,
     "metadata": {},
     "output_type": "execute_result"
    }
   ],
   "source": [
    "dfprime1['type'].unique()"
   ]
  },
  {
   "cell_type": "code",
   "execution_count": 9,
   "id": "8f68405c-e9ab-4050-a13b-608b6c7ca5bf",
   "metadata": {},
   "outputs": [
    {
     "data": {
      "text/plain": [
       "array(['movie', 'tv'], dtype=object)"
      ]
     },
     "execution_count": 9,
     "metadata": {},
     "output_type": "execute_result"
    }
   ],
   "source": [
    "dfprime1['tmdb_type'].unique()"
   ]
  },
  {
   "cell_type": "code",
   "execution_count": 10,
   "id": "df3b1e4e-e2c4-4928-a0c1-d39fab77a6f7",
   "metadata": {},
   "outputs": [
    {
     "data": {
      "text/html": [
       "<div>\n",
       "<style scoped>\n",
       "    .dataframe tbody tr th:only-of-type {\n",
       "        vertical-align: middle;\n",
       "    }\n",
       "\n",
       "    .dataframe tbody tr th {\n",
       "        vertical-align: top;\n",
       "    }\n",
       "\n",
       "    .dataframe thead th {\n",
       "        text-align: right;\n",
       "    }\n",
       "</style>\n",
       "<table border=\"1\" class=\"dataframe\">\n",
       "  <thead>\n",
       "    <tr style=\"text-align: right;\">\n",
       "      <th></th>\n",
       "      <th>id</th>\n",
       "      <th>title</th>\n",
       "      <th>year</th>\n",
       "      <th>imdb_id</th>\n",
       "      <th>tmdb_id</th>\n",
       "      <th>tmdb_type</th>\n",
       "      <th>type</th>\n",
       "    </tr>\n",
       "  </thead>\n",
       "  <tbody>\n",
       "    <tr>\n",
       "      <th>1557</th>\n",
       "      <td>1670695</td>\n",
       "      <td>Halo Legends</td>\n",
       "      <td>2010</td>\n",
       "      <td>tt1480660</td>\n",
       "      <td>60879</td>\n",
       "      <td>tv</td>\n",
       "      <td>movie</td>\n",
       "    </tr>\n",
       "  </tbody>\n",
       "</table>\n",
       "</div>"
      ],
      "text/plain": [
       "           id         title  year    imdb_id  tmdb_id tmdb_type   type\n",
       "1557  1670695  Halo Legends  2010  tt1480660    60879        tv  movie"
      ]
     },
     "execution_count": 10,
     "metadata": {},
     "output_type": "execute_result"
    }
   ],
   "source": [
    "dfprime1[dfprime1['tmdb_type'] == 'tv']"
   ]
  },
  {
   "cell_type": "markdown",
   "id": "e4ba2c0d-e7d9-4213-8c45-e92883f431cb",
   "metadata": {},
   "source": [
    "Como no esta separada por capitulos la consideramos una 'movie'. Al ser todos del mismo tipo, ambas columnas pueden ser eliminadas"
   ]
  },
  {
   "cell_type": "code",
   "execution_count": 11,
   "id": "a1e0c1b1-2852-4d88-9c84-1d0defa459f1",
   "metadata": {},
   "outputs": [],
   "source": [
    "dfprime2 = dfprime1[['id', 'title', 'year', 'imdb_id', 'tmdb_id']]"
   ]
  },
  {
   "cell_type": "markdown",
   "id": "4da25fc9-2119-4cd9-9e05-58464abc5476",
   "metadata": {},
   "source": [
    "### Valores Na"
   ]
  },
  {
   "cell_type": "code",
   "execution_count": 12,
   "id": "feeab27e-20ca-4afd-999e-4b26892af983",
   "metadata": {},
   "outputs": [
    {
     "data": {
      "text/plain": [
       "{'id': np.int64(0),\n",
       " 'title': np.int64(0),\n",
       " 'year': np.int64(0),\n",
       " 'imdb_id': np.int64(0),\n",
       " 'tmdb_id': np.int64(0)}"
      ]
     },
     "execution_count": 12,
     "metadata": {},
     "output_type": "execute_result"
    }
   ],
   "source": [
    "resultados = {}\n",
    "for i in dfprime2.columns:\n",
    "    resultados[i] = dfprime2[i].isna().sum()\n",
    "resultados"
   ]
  },
  {
   "cell_type": "markdown",
   "id": "190523db-9048-4385-a91c-346ecfb496da",
   "metadata": {},
   "source": [
    "### Duplicados"
   ]
  },
  {
   "cell_type": "code",
   "execution_count": 13,
   "id": "b8ca46d6-91f6-4398-bf86-a0db52c8d6ed",
   "metadata": {},
   "outputs": [
    {
     "data": {
      "text/plain": [
       "np.int64(19)"
      ]
     },
     "execution_count": 13,
     "metadata": {},
     "output_type": "execute_result"
    }
   ],
   "source": [
    "dfprime2.duplicated().sum()"
   ]
  },
  {
   "cell_type": "code",
   "execution_count": 14,
   "id": "86bc4c5f-b147-42c8-af30-5f440ca00d19",
   "metadata": {},
   "outputs": [
    {
     "data": {
      "text/html": [
       "<div>\n",
       "<style scoped>\n",
       "    .dataframe tbody tr th:only-of-type {\n",
       "        vertical-align: middle;\n",
       "    }\n",
       "\n",
       "    .dataframe tbody tr th {\n",
       "        vertical-align: top;\n",
       "    }\n",
       "\n",
       "    .dataframe thead th {\n",
       "        text-align: right;\n",
       "    }\n",
       "</style>\n",
       "<table border=\"1\" class=\"dataframe\">\n",
       "  <thead>\n",
       "    <tr style=\"text-align: right;\">\n",
       "      <th></th>\n",
       "      <th>id</th>\n",
       "      <th>title</th>\n",
       "      <th>year</th>\n",
       "      <th>imdb_id</th>\n",
       "      <th>tmdb_id</th>\n",
       "    </tr>\n",
       "  </thead>\n",
       "  <tbody>\n",
       "    <tr>\n",
       "      <th>251</th>\n",
       "      <td>1462878</td>\n",
       "      <td>Waterworld</td>\n",
       "      <td>1995</td>\n",
       "      <td>tt0114898</td>\n",
       "      <td>9804</td>\n",
       "    </tr>\n",
       "    <tr>\n",
       "      <th>750</th>\n",
       "      <td>147479</td>\n",
       "      <td>Ben-Hur</td>\n",
       "      <td>2016</td>\n",
       "      <td>tt2638144</td>\n",
       "      <td>271969</td>\n",
       "    </tr>\n",
       "    <tr>\n",
       "      <th>1500</th>\n",
       "      <td>1131368</td>\n",
       "      <td>FearDotCom</td>\n",
       "      <td>2002</td>\n",
       "      <td>tt0295254</td>\n",
       "      <td>9544</td>\n",
       "    </tr>\n",
       "    <tr>\n",
       "      <th>2500</th>\n",
       "      <td>1146512</td>\n",
       "      <td>Get Thrashed</td>\n",
       "      <td>2006</td>\n",
       "      <td>tt0780524</td>\n",
       "      <td>29124</td>\n",
       "    </tr>\n",
       "    <tr>\n",
       "      <th>3000</th>\n",
       "      <td>1378098</td>\n",
       "      <td>The Bad Kids</td>\n",
       "      <td>2016</td>\n",
       "      <td>tt5278458</td>\n",
       "      <td>376256</td>\n",
       "    </tr>\n",
       "    <tr>\n",
       "      <th>3251</th>\n",
       "      <td>11034204</td>\n",
       "      <td>Cop &amp; a Half</td>\n",
       "      <td>2025</td>\n",
       "      <td>tt32440581</td>\n",
       "      <td>1502910</td>\n",
       "    </tr>\n",
       "    <tr>\n",
       "      <th>3500</th>\n",
       "      <td>1287438</td>\n",
       "      <td>Legend of the Millennium Dragon</td>\n",
       "      <td>2011</td>\n",
       "      <td>tt1849027</td>\n",
       "      <td>74842</td>\n",
       "    </tr>\n",
       "    <tr>\n",
       "      <th>3750</th>\n",
       "      <td>1307736</td>\n",
       "      <td>Pride and Prejudice</td>\n",
       "      <td>2003</td>\n",
       "      <td>tt0366920</td>\n",
       "      <td>18087</td>\n",
       "    </tr>\n",
       "    <tr>\n",
       "      <th>4000</th>\n",
       "      <td>1620215</td>\n",
       "      <td>Me and Me</td>\n",
       "      <td>2020</td>\n",
       "      <td>tt12805676</td>\n",
       "      <td>581529</td>\n",
       "    </tr>\n",
       "    <tr>\n",
       "      <th>4001</th>\n",
       "      <td>1616732</td>\n",
       "      <td>Ramanaa</td>\n",
       "      <td>2002</td>\n",
       "      <td>tt0378647</td>\n",
       "      <td>78955</td>\n",
       "    </tr>\n",
       "    <tr>\n",
       "      <th>4002</th>\n",
       "      <td>1612498</td>\n",
       "      <td>Pulse</td>\n",
       "      <td>2021</td>\n",
       "      <td>tt11680986</td>\n",
       "      <td>608872</td>\n",
       "    </tr>\n",
       "    <tr>\n",
       "      <th>4750</th>\n",
       "      <td>1104390</td>\n",
       "      <td>Digimon Adventure tri. Part 5: Coexistence</td>\n",
       "      <td>2017</td>\n",
       "      <td>tt5468018</td>\n",
       "      <td>461758</td>\n",
       "    </tr>\n",
       "    <tr>\n",
       "      <th>5250</th>\n",
       "      <td>1402712</td>\n",
       "      <td>The Legend of Ben Hall</td>\n",
       "      <td>2016</td>\n",
       "      <td>tt3844876</td>\n",
       "      <td>425774</td>\n",
       "    </tr>\n",
       "    <tr>\n",
       "      <th>5251</th>\n",
       "      <td>1399289</td>\n",
       "      <td>The Invisibles</td>\n",
       "      <td>2017</td>\n",
       "      <td>tt5586052</td>\n",
       "      <td>403308</td>\n",
       "    </tr>\n",
       "    <tr>\n",
       "      <th>5252</th>\n",
       "      <td>1398008</td>\n",
       "      <td>Human Comedy</td>\n",
       "      <td>2017</td>\n",
       "      <td>tt6224580</td>\n",
       "      <td>530388</td>\n",
       "    </tr>\n",
       "    <tr>\n",
       "      <th>5253</th>\n",
       "      <td>1398418</td>\n",
       "      <td>The Idolmaker</td>\n",
       "      <td>1980</td>\n",
       "      <td>tt0080913</td>\n",
       "      <td>42159</td>\n",
       "    </tr>\n",
       "    <tr>\n",
       "      <th>5254</th>\n",
       "      <td>1398141</td>\n",
       "      <td>The Hungry</td>\n",
       "      <td>2017</td>\n",
       "      <td>tt6354784</td>\n",
       "      <td>470642</td>\n",
       "    </tr>\n",
       "    <tr>\n",
       "      <th>5255</th>\n",
       "      <td>1393903</td>\n",
       "      <td>The Girl in the Photographs</td>\n",
       "      <td>2015</td>\n",
       "      <td>tt3826866</td>\n",
       "      <td>354220</td>\n",
       "    </tr>\n",
       "    <tr>\n",
       "      <th>5256</th>\n",
       "      <td>1386401</td>\n",
       "      <td>The Dawnseeker</td>\n",
       "      <td>2018</td>\n",
       "      <td>tt8548792</td>\n",
       "      <td>546391</td>\n",
       "    </tr>\n",
       "  </tbody>\n",
       "</table>\n",
       "</div>"
      ],
      "text/plain": [
       "            id                                       title  year     imdb_id  \\\n",
       "251    1462878                                  Waterworld  1995   tt0114898   \n",
       "750     147479                                     Ben-Hur  2016   tt2638144   \n",
       "1500   1131368                                  FearDotCom  2002   tt0295254   \n",
       "2500   1146512                                Get Thrashed  2006   tt0780524   \n",
       "3000   1378098                                The Bad Kids  2016   tt5278458   \n",
       "3251  11034204                                Cop & a Half  2025  tt32440581   \n",
       "3500   1287438             Legend of the Millennium Dragon  2011   tt1849027   \n",
       "3750   1307736                         Pride and Prejudice  2003   tt0366920   \n",
       "4000   1620215                                   Me and Me  2020  tt12805676   \n",
       "4001   1616732                                     Ramanaa  2002   tt0378647   \n",
       "4002   1612498                                       Pulse  2021  tt11680986   \n",
       "4750   1104390  Digimon Adventure tri. Part 5: Coexistence  2017   tt5468018   \n",
       "5250   1402712                      The Legend of Ben Hall  2016   tt3844876   \n",
       "5251   1399289                              The Invisibles  2017   tt5586052   \n",
       "5252   1398008                                Human Comedy  2017   tt6224580   \n",
       "5253   1398418                               The Idolmaker  1980   tt0080913   \n",
       "5254   1398141                                  The Hungry  2017   tt6354784   \n",
       "5255   1393903                 The Girl in the Photographs  2015   tt3826866   \n",
       "5256   1386401                              The Dawnseeker  2018   tt8548792   \n",
       "\n",
       "      tmdb_id  \n",
       "251      9804  \n",
       "750    271969  \n",
       "1500     9544  \n",
       "2500    29124  \n",
       "3000   376256  \n",
       "3251  1502910  \n",
       "3500    74842  \n",
       "3750    18087  \n",
       "4000   581529  \n",
       "4001    78955  \n",
       "4002   608872  \n",
       "4750   461758  \n",
       "5250   425774  \n",
       "5251   403308  \n",
       "5252   530388  \n",
       "5253    42159  \n",
       "5254   470642  \n",
       "5255   354220  \n",
       "5256   546391  "
      ]
     },
     "execution_count": 14,
     "metadata": {},
     "output_type": "execute_result"
    }
   ],
   "source": [
    "dfprime2[dfprime2.duplicated()]"
   ]
  },
  {
   "cell_type": "code",
   "execution_count": 16,
   "id": "8db8323e-74ec-4cec-b30a-73ad31cb2e1d",
   "metadata": {},
   "outputs": [],
   "source": [
    "dfprime3 = dfprime2.drop_duplicates(keep='first')"
   ]
  },
  {
   "cell_type": "markdown",
   "id": "9169755c-4e48-4cec-8147-175fc5901150",
   "metadata": {},
   "source": [
    "#### imdb_id"
   ]
  },
  {
   "cell_type": "code",
   "execution_count": 17,
   "id": "c56b7ec5-2c78-464b-9a36-46fe8ac9edd7",
   "metadata": {},
   "outputs": [
    {
     "data": {
      "text/plain": [
       "np.int64(1)"
      ]
     },
     "execution_count": 17,
     "metadata": {},
     "output_type": "execute_result"
    }
   ],
   "source": [
    "dfprime3.duplicated('imdb_id').sum()"
   ]
  },
  {
   "cell_type": "code",
   "execution_count": 19,
   "id": "9dafda0d-3869-4186-9bdb-9e2b7c773736",
   "metadata": {},
   "outputs": [
    {
     "data": {
      "text/html": [
       "<div>\n",
       "<style scoped>\n",
       "    .dataframe tbody tr th:only-of-type {\n",
       "        vertical-align: middle;\n",
       "    }\n",
       "\n",
       "    .dataframe tbody tr th {\n",
       "        vertical-align: top;\n",
       "    }\n",
       "\n",
       "    .dataframe thead th {\n",
       "        text-align: right;\n",
       "    }\n",
       "</style>\n",
       "<table border=\"1\" class=\"dataframe\">\n",
       "  <thead>\n",
       "    <tr style=\"text-align: right;\">\n",
       "      <th></th>\n",
       "      <th>id</th>\n",
       "      <th>title</th>\n",
       "      <th>year</th>\n",
       "      <th>imdb_id</th>\n",
       "      <th>tmdb_id</th>\n",
       "    </tr>\n",
       "  </thead>\n",
       "  <tbody>\n",
       "    <tr>\n",
       "      <th>1736</th>\n",
       "      <td>1641857</td>\n",
       "      <td>#Home</td>\n",
       "      <td>2021</td>\n",
       "      <td>tt10534500</td>\n",
       "      <td>859987</td>\n",
       "    </tr>\n",
       "  </tbody>\n",
       "</table>\n",
       "</div>"
      ],
      "text/plain": [
       "           id  title  year     imdb_id  tmdb_id\n",
       "1736  1641857  #Home  2021  tt10534500   859987"
      ]
     },
     "execution_count": 19,
     "metadata": {},
     "output_type": "execute_result"
    }
   ],
   "source": [
    "dfprime3[dfprime3.duplicated('imdb_id')]"
   ]
  },
  {
   "cell_type": "code",
   "execution_count": 20,
   "id": "20a1d90d-343a-4911-872f-3d33e9504dfb",
   "metadata": {},
   "outputs": [],
   "source": [
    "dfprime4 = dfprime3.drop_duplicates('imdb_id', keep='first')"
   ]
  },
  {
   "cell_type": "markdown",
   "id": "60d70ee2-00f8-4e1a-87c3-c3ffb64cbc6a",
   "metadata": {},
   "source": [
    "#### id\n",
    "Deberia ser unico para cada pelicula"
   ]
  },
  {
   "cell_type": "code",
   "execution_count": 21,
   "id": "d32467f6-db63-4a19-a659-e672fcc8f7e8",
   "metadata": {},
   "outputs": [
    {
     "data": {
      "text/plain": [
       "np.int64(0)"
      ]
     },
     "execution_count": 21,
     "metadata": {},
     "output_type": "execute_result"
    }
   ],
   "source": [
    "dfprime4.duplicated('id').sum()"
   ]
  },
  {
   "cell_type": "markdown",
   "id": "2f37ef2a-f53d-4aa3-bc00-a5835f2823e4",
   "metadata": {},
   "source": [
    "#### title\n",
    "Es posible que se repita, ya que hay peliculas con el mismo titulo"
   ]
  },
  {
   "cell_type": "code",
   "execution_count": 22,
   "id": "267951b6-397b-4da1-ad56-6900497d3109",
   "metadata": {},
   "outputs": [
    {
     "data": {
      "text/plain": [
       "np.int64(157)"
      ]
     },
     "execution_count": 22,
     "metadata": {},
     "output_type": "execute_result"
    }
   ],
   "source": [
    "dfprime4.duplicated('title').sum()"
   ]
  },
  {
   "cell_type": "markdown",
   "id": "ac27e826-3b5c-434f-8518-5c4bfbc109a9",
   "metadata": {},
   "source": [
    "revisemos porque se repiten los titulos de las peliculas"
   ]
  },
  {
   "cell_type": "code",
   "execution_count": 24,
   "id": "5988f0e7-9179-4d2f-98b5-69bebbe877ca",
   "metadata": {},
   "outputs": [
    {
     "data": {
      "text/html": [
       "<div>\n",
       "<style scoped>\n",
       "    .dataframe tbody tr th:only-of-type {\n",
       "        vertical-align: middle;\n",
       "    }\n",
       "\n",
       "    .dataframe tbody tr th {\n",
       "        vertical-align: top;\n",
       "    }\n",
       "\n",
       "    .dataframe thead th {\n",
       "        text-align: right;\n",
       "    }\n",
       "</style>\n",
       "<table border=\"1\" class=\"dataframe\">\n",
       "  <thead>\n",
       "    <tr style=\"text-align: right;\">\n",
       "      <th></th>\n",
       "      <th>id</th>\n",
       "      <th>title</th>\n",
       "      <th>year</th>\n",
       "      <th>imdb_id</th>\n",
       "      <th>tmdb_id</th>\n",
       "    </tr>\n",
       "  </thead>\n",
       "  <tbody>\n",
       "    <tr>\n",
       "      <th>386</th>\n",
       "      <td>1412522</td>\n",
       "      <td>The Pink Panther</td>\n",
       "      <td>1963</td>\n",
       "      <td>tt0057413</td>\n",
       "      <td>936</td>\n",
       "    </tr>\n",
       "    <tr>\n",
       "      <th>422</th>\n",
       "      <td>1278557</td>\n",
       "      <td>Nosferatu</td>\n",
       "      <td>1922</td>\n",
       "      <td>tt0013442</td>\n",
       "      <td>653</td>\n",
       "    </tr>\n",
       "    <tr>\n",
       "      <th>602</th>\n",
       "      <td>1291820</td>\n",
       "      <td>Overboard</td>\n",
       "      <td>1987</td>\n",
       "      <td>tt0093693</td>\n",
       "      <td>10780</td>\n",
       "    </tr>\n",
       "    <tr>\n",
       "      <th>756</th>\n",
       "      <td>1637486</td>\n",
       "      <td>Goodnight Mommy</td>\n",
       "      <td>2022</td>\n",
       "      <td>tt9000184</td>\n",
       "      <td>814800</td>\n",
       "    </tr>\n",
       "    <tr>\n",
       "      <th>875</th>\n",
       "      <td>1624418</td>\n",
       "      <td>Drishyam 2</td>\n",
       "      <td>2021</td>\n",
       "      <td>tt12361178</td>\n",
       "      <td>706872</td>\n",
       "    </tr>\n",
       "  </tbody>\n",
       "</table>\n",
       "</div>"
      ],
      "text/plain": [
       "          id             title  year     imdb_id  tmdb_id\n",
       "386  1412522  The Pink Panther  1963   tt0057413      936\n",
       "422  1278557         Nosferatu  1922   tt0013442      653\n",
       "602  1291820         Overboard  1987   tt0093693    10780\n",
       "756  1637486   Goodnight Mommy  2022   tt9000184   814800\n",
       "875  1624418        Drishyam 2  2021  tt12361178   706872"
      ]
     },
     "execution_count": 24,
     "metadata": {},
     "output_type": "execute_result"
    }
   ],
   "source": [
    "dfprime4[dfprime4.duplicated('title')].head()"
   ]
  },
  {
   "cell_type": "code",
   "execution_count": 25,
   "id": "e5ec97e1-5bb1-4278-92d0-fad64bc65c61",
   "metadata": {},
   "outputs": [
    {
     "data": {
      "text/html": [
       "<div>\n",
       "<style scoped>\n",
       "    .dataframe tbody tr th:only-of-type {\n",
       "        vertical-align: middle;\n",
       "    }\n",
       "\n",
       "    .dataframe tbody tr th {\n",
       "        vertical-align: top;\n",
       "    }\n",
       "\n",
       "    .dataframe thead th {\n",
       "        text-align: right;\n",
       "    }\n",
       "</style>\n",
       "<table border=\"1\" class=\"dataframe\">\n",
       "  <thead>\n",
       "    <tr style=\"text-align: right;\">\n",
       "      <th></th>\n",
       "      <th>id</th>\n",
       "      <th>title</th>\n",
       "      <th>year</th>\n",
       "      <th>imdb_id</th>\n",
       "      <th>tmdb_id</th>\n",
       "    </tr>\n",
       "  </thead>\n",
       "  <tbody>\n",
       "    <tr>\n",
       "      <th>254</th>\n",
       "      <td>1412520</td>\n",
       "      <td>The Pink Panther</td>\n",
       "      <td>2006</td>\n",
       "      <td>tt0383216</td>\n",
       "      <td>12096</td>\n",
       "    </tr>\n",
       "    <tr>\n",
       "      <th>386</th>\n",
       "      <td>1412522</td>\n",
       "      <td>The Pink Panther</td>\n",
       "      <td>1963</td>\n",
       "      <td>tt0057413</td>\n",
       "      <td>936</td>\n",
       "    </tr>\n",
       "  </tbody>\n",
       "</table>\n",
       "</div>"
      ],
      "text/plain": [
       "          id             title  year    imdb_id  tmdb_id\n",
       "254  1412520  The Pink Panther  2006  tt0383216    12096\n",
       "386  1412522  The Pink Panther  1963  tt0057413      936"
      ]
     },
     "execution_count": 25,
     "metadata": {},
     "output_type": "execute_result"
    }
   ],
   "source": [
    "dfprime4[dfprime4['title'] == 'The Pink Panther']"
   ]
  },
  {
   "cell_type": "markdown",
   "id": "5f4ec408-6362-4030-bb2c-39d407b6fbe3",
   "metadata": {},
   "source": [
    "Son distintas peliculas con mismo nombre"
   ]
  },
  {
   "cell_type": "markdown",
   "id": "af2135d7-ca61-4f86-a712-676c76d9544f",
   "metadata": {},
   "source": [
    "### Tipos de columnas"
   ]
  },
  {
   "cell_type": "code",
   "execution_count": 26,
   "id": "709c9686-0b92-4bdc-a2ef-250f1c9f3600",
   "metadata": {},
   "outputs": [
    {
     "data": {
      "text/plain": [
       "id          int64\n",
       "title      object\n",
       "year        int64\n",
       "imdb_id    object\n",
       "tmdb_id     int64\n",
       "dtype: object"
      ]
     },
     "execution_count": 26,
     "metadata": {},
     "output_type": "execute_result"
    }
   ],
   "source": [
    "dfprime4.dtypes"
   ]
  },
  {
   "cell_type": "markdown",
   "id": "78587aee-f2f6-4f55-92b1-3828e173b306",
   "metadata": {},
   "source": [
    "Los tipos de las columnas estan bien"
   ]
  },
  {
   "cell_type": "markdown",
   "id": "f9efcbc5-e1f1-4ebe-bec2-040b399e7d36",
   "metadata": {},
   "source": [
    "### Analisis de columna `year`"
   ]
  },
  {
   "cell_type": "code",
   "execution_count": 27,
   "id": "72ec8f5c-24b9-4d6f-9397-5f5c2accb757",
   "metadata": {},
   "outputs": [
    {
     "data": {
      "text/plain": [
       "count    7387.000000\n",
       "mean     2008.387573\n",
       "std        29.598435\n",
       "min         0.000000\n",
       "25%      2005.000000\n",
       "50%      2016.000000\n",
       "75%      2020.000000\n",
       "max      2025.000000\n",
       "Name: year, dtype: float64"
      ]
     },
     "execution_count": 27,
     "metadata": {},
     "output_type": "execute_result"
    }
   ],
   "source": [
    "dfprime4['year'].describe()"
   ]
  },
  {
   "cell_type": "code",
   "execution_count": 28,
   "id": "d7dbc089-ac8d-43d5-82d0-e98f7ce16d2f",
   "metadata": {},
   "outputs": [
    {
     "data": {
      "text/html": [
       "<div>\n",
       "<style scoped>\n",
       "    .dataframe tbody tr th:only-of-type {\n",
       "        vertical-align: middle;\n",
       "    }\n",
       "\n",
       "    .dataframe tbody tr th {\n",
       "        vertical-align: top;\n",
       "    }\n",
       "\n",
       "    .dataframe thead th {\n",
       "        text-align: right;\n",
       "    }\n",
       "</style>\n",
       "<table border=\"1\" class=\"dataframe\">\n",
       "  <thead>\n",
       "    <tr style=\"text-align: right;\">\n",
       "      <th></th>\n",
       "      <th>id</th>\n",
       "      <th>title</th>\n",
       "      <th>year</th>\n",
       "      <th>imdb_id</th>\n",
       "      <th>tmdb_id</th>\n",
       "    </tr>\n",
       "  </thead>\n",
       "  <tbody>\n",
       "    <tr>\n",
       "      <th>4164</th>\n",
       "      <td>1925819</td>\n",
       "      <td>Reality Unleashed</td>\n",
       "      <td>0</td>\n",
       "      <td>tt0426557</td>\n",
       "      <td>466704</td>\n",
       "    </tr>\n",
       "  </tbody>\n",
       "</table>\n",
       "</div>"
      ],
      "text/plain": [
       "           id              title  year    imdb_id  tmdb_id\n",
       "4164  1925819  Reality Unleashed     0  tt0426557   466704"
      ]
     },
     "execution_count": 28,
     "metadata": {},
     "output_type": "execute_result"
    }
   ],
   "source": [
    "dfprime4[dfprime4['year'] == 0]"
   ]
  },
  {
   "cell_type": "code",
   "execution_count": 29,
   "id": "090d4411-7541-43e9-b4e3-f113e9d1df7f",
   "metadata": {},
   "outputs": [],
   "source": [
    "dfprime4.loc[4164, 'year'] = 2005"
   ]
  },
  {
   "cell_type": "code",
   "execution_count": 30,
   "id": "171929cf-f76a-48c6-bdb9-0671e87b4e3d",
   "metadata": {},
   "outputs": [
    {
     "data": {
      "text/plain": [
       "count    7387.000000\n",
       "mean     2008.658996\n",
       "std        18.162548\n",
       "min      1916.000000\n",
       "25%      2005.000000\n",
       "50%      2016.000000\n",
       "75%      2020.000000\n",
       "max      2025.000000\n",
       "Name: year, dtype: float64"
      ]
     },
     "execution_count": 30,
     "metadata": {},
     "output_type": "execute_result"
    }
   ],
   "source": [
    "dfprime4['year'].describe()"
   ]
  },
  {
   "cell_type": "markdown",
   "id": "4be8a746-9440-40ac-a6cc-5a2bae4b30cc",
   "metadata": {},
   "source": [
    "todos estan dentro de un rango logico"
   ]
  },
  {
   "cell_type": "markdown",
   "id": "97c38027-1257-4ebc-9587-b0fda4aee21d",
   "metadata": {},
   "source": [
    "## Creacion archivo `.csv`\n",
    "Como ya tenemos los datos correctos y limpios, procedemos a guardar en un archivo `.csv`"
   ]
  },
  {
   "cell_type": "code",
   "execution_count": 33,
   "id": "c9a8e1e4-69e2-4787-b536-efb56eb2c0c4",
   "metadata": {},
   "outputs": [],
   "source": [
    "dfprime4.to_csv('data/api_prime.csv', index=False)"
   ]
  }
 ],
 "metadata": {
  "kernelspec": {
   "display_name": "Python 3 (ipykernel)",
   "language": "python",
   "name": "python3"
  },
  "language_info": {
   "codemirror_mode": {
    "name": "ipython",
    "version": 3
   },
   "file_extension": ".py",
   "mimetype": "text/x-python",
   "name": "python",
   "nbconvert_exporter": "python",
   "pygments_lexer": "ipython3",
   "version": "3.13.6"
  }
 },
 "nbformat": 4,
 "nbformat_minor": 5
}
