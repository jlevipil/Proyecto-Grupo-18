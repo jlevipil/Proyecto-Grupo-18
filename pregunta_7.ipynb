{
 "cells": [
  {
   "cell_type": "markdown",
   "id": "1d2a9d2c-8436-4418-8862-8577bbc0f38d",
   "metadata": {},
   "source": [
    "# Pregunta 7\n",
    "¿Qué plataforma presenta mejor relación calidad-costo mensual percibida de su catálogo?"
   ]
  },
  {
   "cell_type": "markdown",
   "id": "1cfacbb8-d360-4c62-925f-725bd25f9c66",
   "metadata": {},
   "source": [
    "Para establecer un punto de referencia, utilizaremos la suscripción estándar de cada plataforma para evaluar la relación calidad-precio de cada plataforma.\n",
    "\n",
    "* **Disney:** $10.390 CLP al mes. <br>\n",
    "\n",
    "* **Hulu:** $10.390 CLP al mes.\n",
    "\n",
    "* **HBO Max:** $7.190 CLP al mes.\n",
    "\n",
    "* **Netflix:** $9.990 CLP al mes.\n",
    "\n",
    "* **Paramount:** $4.299 CLP al mes.\n",
    "\n",
    "* **Prime Video:** $6.490 CLP al mes."
   ]
  },
  {
   "cell_type": "code",
   "execution_count": 28,
   "id": "a74dce5c-f754-4a2d-99ef-aee2522e53bf",
   "metadata": {},
   "outputs": [],
   "source": [
    "import pandas as pd\n",
    "import matplotlib.pyplot as plt"
   ]
  },
  {
   "cell_type": "code",
   "execution_count": 29,
   "id": "2a3eb019-3c22-4516-8e9b-4fc888d5ac08",
   "metadata": {},
   "outputs": [],
   "source": [
    "disney = pd.read_csv('data/api_disney.csv')\n",
    "hulu = pd.read_csv('data/api_hulu.csv')\n",
    "hbomax = pd.read_csv('data/api_max.csv')\n",
    "netflix = pd.read_csv('data/api_netflix.csv')\n",
    "paramount = pd.read_csv('data/api_disney.csv')\n",
    "prime = pd.read_csv('data/api_prime.csv')"
   ]
  },
  {
   "cell_type": "markdown",
   "id": "da05599a-eeb4-477b-8a3d-66205228cc64",
   "metadata": {},
   "source": [
    "Tenemos nuestro DataFrame con los ratings de las películas. Le cambiamos el nombre a una de las columnas para poder fusionar los DataFrames."
   ]
  },
  {
   "cell_type": "code",
   "execution_count": 30,
   "id": "b1a6c9dc-00ab-4888-a0e4-3cd8528d3f69",
   "metadata": {},
   "outputs": [
    {
     "data": {
      "text/html": [
       "<div>\n",
       "<style scoped>\n",
       "    .dataframe tbody tr th:only-of-type {\n",
       "        vertical-align: middle;\n",
       "    }\n",
       "\n",
       "    .dataframe tbody tr th {\n",
       "        vertical-align: top;\n",
       "    }\n",
       "\n",
       "    .dataframe thead th {\n",
       "        text-align: right;\n",
       "    }\n",
       "</style>\n",
       "<table border=\"1\" class=\"dataframe\">\n",
       "  <thead>\n",
       "    <tr style=\"text-align: right;\">\n",
       "      <th></th>\n",
       "      <th>imdb_id</th>\n",
       "      <th>averageRating</th>\n",
       "      <th>numVotes</th>\n",
       "    </tr>\n",
       "  </thead>\n",
       "  <tbody>\n",
       "    <tr>\n",
       "      <th>0</th>\n",
       "      <td>tt0000001</td>\n",
       "      <td>5.7</td>\n",
       "      <td>2182</td>\n",
       "    </tr>\n",
       "    <tr>\n",
       "      <th>1</th>\n",
       "      <td>tt0000002</td>\n",
       "      <td>5.5</td>\n",
       "      <td>302</td>\n",
       "    </tr>\n",
       "    <tr>\n",
       "      <th>2</th>\n",
       "      <td>tt0000003</td>\n",
       "      <td>6.4</td>\n",
       "      <td>2256</td>\n",
       "    </tr>\n",
       "    <tr>\n",
       "      <th>3</th>\n",
       "      <td>tt0000004</td>\n",
       "      <td>5.2</td>\n",
       "      <td>194</td>\n",
       "    </tr>\n",
       "    <tr>\n",
       "      <th>4</th>\n",
       "      <td>tt0000005</td>\n",
       "      <td>6.2</td>\n",
       "      <td>2994</td>\n",
       "    </tr>\n",
       "  </tbody>\n",
       "</table>\n",
       "</div>"
      ],
      "text/plain": [
       "     imdb_id  averageRating  numVotes\n",
       "0  tt0000001            5.7      2182\n",
       "1  tt0000002            5.5       302\n",
       "2  tt0000003            6.4      2256\n",
       "3  tt0000004            5.2       194\n",
       "4  tt0000005            6.2      2994"
      ]
     },
     "execution_count": 30,
     "metadata": {},
     "output_type": "execute_result"
    }
   ],
   "source": [
    "imdb_ratings = pd.read_csv('data/title.ratings.tsv', sep='\\t')\n",
    "imdb_ratings.rename(columns={'tconst': 'imdb_id'}, inplace=True)\n",
    "imdb_ratings.head()"
   ]
  },
  {
   "cell_type": "markdown",
   "id": "89519d51-b730-41da-afa1-6d65f01af091",
   "metadata": {},
   "source": [
    "Dejamos sólo las columnas que nos interesan en los DataFrame de cada plataforma."
   ]
  },
  {
   "cell_type": "code",
   "execution_count": 31,
   "id": "4a4d8966-2be7-4812-bdc8-7b1574236ad4",
   "metadata": {},
   "outputs": [
    {
     "data": {
      "text/html": [
       "<div>\n",
       "<style scoped>\n",
       "    .dataframe tbody tr th:only-of-type {\n",
       "        vertical-align: middle;\n",
       "    }\n",
       "\n",
       "    .dataframe tbody tr th {\n",
       "        vertical-align: top;\n",
       "    }\n",
       "\n",
       "    .dataframe thead th {\n",
       "        text-align: right;\n",
       "    }\n",
       "</style>\n",
       "<table border=\"1\" class=\"dataframe\">\n",
       "  <thead>\n",
       "    <tr style=\"text-align: right;\">\n",
       "      <th></th>\n",
       "      <th>title</th>\n",
       "      <th>imdb_id</th>\n",
       "    </tr>\n",
       "  </thead>\n",
       "  <tbody>\n",
       "    <tr>\n",
       "      <th>0</th>\n",
       "      <td>Predator: Killer of Killers</td>\n",
       "      <td>tt36463894</td>\n",
       "    </tr>\n",
       "    <tr>\n",
       "      <th>1</th>\n",
       "      <td>Thunderbolts*</td>\n",
       "      <td>tt20969586</td>\n",
       "    </tr>\n",
       "    <tr>\n",
       "      <th>2</th>\n",
       "      <td>Snow White</td>\n",
       "      <td>tt6208148</td>\n",
       "    </tr>\n",
       "    <tr>\n",
       "      <th>3</th>\n",
       "      <td>Doctor Strange in the Multiverse of Madness</td>\n",
       "      <td>tt9419884</td>\n",
       "    </tr>\n",
       "    <tr>\n",
       "      <th>4</th>\n",
       "      <td>Avatar: The Way of Water</td>\n",
       "      <td>tt1630029</td>\n",
       "    </tr>\n",
       "    <tr>\n",
       "      <th>...</th>\n",
       "      <td>...</td>\n",
       "      <td>...</td>\n",
       "    </tr>\n",
       "    <tr>\n",
       "      <th>795</th>\n",
       "      <td>Fly</td>\n",
       "      <td>tt31189863</td>\n",
       "    </tr>\n",
       "    <tr>\n",
       "      <th>796</th>\n",
       "      <td>Jade Eyed Leopard</td>\n",
       "      <td>tt32059187</td>\n",
       "    </tr>\n",
       "    <tr>\n",
       "      <th>797</th>\n",
       "      <td>Protecting Paradise: The Story of Niue</td>\n",
       "      <td>tt32421420</td>\n",
       "    </tr>\n",
       "    <tr>\n",
       "      <th>798</th>\n",
       "      <td>John Williams in Tokyo</td>\n",
       "      <td>tt36131268</td>\n",
       "    </tr>\n",
       "    <tr>\n",
       "      <th>799</th>\n",
       "      <td>Abracadaver</td>\n",
       "      <td>tt33525840</td>\n",
       "    </tr>\n",
       "  </tbody>\n",
       "</table>\n",
       "<p>800 rows × 2 columns</p>\n",
       "</div>"
      ],
      "text/plain": [
       "                                           title     imdb_id\n",
       "0                    Predator: Killer of Killers  tt36463894\n",
       "1                                  Thunderbolts*  tt20969586\n",
       "2                                     Snow White   tt6208148\n",
       "3    Doctor Strange in the Multiverse of Madness   tt9419884\n",
       "4                       Avatar: The Way of Water   tt1630029\n",
       "..                                           ...         ...\n",
       "795                                          Fly  tt31189863\n",
       "796                            Jade Eyed Leopard  tt32059187\n",
       "797       Protecting Paradise: The Story of Niue  tt32421420\n",
       "798                       John Williams in Tokyo  tt36131268\n",
       "799                                  Abracadaver  tt33525840\n",
       "\n",
       "[800 rows x 2 columns]"
      ]
     },
     "execution_count": 31,
     "metadata": {},
     "output_type": "execute_result"
    }
   ],
   "source": [
    "p_list = [disney, hulu, hbomax, netflix, paramount, prime]\n",
    "\n",
    "for plataforma in p_list:\n",
    "    plataforma.drop(columns=['id', 'year', 'tmdb_id'], inplace=True)\n",
    "p_list[0]"
   ]
  },
  {
   "cell_type": "markdown",
   "id": "043142b1-da70-4cf7-aff1-68535b037f0f",
   "metadata": {},
   "source": [
    "Fusionamos los DataFrame a partir de los elementos que compartan el mismo valor en la columna \"imdb_id\"."
   ]
  },
  {
   "cell_type": "code",
   "execution_count": 32,
   "id": "0032ba2e-147e-4748-b261-438174f3c030",
   "metadata": {},
   "outputs": [
    {
     "data": {
      "text/html": [
       "<div>\n",
       "<style scoped>\n",
       "    .dataframe tbody tr th:only-of-type {\n",
       "        vertical-align: middle;\n",
       "    }\n",
       "\n",
       "    .dataframe tbody tr th {\n",
       "        vertical-align: top;\n",
       "    }\n",
       "\n",
       "    .dataframe thead th {\n",
       "        text-align: right;\n",
       "    }\n",
       "</style>\n",
       "<table border=\"1\" class=\"dataframe\">\n",
       "  <thead>\n",
       "    <tr style=\"text-align: right;\">\n",
       "      <th></th>\n",
       "      <th>title</th>\n",
       "      <th>imdb_id</th>\n",
       "      <th>averageRating</th>\n",
       "      <th>numVotes</th>\n",
       "    </tr>\n",
       "  </thead>\n",
       "  <tbody>\n",
       "    <tr>\n",
       "      <th>0</th>\n",
       "      <td>Predator: Killer of Killers</td>\n",
       "      <td>tt36463894</td>\n",
       "      <td>7.5</td>\n",
       "      <td>47138</td>\n",
       "    </tr>\n",
       "    <tr>\n",
       "      <th>1</th>\n",
       "      <td>Thunderbolts*</td>\n",
       "      <td>tt20969586</td>\n",
       "      <td>7.1</td>\n",
       "      <td>230511</td>\n",
       "    </tr>\n",
       "    <tr>\n",
       "      <th>2</th>\n",
       "      <td>Snow White</td>\n",
       "      <td>tt6208148</td>\n",
       "      <td>2.1</td>\n",
       "      <td>389806</td>\n",
       "    </tr>\n",
       "    <tr>\n",
       "      <th>3</th>\n",
       "      <td>Doctor Strange in the Multiverse of Madness</td>\n",
       "      <td>tt9419884</td>\n",
       "      <td>6.9</td>\n",
       "      <td>529038</td>\n",
       "    </tr>\n",
       "    <tr>\n",
       "      <th>4</th>\n",
       "      <td>Avatar: The Way of Water</td>\n",
       "      <td>tt1630029</td>\n",
       "      <td>7.5</td>\n",
       "      <td>548872</td>\n",
       "    </tr>\n",
       "    <tr>\n",
       "      <th>...</th>\n",
       "      <td>...</td>\n",
       "      <td>...</td>\n",
       "      <td>...</td>\n",
       "      <td>...</td>\n",
       "    </tr>\n",
       "    <tr>\n",
       "      <th>794</th>\n",
       "      <td>Fly</td>\n",
       "      <td>tt31189863</td>\n",
       "      <td>7.2</td>\n",
       "      <td>679</td>\n",
       "    </tr>\n",
       "    <tr>\n",
       "      <th>795</th>\n",
       "      <td>Jade Eyed Leopard</td>\n",
       "      <td>tt32059187</td>\n",
       "      <td>6.1</td>\n",
       "      <td>10</td>\n",
       "    </tr>\n",
       "    <tr>\n",
       "      <th>796</th>\n",
       "      <td>Protecting Paradise: The Story of Niue</td>\n",
       "      <td>tt32421420</td>\n",
       "      <td>6.9</td>\n",
       "      <td>102</td>\n",
       "    </tr>\n",
       "    <tr>\n",
       "      <th>797</th>\n",
       "      <td>John Williams in Tokyo</td>\n",
       "      <td>tt36131268</td>\n",
       "      <td>7.8</td>\n",
       "      <td>63</td>\n",
       "    </tr>\n",
       "    <tr>\n",
       "      <th>798</th>\n",
       "      <td>Abracadaver</td>\n",
       "      <td>tt33525840</td>\n",
       "      <td>4.9</td>\n",
       "      <td>121</td>\n",
       "    </tr>\n",
       "  </tbody>\n",
       "</table>\n",
       "<p>799 rows × 4 columns</p>\n",
       "</div>"
      ],
      "text/plain": [
       "                                           title     imdb_id  averageRating  \\\n",
       "0                    Predator: Killer of Killers  tt36463894            7.5   \n",
       "1                                  Thunderbolts*  tt20969586            7.1   \n",
       "2                                     Snow White   tt6208148            2.1   \n",
       "3    Doctor Strange in the Multiverse of Madness   tt9419884            6.9   \n",
       "4                       Avatar: The Way of Water   tt1630029            7.5   \n",
       "..                                           ...         ...            ...   \n",
       "794                                          Fly  tt31189863            7.2   \n",
       "795                            Jade Eyed Leopard  tt32059187            6.1   \n",
       "796       Protecting Paradise: The Story of Niue  tt32421420            6.9   \n",
       "797                       John Williams in Tokyo  tt36131268            7.8   \n",
       "798                                  Abracadaver  tt33525840            4.9   \n",
       "\n",
       "     numVotes  \n",
       "0       47138  \n",
       "1      230511  \n",
       "2      389806  \n",
       "3      529038  \n",
       "4      548872  \n",
       "..        ...  \n",
       "794       679  \n",
       "795        10  \n",
       "796       102  \n",
       "797        63  \n",
       "798       121  \n",
       "\n",
       "[799 rows x 4 columns]"
      ]
     },
     "execution_count": 32,
     "metadata": {},
     "output_type": "execute_result"
    }
   ],
   "source": [
    "for a in range(6):\n",
    "    p_list[a] = pd.merge(p_list[a], imdb_ratings, on='imdb_id', how='inner')\n",
    "    \n",
    "p_list[0]"
   ]
  },
  {
   "cell_type": "markdown",
   "id": "33930578-9f0c-4bb3-a5d6-38cf56c8d87a",
   "metadata": {},
   "source": [
    "Sacamos la relación dividiendo el promedio total de las películas por el precio de su respectiva plataforma."
   ]
  },
  {
   "cell_type": "code",
   "execution_count": 33,
   "id": "9ce33583-6a9f-4f6d-a5cf-3ac5cf736417",
   "metadata": {},
   "outputs": [
    {
     "data": {
      "text/plain": [
       "[0.0005774783445620789,\n",
       " 0.0005774783445620789,\n",
       " 0.0008344923504867872,\n",
       " 0.0006006006006006006,\n",
       " 0.0013956734124214933,\n",
       " 0.0007704160246533128]"
      ]
     },
     "execution_count": 33,
     "metadata": {},
     "output_type": "execute_result"
    }
   ],
   "source": [
    "l_precios = [10390, 10390, 7190, 9990, 4299, 6490]\n",
    "l_calidad_precio = []\n",
    "\n",
    "for a in range(6):\n",
    "    calidad_promedio = p_list[a]['averageRating'].mean()\n",
    "    l_calidad_precio.append(int(calidad_promedio)/l_precios[a])\n",
    "\n",
    "l_calidad_precio"
   ]
  },
  {
   "cell_type": "markdown",
   "id": "547187aa-00a5-476c-888f-c2444e0c2843",
   "metadata": {},
   "source": [
    "Graficamos para poder visualizar mejor el resultado."
   ]
  },
  {
   "cell_type": "code",
   "execution_count": 34,
   "id": "c2e384ab-9dfd-42b6-b88e-d070c5098234",
   "metadata": {},
   "outputs": [
    {
     "data": {
      "image/png": "[encoded data removed]",
      "text/plain": [
       "<Figure size 1200x600 with 1 Axes>"
      ]
     },
     "metadata": {},
     "output_type": "display_data"
    }
   ],
   "source": [
    "plataformas = ['Disney+', 'Hulu', 'HBO Max', 'Netflix', 'Paramount+', 'Prime Video']\n",
    "\n",
    "plt.figure(figsize=(12,6))\n",
    "\n",
    "plt.bar(plataformas, l_calidad_precio, color='skyblue')\n",
    "plt.xlabel('Plataformas de Streaming')\n",
    "plt.ylabel('Calidad:Precio')\n",
    "plt.title('Relación Calidad-Precio de las películas')\n",
    "plt.xticks(rotation=45)\n",
    "plt.tight_layout()\n",
    "plt.show()"
   ]
  },
  {
   "cell_type": "code",
   "execution_count": null,
   "id": "f9742a25-8854-4c19-a978-93ce54b54fff",
   "metadata": {},
   "outputs": [],
   "source": []
  }
 ],
 "metadata": {
  "kernelspec": {
   "display_name": "Python 3 (ipykernel)",
   "language": "python",
   "name": "python3"
  },
  "language_info": {
   "codemirror_mode": {
    "name": "ipython",
    "version": 3
   },
   "file_extension": ".py",
   "mimetype": "text/x-python",
   "name": "python",
   "nbconvert_exporter": "python",
   "pygments_lexer": "ipython3",
   "version": "3.13.2"
  }
 },
 "nbformat": 4,
 "nbformat_minor": 5
}
