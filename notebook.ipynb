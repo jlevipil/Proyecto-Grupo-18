{
 "cells": [
  {
   "cell_type": "markdown",
   "id": "6bff3fa2",
   "metadata": {},
   "source": [
    "# Streaming inteligente: Eligiendo la mejor plataforma para ver películas"
   ]
  },
  {
   "cell_type": "markdown",
   "id": "973210e8",
   "metadata": {},
   "source": [
    "## Contexto y motivación"
   ]
  },
  {
   "cell_type": "markdown",
   "id": "dabe9ab4",
   "metadata": {},
   "source": [
    "Nuestro proyecto da relevancia a un tema que notamos que suele ser un debate muy común hoy en día, e incluso nosotros mismos lo tenemos. El tema surgió cuando nos dimos cuenta de que todos compartíamos un gusto en común: ver películas. Sin embargo, nos percatamos de un problema frecuente existe una gran variedad de plataformas de streaming, pero no siempre sabemos cuál elegir, ya que cada una tiene algo especial que nos hace inclinarnos hacia ella, aunque no necesariamente sea la mejor opción, ya sea por preferencias personales o por motivos económicos.\n",
    "\n",
    "Por eso mismo, quisimos investigar en base a qué se guía la gente hoy en día al momento de elegir una plataforma de streaming. Visitamos varias páginas de noticias y foros de discusión; entre ellas, destacamos una conversación en Reddit donde observamos que las personas tienden a elegir distintas plataformas según diversos aspectos \"https://www.reddit.com/r/television/comments/1ju49ae/which_streaming_service_overall_is_the_best_in/?tl=es-419.\"\n",
    "Como se ve en la discusión algunas se guían por la calidad de las películas o series, otras por la cantidad de contenido disponible y otras por los precios.\n",
    "\n",
    "Asimismo, notamos que algunos sitios de recomendación se enfocan más en la cantidad de títulos y precios que en la calidad del contenido o otros factores que también son decisivos a la hora de elegir una plataforma.\n",
    "\"https://www.rastreator.com/telefonia/guias/plataformas-streaming\"\n",
    "\n",
    "Por ello, decidimos analizar estas opciones desde diferentes perspectivas: desde quienes priorizan la calidad sobre la cantidad de títulos, hasta quienes buscan una opción más familiar o económica.\n",
    "\n"
   ]
  },
  {
   "cell_type": "markdown",
   "id": "0f2cce9d",
   "metadata": {},
   "source": [
    "### Preguntas objetivos\n"
   ]
  },
  {
   "cell_type": "markdown",
   "id": "c4eed1c0",
   "metadata": {},
   "source": [
    "1. ¿Qué plataforma presenta mayor cantidad de películas?\n",
    "2. ¿Cúal es la plataforma que tiene mayor variedad de géneros?\n",
    "3. ¿Cúal es la pataforma que presenta mayor cantidad de péliculas actuales   y cúal la que concentra más peliculas antiguas en su catálogo?\n",
    "4. ¿Cúal es la plataforma que concentra la mayor cantidad de películas con mejores calificaciones?\n",
    "5. ¿Qué actores se repiten más en el catálogo de cada plataforma?\n",
    "6. ¿Qué directores se repiten más en el catálogo de cada plataforma?\n",
    "7. ¿Qué plataforma presenta mejor la relación calidad y costo mensual percibida de su catálogo? (Especificar mensualidad estándar)\n",
    "8. Si una persona quiere contratar un plan para su familia(el cual tiene hijos pequeños) que plataforma le recomendarías?\n"
   ]
  }
 ],
 "metadata": {
  "kernelspec": {
   "display_name": "Python 3 (ipykernel)",
   "language": "python",
   "name": "python3"
  },
  "language_info": {
   "codemirror_mode": {
    "name": "ipython",
    "version": 3
   },
   "file_extension": ".py",
   "mimetype": "text/x-python",
   "name": "python",
   "nbconvert_exporter": "python",
   "pygments_lexer": "ipython3",
   "version": "3.13.6"
  }
 },
 "nbformat": 4,
 "nbformat_minor": 5
}
