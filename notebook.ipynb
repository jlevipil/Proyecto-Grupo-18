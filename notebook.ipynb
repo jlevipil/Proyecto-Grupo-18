{
 "cells": [
  {
   "cell_type": "markdown",
   "id": "6bff3fa2",
   "metadata": {},
   "source": [
    "# Streaming inteligente: Eligiendo la mejor plataforma para ver películas"
   ]
  },
  {
   "cell_type": "markdown",
   "id": "973210e8",
   "metadata": {},
   "source": [
    "## Contexto y motivación"
   ]
  },
  {
   "cell_type": "markdown",
   "id": "dabe9ab4",
   "metadata": {},
   "source": [
    "Nuestro proyecto da relevancia a un tema que notamos que suele ser un debate muy común hoy en día, e incluso nosotros mismos lo tenemos. El tema surgió cuando nos dimos cuenta de que todos compartíamos un gusto en común: ver películas. Sin embargo, nos percatamos de un problema frecuente existe una gran variedad de plataformas de streaming, pero no siempre sabemos cuál elegir, ya que cada una tiene algo especial que nos hace inclinarnos hacia ella, aunque no necesariamente sea la mejor opción, ya sea por preferencias personales o por motivos económicos.\n",
    "\n",
    "Por eso mismo, quisimos investigar en base a qué se guía la gente hoy en día al momento de elegir una plataforma de streaming. Visitamos varias páginas de noticias y foros de discusión; entre ellas, destacamos una conversación en Reddit donde observamos que las personas tienden a elegir distintas plataformas según diversos aspectos \"https://www.reddit.com/r/television/comments/1ju49ae/which_streaming_service_overall_is_the_best_in/?tl=es-419.\"\n",
    "Como se ve en la discusión algunas se guían por la calidad de las películas o series, otras por la cantidad de contenido disponible y otras por los precios.\n",
    "\n",
    "Asimismo, notamos que algunos sitios de recomendación se enfocan más en la cantidad de títulos y precios que en la calidad del contenido o otros factores que también son decisivos a la hora de elegir una plataforma.\n",
    "\"https://www.rastreator.com/telefonia/guias/plataformas-streaming\"\n",
    "\n",
    "Por ello, decidimos analizar estas opciones desde diferentes perspectivas: desde quienes priorizan la calidad sobre la cantidad de títulos, hasta quienes buscan una opción más familiar o económica.\n",
    "\n"
   ]
  },
  {
   "cell_type": "markdown",
   "id": "3ef3e10c",
   "metadata": {},
   "source": [
    "## Datos"
   ]
  },
  {
   "cell_type": "markdown",
   "id": "5a95ee8b",
   "metadata": {},
   "source": [
    "## **1. API de Watchmode**\n",
    "\n",
    "Esta API tiene un registro sobre distintos títulos, ya sea serie o película, y la disponibilidad de estos en las distintas plataformas de streaming. Cuenta con distintos endpoints para poder buscar individualmente títulos, los detalles de estos, actores que participen en estos y demás, pero principalmente estaremos utilizando el endpoint de List Titles, el cual nos devolverá una lista de títulos que pueden ser filtrados según las características que se pidan, ya sea el tipo de este (si es una serie o película), la disponibilidad en cierta región o plataforma, por géneros y fechas. Los datos que entrega vienen en tipo JSON con los siguientes datos:\n",
    "\n",
    "- id: Dato de tipo int, sirve como identificador único de cada película de la API\n",
    "\n",
    "- title: Dato de tipo string, es el título de la película\n",
    "\n",
    "- year: Dato de tipo int, indica el año en el que se estrenó la película\n",
    "\n",
    "- imdb_id: Dato de tipo string, es el identificador de la película en IMDb\n",
    "\n",
    "- tmdb_id: Dato de tipo string, es el identificador de la película en TMDb\n",
    "\n",
    "- type: Dato categórico, es el tipo (pelicula, serie, etc.) que tiene en la API\n",
    "\n",
    "- tmdb_type: Dato categórico, es el tipo que tiene en TMDb\n"
   ]
  },
  {
   "cell_type": "markdown",
   "id": "25019fe2",
   "metadata": {},
   "source": [
    "##IMAGEN"
   ]
  },
  {
   "cell_type": "markdown",
   "id": "ca93de80",
   "metadata": {},
   "source": [
    "Por ejemplo, la imagen muestra la lista de películas de Netflix obtenidas por la API."
   ]
  },
  {
   "cell_type": "markdown",
   "id": "3b359b41",
   "metadata": {},
   "source": [
    "##  **2. IMDb Non-Commercial Datasets**"
   ]
  },
  {
   "cell_type": "markdown",
   "id": "a56f8c1b",
   "metadata": {},
   "source": [
    "Consisten en archivos de tipo .tsv (Valores separados por tabulaciones), que contienen distintos datos de la página IMDb, a continuación el listado de los archivos y su contenido:\n",
    "\n",
    "### **title.basics.tsv**\n",
    "Contiene datos básicos sobre los títulos (películas, series, etc.) registrados en IMDb, contiene las siguientes columnas:\n",
    "\n",
    "- tconst: Dato de tipo string que sirve como identificador único para los títulos.\n",
    "\n",
    "- titleType: Categórico, indica el tipo de el título (película, serie, etc.).\n",
    "\n",
    "- primaryTitle: String, indica el nombre más popular de la película.\n",
    "\n",
    "- originalTitle: String, indica el nombre original de la película.\n",
    "\n",
    "- isAdult: Bool, indica si el título es o no para adultos.\n",
    "\n",
    "- startYear: Int, año en el que se estrenó, en series es el año en que empezó.\n",
    "\n",
    "- endYear: Int, año en el que terminó la serie, es nulo para los demás tipos.\n",
    "\n",
    "- runtimeMinutes: Int, duración del título en minutos.\n",
    "\n",
    "- genres: Array de strings, contiene hasta 3 géneros asociados al título.\n"
   ]
  },
  {
   "cell_type": "markdown",
   "id": "472ab24d",
   "metadata": {},
   "source": [
    "#### IMAGEN"
   ]
  },
  {
   "cell_type": "markdown",
   "id": "09d4dcea",
   "metadata": {},
   "source": [
    "Fuente: IMDb (Non-Commercial Datasets)"
   ]
  },
  {
   "cell_type": "markdown",
   "id": "814411e4",
   "metadata": {},
   "source": [
    "### **name.basics.tsv**\n",
    "Contiene datos sobre personas relacionadas a los títulos, contiene las siguientes columnas:\n",
    "\n",
    "- nconst: String, sirve como identificador único para las personas.\n",
    "\n",
    "- primaryName:  String, nombre con el que frecuentemente recibe crédito la persona.\n",
    "\n",
    "- birthYear: Int, año de nacimiento de la persona.\n",
    "\n",
    "- deathYear: Int, año de fallecimiento de la persona, es nulo si no aplica.\n",
    "\n",
    "- primaryProfession: Array de strings, hasta 3 profesiones por las que es más conocida la persona.\n",
    "\n",
    "- knownForTitles: Array de strings, títulos por los que es conocida la persona.\n"
   ]
  },
  {
   "cell_type": "markdown",
   "id": "13ec0c50",
   "metadata": {},
   "source": [
    "### IMAGEN"
   ]
  },
  {
   "cell_type": "markdown",
   "id": "3e6f3a3d",
   "metadata": {},
   "source": [
    "Fuente: IMDb (Non-Commercial Datasets)"
   ]
  },
  {
   "cell_type": "markdown",
   "id": "8da3a4f5",
   "metadata": {},
   "source": [
    "### **title.ratings.tv**\n",
    "Contiene los rankings y cantidad de votos que ha recibido cada título, contiene las siguientes columnas:\n",
    "\n",
    "- tconst: String, sirve como identificador único de los títulos.\n",
    "\n",
    "- averageRating: Float, puntuación promediada de los votos.\n",
    "\n",
    "- numVotes: Int, cantidad de votos que ha recibido el título.\n"
   ]
  },
  {
   "cell_type": "markdown",
   "id": "d87716e3",
   "metadata": {},
   "source": [
    "### **title.crew.tsv**\n",
    "Contiene los identificadores de los directores y escritores de cada título, contiene las siguientes columnas:\n",
    "\n",
    "- tconst: String, sirve como identificador único de los títulos.\n",
    "\n",
    "- directors: Array de strings, identificadores de los directores del título.\n",
    "\n",
    "- writers: Array de strings, identificadores de los escritores del título"
   ]
  },
  {
   "cell_type": "markdown",
   "id": "c2409dc9",
   "metadata": {},
   "source": [
    "### IMAGEN"
   ]
  },
  {
   "cell_type": "markdown",
   "id": "ee1558e5",
   "metadata": {},
   "source": [
    "Fuente: IMDb (Non-Commercial Datasets)"
   ]
  },
  {
   "cell_type": "markdown",
   "id": "5ae67ba4",
   "metadata": {},
   "source": [
    "### **title.principals.tsv**\n",
    "Relaciona los títulos con las personas, mostrando que rol tiene cada persona en los títulos, contiene las siguientes columnas:\n",
    "\n",
    "\n",
    "- tconst: String, sirve como identificador único de los títulos.\n",
    "\n",
    "- ordering: Int, sirve para diferenciar las filas, enumerando las relaciones entre personas y una misma película\n",
    "\n",
    "- nconst: String, sirve como identificador único de las personas\n",
    "\n",
    "- category: String, la categoría de trabajo que hace la persona\n"
   ]
  },
  {
   "cell_type": "markdown",
   "id": "38925acf",
   "metadata": {},
   "source": [
    "### IMAGEN"
   ]
  },
  {
   "cell_type": "markdown",
   "id": "066869ea",
   "metadata": {},
   "source": [
    "Fuente: IMDb (Non-Commercial Datasets)"
   ]
  },
  {
   "cell_type": "markdown",
   "id": "76ea995e",
   "metadata": {},
   "source": [
    "## **Archivo IMDb Integración y preparación inicial**"
   ]
  },
  {
   "cell_type": "markdown",
   "id": "4009c2af",
   "metadata": {},
   "source": [
    "En el notebook **imbd_netflix.ipynb**, el proceso se centra en extraer y combinar datos provenientes de los IMDb Non-Commercial Datasets.\n",
    "El objetivo es construir una base de datos unificada con información de películas que también aparecían en la API de Watchmode.\n",
    "\n",
    "Fuentes utilizadas\n",
    "\n",
    "Se cargaron varios archivos .tsv de IMDb:\n",
    "\n",
    "- title.basics.tsv → datos generales (año, género, duración, tipo)\n",
    "\n",
    "- title.ratings.tsv → puntuaciones promedio y número de votos\n",
    "\n",
    "- title.principals.tsv → actores, directores, equipo\n",
    "\n",
    "- name.basics.tsv y title.crew.tsv para relacionar personas con títulos"
   ]
  },
  {
   "cell_type": "markdown",
   "id": "ffb29fb6",
   "metadata": {},
   "source": [
    "#### **Procesos aplicados**\n",
    "\n",
    "#### 1. **Lectura de archivos:**"
   ]
  },
  {
   "cell_type": "code",
   "execution_count": null,
   "id": "d033ba4f",
   "metadata": {
    "vscode": {
     "languageId": "plaintext"
    }
   },
   "outputs": [],
   "source": [
    "imdb_basics = pd.read_csv('title.basics.tsv', sep='\\t')\n",
    "imdb_ratings = pd.read_csv('title.ratings.tsv', sep='\\t')\n",
    "imdb_principals = pd.read_csv('title.principals.tsv', sep='\\t')"
   ]
  },
  {
   "cell_type": "markdown",
   "id": "321f3b7b",
   "metadata": {},
   "source": [
    "Se usó sep='\\t' porque los archivos están separados por tabulaciones."
   ]
  },
  {
   "cell_type": "markdown",
   "id": "07b15ffc",
   "metadata": {},
   "source": [
    "#### 2. **Filtrado de películas:**\n",
    "\n",
    "Solo se conservaron los registros cuyo titleType es 'movie', descartando series, cortos y otros tipos:"
   ]
  },
  {
   "cell_type": "code",
   "execution_count": null,
   "id": "5001c8fb",
   "metadata": {
    "vscode": {
     "languageId": "plaintext"
    }
   },
   "outputs": [],
   "source": [
    "imdb_basics = imdb_basics[imdb_basics['titleType'] == 'movie']"
   ]
  },
  {
   "cell_type": "markdown",
   "id": "4957d68c",
   "metadata": {},
   "source": [
    "#### 3. **Selección de columnas relevantes:**\n",
    "\n",
    "Se mantuvieron campos clave como tconst, primaryTitle, startYear, runtimeMinutes, genres."
   ]
  },
  {
   "cell_type": "markdown",
   "id": "34b82eb2",
   "metadata": {},
   "source": [
    "#### 4. **Conversión de tipos de datos:**\n",
    "\n",
    "Se convirtieron columnas numéricas (startYear, runtimeMinutes) a int, manejando valores nulos con NaN.\n",
    "\n",
    "Las listas de géneros (genres) se separaron en strings para su futura comparación."
   ]
  },
  {
   "cell_type": "markdown",
   "id": "f40571e3",
   "metadata": {},
   "source": [
    "#### 5. **Unión de datasets:**\n",
    "\n",
    "Los conjuntos title.basics y title.ratings se unieron por el identificador tconst:"
   ]
  },
  {
   "cell_type": "code",
   "execution_count": null,
   "id": "40d37281",
   "metadata": {
    "vscode": {
     "languageId": "plaintext"
    }
   },
   "outputs": [],
   "source": [
    "imdb_full = imdb_basics.merge(imdb_ratings, on='tconst', how='left')"
   ]
  },
  {
   "cell_type": "markdown",
   "id": "fb924c73",
   "metadata": {},
   "source": [
    "Esto permitió incluir la calificación promedio y número de votos de cada película."
   ]
  },
  {
   "cell_type": "markdown",
   "id": "c39a4a66",
   "metadata": {},
   "source": [
    "#### 6. **Integración con Watchmode:**\n",
    "\n",
    "Luego se emparejó con el dataset de películas de Netflix obtenido mediante la API, usando la clave imdb_id ↔ tconst."
   ]
  },
  {
   "cell_type": "markdown",
   "id": "02760b81",
   "metadata": {},
   "source": [
    "## **Archivo Limpieza – Depuración de datos**"
   ]
  },
  {
   "cell_type": "markdown",
   "id": "d1c30827",
   "metadata": {},
   "source": [
    "El notebook limpieza_netflix.ipynb contiene la fase de limpieza y validación, donde se eliminaron, transformaron y estandarizaron los valores de los datos unificados.\n",
    "\n",
    "Principales tareas de limpieza"
   ]
  },
  {
   "cell_type": "markdown",
   "id": "500f3d5a",
   "metadata": {},
   "source": [
    "#### 1. **Eliminación de valores nulos:**\n",
    "\n",
    "Se detectaron columnas con valores faltantes (isna()) y se eliminaron o reemplazaron según el caso:"
   ]
  },
  {
   "cell_type": "code",
   "execution_count": null,
   "id": "25b74bf7",
   "metadata": {
    "vscode": {
     "languageId": "plaintext"
    }
   },
   "outputs": [],
   "source": [
    "df = df.dropna(subset=['title', 'year'])"
   ]
  },
  {
   "cell_type": "markdown",
   "id": "be5a42e7",
   "metadata": {},
   "source": [
    "En otras columnas menos críticas (como genres o runtimeMinutes), se imputaron valores:"
   ]
  },
  {
   "cell_type": "code",
   "execution_count": null,
   "id": "7e6d0816",
   "metadata": {
    "vscode": {
     "languageId": "plaintext"
    }
   },
   "outputs": [],
   "source": [
    "df['runtimeMinutes'].fillna(df['runtimeMinutes'].median(), inplace=True)"
   ]
  },
  {
   "cell_type": "markdown",
   "id": "05b81298",
   "metadata": {},
   "source": [
    "#### 2. **Manejo de duplicados:**\n",
    "\n",
    "Se eliminaron duplicados basados en el identificador imdb_id o title:"
   ]
  },
  {
   "cell_type": "code",
   "execution_count": null,
   "id": "cf70a541",
   "metadata": {
    "vscode": {
     "languageId": "plaintext"
    }
   },
   "outputs": [],
   "source": [
    "df = df.drop_duplicates(subset='imdb_id', keep='first')"
   ]
  },
  {
   "cell_type": "markdown",
   "id": "b188f63b",
   "metadata": {},
   "source": [
    "#### 3. **Normalización de tipos de datos:**\n",
    "\n",
    "- Columnas numéricas (year, runtimeMinutes, averageRating, numVotes) convertidas a tipos numéricos (int o float).\n",
    "\n",
    "- Textos (title, genres, category) convertidos a minúsculas y sin espacios extra:"
   ]
  },
  {
   "cell_type": "code",
   "execution_count": null,
   "id": "3a7c55d1",
   "metadata": {
    "vscode": {
     "languageId": "plaintext"
    }
   },
   "outputs": [],
   "source": [
    "df['genres'] = df['genres'].str.lower().str.strip()"
   ]
  },
  {
   "cell_type": "markdown",
   "id": "5bac3cdc",
   "metadata": {},
   "source": [
    "#### 4. **Filtrado por rango válido:**\n",
    "\n",
    "Se eliminaron registros con valores fuera de rango, por ejemplo:\n",
    "\n",
    "- Películas con años fuera de 1900–2025.\n",
    "\n",
    "- Duraciones extremadamente cortas o largas (outliers):"
   ]
  },
  {
   "cell_type": "code",
   "execution_count": null,
   "id": "3577c9f9",
   "metadata": {
    "vscode": {
     "languageId": "plaintext"
    }
   },
   "outputs": [],
   "source": [
    "df = df[(df['runtimeMinutes'] > 30) & (df['runtimeMinutes'] < 300)]"
   ]
  },
  {
   "cell_type": "markdown",
   "id": "74d90e6e",
   "metadata": {},
   "source": [
    "#### 5. **Creación de variables derivadas (feature engineering):**\n",
    "\n",
    "- Se calcularon puntuaciones ponderadas según el número de votos.\n",
    "\n",
    "- Se crearon variables como decada o genero_principal para análisis comparativos.\n",
    "\n",
    "- Estandarización de nombres de plataformas (Netflix, Hulu, etc.) en una sola columna."
   ]
  },
  {
   "cell_type": "markdown",
   "id": "80ef7310",
   "metadata": {},
   "source": [
    "#### 6. **Validación final y exportación:**\n",
    "\n",
    "Después de verificar los tipos y nulos:"
   ]
  },
  {
   "cell_type": "code",
   "execution_count": null,
   "id": "bf18545d",
   "metadata": {
    "vscode": {
     "languageId": "plaintext"
    }
   },
   "outputs": [],
   "source": [
    "df.info()\n",
    "df.to_csv('catalogo_limpio.csv', index=False)"
   ]
  },
  {
   "cell_type": "markdown",
   "id": "e28a257a",
   "metadata": {},
   "source": [
    "Así se obtuvo una base limpia y unificada lista para análisis comparativos y visualizaciones."
   ]
  },
  {
   "cell_type": "markdown",
   "id": "86e7f78a",
   "metadata": {},
   "source": [
    "### **Nota sobre el uso de los datos:**\n",
    "Los datos utilizados en este proyecto provienen de Watchmode API y de los IMDb Non-Commercial Datasets. El uso de los datos de IMDb se realiza bajo las condiciones de sus Noncommercial Datasets, disponibles en IMDb Non-Commercial Datasets, exclusivamente para fines académicos y de investigación no comercial.\n",
    "\n",
    "Los datos fueron procesados en dos etapas: primero se realizó la integración de archivos IMDb, extrayendo información de títulos, calificaciones y géneros mediante archivos .tsv. Luego, se realizo la limpieza y normalización, eliminando duplicados, valores nulos y registros inválidos, además de convertir los tipos de datos y crear variables derivadas para facilitar el análisis comparativo entre plataformas.\n",
    "El resultado fue un dataset consolidado y validado que permitió calcular métricas como cantidad de películas, variedad de géneros y calificaciones promedio por plataforma, base para responder a las preguntas de investigación planteadas."
   ]
  },
  {
   "cell_type": "markdown",
   "id": "0f2cce9d",
   "metadata": {},
   "source": [
    "### Preguntas objetivos\n"
   ]
  },
  {
   "cell_type": "markdown",
   "id": "c4eed1c0",
   "metadata": {},
   "source": [
    "1. ¿Qué plataforma presenta mayor cantidad de películas?\n",
    "2. ¿Cúal es la plataforma que tiene mayor variedad de géneros?\n",
    "3. ¿Cúal es la pataforma que presenta mayor cantidad de péliculas actuales   y cúal la que concentra más peliculas antiguas en su catálogo?\n",
    "4. ¿Cúal es la plataforma que concentra la mayor cantidad de películas con mejores calificaciones?\n",
    "5. ¿Qué actores se repiten más en el catálogo de cada plataforma?\n",
    "6. ¿Qué directores se repiten más en el catálogo de cada plataforma?\n",
    "7. ¿Qué plataforma presenta mejor la relación calidad y costo mensual percibida de su catálogo? (Especificar mensualidad estándar)\n",
    "8. Si una persona quiere contratar un plan para su familia(el cual tiene hijos pequeños) que plataforma le recomendarías?\n"
   ]
  }
 ],
 "metadata": {
  "kernelspec": {
   "display_name": "Python 3 (ipykernel)",
   "language": "python",
   "name": "python3"
  },
  "language_info": {
   "codemirror_mode": {
    "name": "ipython",
    "version": 3
   },
   "file_extension": ".py",
   "mimetype": "text/x-python",
   "name": "python",
   "nbconvert_exporter": "python",
   "pygments_lexer": "ipython3",
   "version": "3.13.6"
  }
 },
 "nbformat": 4,
 "nbformat_minor": 5
}
