{
 "cells": [
  {
   "cell_type": "markdown",
   "id": "dc39c320-e45b-4927-9ba9-53cc0c51f985",
   "metadata": {},
   "source": [
    "# Limpieza de Paramount+"
   ]
  },
  {
   "cell_type": "markdown",
   "id": "eb5fea03-80ca-49d5-b07f-1cb559ac630c",
   "metadata": {},
   "source": [
    "## Pedir datos a la API"
   ]
  },
  {
   "cell_type": "code",
   "execution_count": 1,
   "id": "c4639437-fb3d-419b-84d9-154826364017",
   "metadata": {},
   "outputs": [],
   "source": [
    "# IMPORTS\n",
    "import numpy as np\n",
    "import pandas as pd\n",
    "import requests as rq\n",
    "from src.buscar_peliculas import buscar_peliculas"
   ]
  },
  {
   "cell_type": "markdown",
   "id": "2d0bde1b-0c13-4ab3-8d44-abf71450184b",
   "metadata": {},
   "source": [
    "Pedimos los datos:"
   ]
  },
  {
   "cell_type": "code",
   "execution_count": 2,
   "id": "f43975c6-08f6-4c10-8569-ba9a09969fdf",
   "metadata": {},
   "outputs": [
    {
     "name": "stdout",
     "output_type": "stream",
     "text": [
      "<Response [200]> 2 459\n"
     ]
    }
   ],
   "source": [
    "dfparamount_raw = buscar_peliculas('Paramount+')"
   ]
  },
  {
   "cell_type": "markdown",
   "id": "7f2dad34-17d7-44bd-b1f4-c3c801688f62",
   "metadata": {},
   "source": [
    "Fecha de consulta en la API: 17-10-2025 1:50\n",
    "\n",
    "Verificamos que no haya perdida de datos:"
   ]
  },
  {
   "cell_type": "code",
   "execution_count": 3,
   "id": "4fd10e4a-e5f6-45be-87f7-8c2b29d77340",
   "metadata": {},
   "outputs": [
    {
     "name": "stdout",
     "output_type": "stream",
     "text": [
      "[459, 459]\n"
     ]
    }
   ],
   "source": [
    "largo_dataframe = len(dfparamount_raw[0])\n",
    "largo_segun_API = dfparamount_raw[1]\n",
    "print([largo_dataframe, largo_segun_API])"
   ]
  },
  {
   "cell_type": "markdown",
   "id": "d9e81758-ab90-4380-aff5-56713369d9f8",
   "metadata": {},
   "source": [
    "Los largos coinciden"
   ]
  },
  {
   "cell_type": "code",
   "execution_count": 4,
   "id": "358b51eb-4363-4596-82ae-267b32f80ec4",
   "metadata": {},
   "outputs": [],
   "source": [
    "dfparamount1 = dfparamount_raw[0]"
   ]
  },
  {
   "cell_type": "code",
   "execution_count": 5,
   "id": "37ee4993-eb6b-4af2-bbd9-15e04a53b781",
   "metadata": {},
   "outputs": [
    {
     "data": {
      "text/html": [
       "<div>\n",
       "<style scoped>\n",
       "    .dataframe tbody tr th:only-of-type {\n",
       "        vertical-align: middle;\n",
       "    }\n",
       "\n",
       "    .dataframe tbody tr th {\n",
       "        vertical-align: top;\n",
       "    }\n",
       "\n",
       "    .dataframe thead th {\n",
       "        text-align: right;\n",
       "    }\n",
       "</style>\n",
       "<table border=\"1\" class=\"dataframe\">\n",
       "  <thead>\n",
       "    <tr style=\"text-align: right;\">\n",
       "      <th></th>\n",
       "      <th>id</th>\n",
       "      <th>title</th>\n",
       "      <th>year</th>\n",
       "      <th>imdb_id</th>\n",
       "      <th>tmdb_id</th>\n",
       "      <th>tmdb_type</th>\n",
       "      <th>type</th>\n",
       "    </tr>\n",
       "  </thead>\n",
       "  <tbody>\n",
       "    <tr>\n",
       "      <th>0</th>\n",
       "      <td>11035730</td>\n",
       "      <td>Ozzy: No Escape from Now</td>\n",
       "      <td>2025</td>\n",
       "      <td>tt35922832</td>\n",
       "      <td>1508191</td>\n",
       "      <td>movie</td>\n",
       "      <td>movie</td>\n",
       "    </tr>\n",
       "    <tr>\n",
       "      <th>1</th>\n",
       "      <td>1535445</td>\n",
       "      <td>Gladiator II</td>\n",
       "      <td>2024</td>\n",
       "      <td>tt9218128</td>\n",
       "      <td>558449</td>\n",
       "      <td>movie</td>\n",
       "      <td>movie</td>\n",
       "    </tr>\n",
       "    <tr>\n",
       "      <th>2</th>\n",
       "      <td>1437213</td>\n",
       "      <td>Top Gun: Maverick</td>\n",
       "      <td>2022</td>\n",
       "      <td>tt1745960</td>\n",
       "      <td>361743</td>\n",
       "      <td>movie</td>\n",
       "      <td>movie</td>\n",
       "    </tr>\n",
       "    <tr>\n",
       "      <th>3</th>\n",
       "      <td>1856741</td>\n",
       "      <td>Better Man</td>\n",
       "      <td>2024</td>\n",
       "      <td>tt14260836</td>\n",
       "      <td>799766</td>\n",
       "      <td>movie</td>\n",
       "      <td>movie</td>\n",
       "    </tr>\n",
       "    <tr>\n",
       "      <th>4</th>\n",
       "      <td>1583908</td>\n",
       "      <td>The Menu</td>\n",
       "      <td>2022</td>\n",
       "      <td>tt9764362</td>\n",
       "      <td>593643</td>\n",
       "      <td>movie</td>\n",
       "      <td>movie</td>\n",
       "    </tr>\n",
       "    <tr>\n",
       "      <th>...</th>\n",
       "      <td>...</td>\n",
       "      <td>...</td>\n",
       "      <td>...</td>\n",
       "      <td>...</td>\n",
       "      <td>...</td>\n",
       "      <td>...</td>\n",
       "      <td>...</td>\n",
       "    </tr>\n",
       "    <tr>\n",
       "      <th>454</th>\n",
       "      <td>1302376</td>\n",
       "      <td>Piñero</td>\n",
       "      <td>2001</td>\n",
       "      <td>tt0261066</td>\n",
       "      <td>55479</td>\n",
       "      <td>movie</td>\n",
       "      <td>movie</td>\n",
       "    </tr>\n",
       "    <tr>\n",
       "      <th>455</th>\n",
       "      <td>1702437</td>\n",
       "      <td>Kiss the Future</td>\n",
       "      <td>2024</td>\n",
       "      <td>tt17022868</td>\n",
       "      <td>1075845</td>\n",
       "      <td>movie</td>\n",
       "      <td>movie</td>\n",
       "    </tr>\n",
       "    <tr>\n",
       "      <th>456</th>\n",
       "      <td>1623462</td>\n",
       "      <td>Sabaya</td>\n",
       "      <td>2021</td>\n",
       "      <td>tt13567374</td>\n",
       "      <td>776555</td>\n",
       "      <td>movie</td>\n",
       "      <td>movie</td>\n",
       "    </tr>\n",
       "    <tr>\n",
       "      <th>457</th>\n",
       "      <td>2749397</td>\n",
       "      <td>Smile</td>\n",
       "      <td>2023</td>\n",
       "      <td>tt22982202</td>\n",
       "      <td>1038522</td>\n",
       "      <td>movie</td>\n",
       "      <td>movie</td>\n",
       "    </tr>\n",
       "    <tr>\n",
       "      <th>458</th>\n",
       "      <td>1705096</td>\n",
       "      <td>Chantilly Bridge</td>\n",
       "      <td>2023</td>\n",
       "      <td>tt15038732</td>\n",
       "      <td>1094256</td>\n",
       "      <td>movie</td>\n",
       "      <td>movie</td>\n",
       "    </tr>\n",
       "  </tbody>\n",
       "</table>\n",
       "<p>459 rows × 7 columns</p>\n",
       "</div>"
      ],
      "text/plain": [
       "           id                     title  year     imdb_id  tmdb_id tmdb_type  \\\n",
       "0    11035730  Ozzy: No Escape from Now  2025  tt35922832  1508191     movie   \n",
       "1     1535445              Gladiator II  2024   tt9218128   558449     movie   \n",
       "2     1437213         Top Gun: Maverick  2022   tt1745960   361743     movie   \n",
       "3     1856741                Better Man  2024  tt14260836   799766     movie   \n",
       "4     1583908                  The Menu  2022   tt9764362   593643     movie   \n",
       "..        ...                       ...   ...         ...      ...       ...   \n",
       "454   1302376                    Piñero  2001   tt0261066    55479     movie   \n",
       "455   1702437           Kiss the Future  2024  tt17022868  1075845     movie   \n",
       "456   1623462                    Sabaya  2021  tt13567374   776555     movie   \n",
       "457   2749397                     Smile  2023  tt22982202  1038522     movie   \n",
       "458   1705096          Chantilly Bridge  2023  tt15038732  1094256     movie   \n",
       "\n",
       "      type  \n",
       "0    movie  \n",
       "1    movie  \n",
       "2    movie  \n",
       "3    movie  \n",
       "4    movie  \n",
       "..     ...  \n",
       "454  movie  \n",
       "455  movie  \n",
       "456  movie  \n",
       "457  movie  \n",
       "458  movie  \n",
       "\n",
       "[459 rows x 7 columns]"
      ]
     },
     "execution_count": 5,
     "metadata": {},
     "output_type": "execute_result"
    }
   ],
   "source": [
    "dfparamount1"
   ]
  },
  {
   "cell_type": "markdown",
   "id": "222606e4-2cac-442b-a495-a2cd16effb28",
   "metadata": {},
   "source": [
    "Guardamos estos datos crudos en un csv"
   ]
  },
  {
   "cell_type": "code",
   "execution_count": 23,
   "id": "13e48376-ce28-4301-ae0d-7b677ae85bcb",
   "metadata": {},
   "outputs": [],
   "source": [
    "dfparamount1.to_csv('data/raw_api_paramount.csv', index=False)"
   ]
  },
  {
   "cell_type": "markdown",
   "id": "a3416c8b-2a12-439e-94c3-be7551b3a510",
   "metadata": {},
   "source": [
    "## Limpieza\n",
    "### Columnas\n",
    "Las columnas nos entregan los siguientes datos:\n",
    "- `id`: Identificador de la pelicula en la API\n",
    "- `title`: Nombre de la pelicula\n",
    "- `year`: Año de estreno de la pelicula\n",
    "- `imdb_id`: Identificador de la pelicula en IMDB\n",
    "- `tmdb_id`: Identificador de la pelicula en TMDB\n",
    "- `tmdb_type`: Tipo del titulo en TMDB\n",
    "- `type`: Tipo del titulo en la API"
   ]
  },
  {
   "cell_type": "markdown",
   "id": "7745490c-25a8-4f83-b388-90a273e76437",
   "metadata": {},
   "source": [
    "### Eliminar Columnas\n",
    "Como le especificamos a la API que nos entregara solo peliculas, la columna `type` y `tmdb_type` no deberian entregar informacion importante, ya que todas las filas tienen el mismo tipo"
   ]
  },
  {
   "cell_type": "code",
   "execution_count": 7,
   "id": "116ba1c5-bdce-4ece-ab6f-c7cefda25377",
   "metadata": {},
   "outputs": [
    {
     "data": {
      "text/plain": [
       "array(['movie'], dtype=object)"
      ]
     },
     "execution_count": 7,
     "metadata": {},
     "output_type": "execute_result"
    }
   ],
   "source": [
    "dfparamount1['type'].unique()"
   ]
  },
  {
   "cell_type": "code",
   "execution_count": 8,
   "id": "8f68405c-e9ab-4050-a13b-608b6c7ca5bf",
   "metadata": {},
   "outputs": [
    {
     "data": {
      "text/plain": [
       "array(['movie', 'tv'], dtype=object)"
      ]
     },
     "execution_count": 8,
     "metadata": {},
     "output_type": "execute_result"
    }
   ],
   "source": [
    "dfparamount1['tmdb_type'].unique()"
   ]
  },
  {
   "cell_type": "markdown",
   "id": "12cb9df5-1290-4f61-9e9f-7f3177f4d285",
   "metadata": {},
   "source": [
    "En la columna `type` si tiene un solo tipo, pero al parecer `tmdb_type` no, revisemos las filas con tipo distinto"
   ]
  },
  {
   "cell_type": "code",
   "execution_count": 9,
   "id": "15685bdf-c219-4060-b62e-b3686e1c20c4",
   "metadata": {},
   "outputs": [
    {
     "data": {
      "text/html": [
       "<div>\n",
       "<style scoped>\n",
       "    .dataframe tbody tr th:only-of-type {\n",
       "        vertical-align: middle;\n",
       "    }\n",
       "\n",
       "    .dataframe tbody tr th {\n",
       "        vertical-align: top;\n",
       "    }\n",
       "\n",
       "    .dataframe thead th {\n",
       "        text-align: right;\n",
       "    }\n",
       "</style>\n",
       "<table border=\"1\" class=\"dataframe\">\n",
       "  <thead>\n",
       "    <tr style=\"text-align: right;\">\n",
       "      <th></th>\n",
       "      <th>id</th>\n",
       "      <th>title</th>\n",
       "      <th>year</th>\n",
       "      <th>imdb_id</th>\n",
       "      <th>tmdb_id</th>\n",
       "      <th>tmdb_type</th>\n",
       "      <th>type</th>\n",
       "    </tr>\n",
       "  </thead>\n",
       "  <tbody>\n",
       "    <tr>\n",
       "      <th>443</th>\n",
       "      <td>3199048</td>\n",
       "      <td>The Rise of Wagner</td>\n",
       "      <td>2023</td>\n",
       "      <td>tt27480377</td>\n",
       "      <td>228220</td>\n",
       "      <td>tv</td>\n",
       "      <td>movie</td>\n",
       "    </tr>\n",
       "  </tbody>\n",
       "</table>\n",
       "</div>"
      ],
      "text/plain": [
       "          id               title  year     imdb_id  tmdb_id tmdb_type   type\n",
       "443  3199048  The Rise of Wagner  2023  tt27480377   228220        tv  movie"
      ]
     },
     "execution_count": 9,
     "metadata": {},
     "output_type": "execute_result"
    }
   ],
   "source": [
    "dfparamount1[dfparamount1['tmdb_type'] == 'tv']"
   ]
  },
  {
   "cell_type": "markdown",
   "id": "e4ba2c0d-e7d9-4213-8c45-e92883f431cb",
   "metadata": {},
   "source": [
    "Revisando el titulo 'The Rise of Wagner' en la pagina de imdb, este figura como un documental, al no estar separado en capitulos lo dejaremos como tipo `movie`. Al ya ser todos del mismo tipo, ambas columnas pueden ser eliminadas"
   ]
  },
  {
   "cell_type": "code",
   "execution_count": 10,
   "id": "a1e0c1b1-2852-4d88-9c84-1d0defa459f1",
   "metadata": {},
   "outputs": [],
   "source": [
    "dfparamount2 = dfparamount1[['id', 'title', 'year', 'imdb_id', 'tmdb_id']]"
   ]
  },
  {
   "cell_type": "markdown",
   "id": "4da25fc9-2119-4cd9-9e05-58464abc5476",
   "metadata": {},
   "source": [
    "### Valores nan"
   ]
  },
  {
   "cell_type": "code",
   "execution_count": 11,
   "id": "d55b8329-d9e1-46ed-88b4-496ea01e6caf",
   "metadata": {},
   "outputs": [
    {
     "data": {
      "text/plain": [
       "array([False])"
      ]
     },
     "execution_count": 11,
     "metadata": {},
     "output_type": "execute_result"
    }
   ],
   "source": [
    "dfparamount2['id'].isna().unique()"
   ]
  },
  {
   "cell_type": "code",
   "execution_count": 12,
   "id": "4e5e5cae-ae13-423d-8fcd-eea0608fdada",
   "metadata": {},
   "outputs": [
    {
     "data": {
      "text/plain": [
       "array([False])"
      ]
     },
     "execution_count": 12,
     "metadata": {},
     "output_type": "execute_result"
    }
   ],
   "source": [
    "dfparamount2['title'].isna().unique()"
   ]
  },
  {
   "cell_type": "code",
   "execution_count": 13,
   "id": "13727ca7-afee-4eca-9405-7da405863196",
   "metadata": {},
   "outputs": [
    {
     "data": {
      "text/plain": [
       "array([False])"
      ]
     },
     "execution_count": 13,
     "metadata": {},
     "output_type": "execute_result"
    }
   ],
   "source": [
    "dfparamount2['year'].isna().unique()"
   ]
  },
  {
   "cell_type": "code",
   "execution_count": 14,
   "id": "184ef21e-8436-413b-8cb2-00bef76dbe7e",
   "metadata": {},
   "outputs": [
    {
     "data": {
      "text/plain": [
       "array([False])"
      ]
     },
     "execution_count": 14,
     "metadata": {},
     "output_type": "execute_result"
    }
   ],
   "source": [
    "dfparamount2['imdb_id'].isna().unique()"
   ]
  },
  {
   "cell_type": "markdown",
   "id": "190523db-9048-4385-a91c-346ecfb496da",
   "metadata": {},
   "source": [
    "### Duplicados"
   ]
  },
  {
   "cell_type": "code",
   "execution_count": 15,
   "id": "b8ca46d6-91f6-4398-bf86-a0db52c8d6ed",
   "metadata": {},
   "outputs": [
    {
     "data": {
      "text/plain": [
       "np.int64(0)"
      ]
     },
     "execution_count": 15,
     "metadata": {},
     "output_type": "execute_result"
    }
   ],
   "source": [
    "dfparamount2.duplicated().sum()"
   ]
  },
  {
   "cell_type": "markdown",
   "id": "1cf4dfff-a5d2-46b5-8525-7db50d411eac",
   "metadata": {},
   "source": [
    "### Valores unicos"
   ]
  },
  {
   "cell_type": "markdown",
   "id": "60d70ee2-00f8-4e1a-87c3-c3ffb64cbc6a",
   "metadata": {},
   "source": [
    "#### id\n",
    "Deberia ser unico para cada pelicula"
   ]
  },
  {
   "cell_type": "code",
   "execution_count": 16,
   "id": "f464e5fd-90e8-4672-8ebe-8cac2d93fd60",
   "metadata": {},
   "outputs": [
    {
     "data": {
      "text/plain": [
       "id\n",
       "11035730    1\n",
       "1535445     1\n",
       "1437213     1\n",
       "1856741     1\n",
       "1583908     1\n",
       "           ..\n",
       "1302376     1\n",
       "1702437     1\n",
       "1623462     1\n",
       "2749397     1\n",
       "1705096     1\n",
       "Name: count, Length: 459, dtype: int64"
      ]
     },
     "execution_count": 16,
     "metadata": {},
     "output_type": "execute_result"
    }
   ],
   "source": [
    "dfparamount2['id'].value_counts()"
   ]
  },
  {
   "cell_type": "markdown",
   "id": "2f37ef2a-f53d-4aa3-bc00-a5835f2823e4",
   "metadata": {},
   "source": [
    "#### title\n",
    "Es posible que se repita, ya que hay peliculas con el mismo titulo"
   ]
  },
  {
   "cell_type": "code",
   "execution_count": 17,
   "id": "267951b6-397b-4da1-ad56-6900497d3109",
   "metadata": {},
   "outputs": [
    {
     "data": {
      "text/plain": [
       "title\n",
       "Smile                            3\n",
       "Pet Sematary                     2\n",
       "The Addams Family                2\n",
       "Mean Girls                       2\n",
       "I See You                        2\n",
       "                                ..\n",
       "Mission: Impossible - Fallout    1\n",
       "Annihilation                     1\n",
       "Novocaine                        1\n",
       "Sonic the Hedgehog 3             1\n",
       "Chantilly Bridge                 1\n",
       "Name: count, Length: 450, dtype: int64"
      ]
     },
     "execution_count": 17,
     "metadata": {},
     "output_type": "execute_result"
    }
   ],
   "source": [
    "dfparamount2['title'].value_counts()"
   ]
  },
  {
   "cell_type": "markdown",
   "id": "ac27e826-3b5c-434f-8518-5c4bfbc109a9",
   "metadata": {},
   "source": [
    "revisemos porque se repiten los titulos de las peliculas"
   ]
  },
  {
   "cell_type": "code",
   "execution_count": 18,
   "id": "e5ec97e1-5bb1-4278-92d0-fad64bc65c61",
   "metadata": {},
   "outputs": [
    {
     "data": {
      "text/html": [
       "<div>\n",
       "<style scoped>\n",
       "    .dataframe tbody tr th:only-of-type {\n",
       "        vertical-align: middle;\n",
       "    }\n",
       "\n",
       "    .dataframe tbody tr th {\n",
       "        vertical-align: top;\n",
       "    }\n",
       "\n",
       "    .dataframe thead th {\n",
       "        text-align: right;\n",
       "    }\n",
       "</style>\n",
       "<table border=\"1\" class=\"dataframe\">\n",
       "  <thead>\n",
       "    <tr style=\"text-align: right;\">\n",
       "      <th></th>\n",
       "      <th>id</th>\n",
       "      <th>title</th>\n",
       "      <th>year</th>\n",
       "      <th>imdb_id</th>\n",
       "      <th>tmdb_id</th>\n",
       "    </tr>\n",
       "  </thead>\n",
       "  <tbody>\n",
       "    <tr>\n",
       "      <th>7</th>\n",
       "      <td>1645477</td>\n",
       "      <td>Smile</td>\n",
       "      <td>2022</td>\n",
       "      <td>tt15474916</td>\n",
       "      <td>882598</td>\n",
       "    </tr>\n",
       "    <tr>\n",
       "      <th>441</th>\n",
       "      <td>1698365</td>\n",
       "      <td>Smile</td>\n",
       "      <td>2022</td>\n",
       "      <td>tt15751968</td>\n",
       "      <td>1051335</td>\n",
       "    </tr>\n",
       "    <tr>\n",
       "      <th>457</th>\n",
       "      <td>2749397</td>\n",
       "      <td>Smile</td>\n",
       "      <td>2023</td>\n",
       "      <td>tt22982202</td>\n",
       "      <td>1038522</td>\n",
       "    </tr>\n",
       "  </tbody>\n",
       "</table>\n",
       "</div>"
      ],
      "text/plain": [
       "          id  title  year     imdb_id  tmdb_id\n",
       "7    1645477  Smile  2022  tt15474916   882598\n",
       "441  1698365  Smile  2022  tt15751968  1051335\n",
       "457  2749397  Smile  2023  tt22982202  1038522"
      ]
     },
     "execution_count": 18,
     "metadata": {},
     "output_type": "execute_result"
    }
   ],
   "source": [
    "dfparamount2[dfparamount2['title'] == 'Smile']"
   ]
  },
  {
   "cell_type": "markdown",
   "id": "5f4ec408-6362-4030-bb2c-39d407b6fbe3",
   "metadata": {},
   "source": [
    "Son distintas peliculas con mismo nombre"
   ]
  },
  {
   "cell_type": "markdown",
   "id": "fe0da3f7-5bcc-44c1-8ee5-38376ac55726",
   "metadata": {},
   "source": [
    "#### year"
   ]
  },
  {
   "cell_type": "code",
   "execution_count": 19,
   "id": "e8dee4e6-9611-4464-8b36-118b9c09be13",
   "metadata": {},
   "outputs": [
    {
     "data": {
      "text/plain": [
       "year\n",
       "2024    28\n",
       "2022    26\n",
       "2023    25\n",
       "2002    19\n",
       "2005    17\n",
       "2025    15\n",
       "2004    15\n",
       "2007    14\n",
       "2013    14\n",
       "1997    14\n",
       "2011    13\n",
       "2021    13\n",
       "2018    13\n",
       "2020    13\n",
       "2000    13\n",
       "1999    12\n",
       "2014    11\n",
       "2019    11\n",
       "2016    11\n",
       "2015    10\n",
       "2009    10\n",
       "1996     9\n",
       "2003     9\n",
       "2012     9\n",
       "2010     8\n",
       "1998     8\n",
       "2006     8\n",
       "2001     8\n",
       "2017     7\n",
       "2008     6\n",
       "1992     6\n",
       "1995     5\n",
       "1991     5\n",
       "1986     5\n",
       "1987     5\n",
       "1981     4\n",
       "1985     4\n",
       "1982     4\n",
       "1979     3\n",
       "1994     3\n",
       "1993     3\n",
       "1980     3\n",
       "1990     3\n",
       "1989     3\n",
       "1988     3\n",
       "1984     2\n",
       "1976     2\n",
       "1974     2\n",
       "1955     1\n",
       "1968     1\n",
       "1978     1\n",
       "1983     1\n",
       "1933     1\n",
       "Name: count, dtype: int64"
      ]
     },
     "execution_count": 19,
     "metadata": {},
     "output_type": "execute_result"
    }
   ],
   "source": [
    "dfparamount2['year'].value_counts()"
   ]
  },
  {
   "cell_type": "markdown",
   "id": "9169755c-4e48-4cec-8147-175fc5901150",
   "metadata": {},
   "source": [
    "#### imdb_id"
   ]
  },
  {
   "cell_type": "code",
   "execution_count": 20,
   "id": "b518afe0-2af3-4f39-8248-2105cbf4a00e",
   "metadata": {},
   "outputs": [
    {
     "data": {
      "text/plain": [
       "imdb_id\n",
       "tt35922832    1\n",
       "tt9218128     1\n",
       "tt1745960     1\n",
       "tt14260836    1\n",
       "tt9764362     1\n",
       "             ..\n",
       "tt0261066     1\n",
       "tt17022868    1\n",
       "tt13567374    1\n",
       "tt22982202    1\n",
       "tt15038732    1\n",
       "Name: count, Length: 459, dtype: int64"
      ]
     },
     "execution_count": 20,
     "metadata": {},
     "output_type": "execute_result"
    }
   ],
   "source": [
    "dfparamount2['imdb_id'].value_counts()"
   ]
  },
  {
   "cell_type": "markdown",
   "id": "af2135d7-ca61-4f86-a712-676c76d9544f",
   "metadata": {},
   "source": [
    "### Tipos de columnas"
   ]
  },
  {
   "cell_type": "code",
   "execution_count": 21,
   "id": "709c9686-0b92-4bdc-a2ef-250f1c9f3600",
   "metadata": {},
   "outputs": [
    {
     "name": "stdout",
     "output_type": "stream",
     "text": [
      "<class 'pandas.core.frame.DataFrame'>\n",
      "RangeIndex: 459 entries, 0 to 458\n",
      "Data columns (total 5 columns):\n",
      " #   Column   Non-Null Count  Dtype \n",
      "---  ------   --------------  ----- \n",
      " 0   id       459 non-null    int64 \n",
      " 1   title    459 non-null    object\n",
      " 2   year     459 non-null    int64 \n",
      " 3   imdb_id  459 non-null    object\n",
      " 4   tmdb_id  459 non-null    int64 \n",
      "dtypes: int64(3), object(2)\n",
      "memory usage: 18.1+ KB\n"
     ]
    }
   ],
   "source": [
    "dfparamount2.info()"
   ]
  },
  {
   "cell_type": "markdown",
   "id": "78587aee-f2f6-4f55-92b1-3828e173b306",
   "metadata": {},
   "source": [
    "Los tipos de las columnas estan bien"
   ]
  },
  {
   "cell_type": "markdown",
   "id": "f9efcbc5-e1f1-4ebe-bec2-040b399e7d36",
   "metadata": {},
   "source": [
    "### Analisis de columna `year`"
   ]
  },
  {
   "cell_type": "code",
   "execution_count": 22,
   "id": "72ec8f5c-24b9-4d6f-9397-5f5c2accb757",
   "metadata": {},
   "outputs": [
    {
     "data": {
      "text/plain": [
       "count     459.000000\n",
       "mean     2007.932462\n",
       "std        13.357440\n",
       "min      1933.000000\n",
       "25%      2000.000000\n",
       "50%      2009.000000\n",
       "75%      2020.000000\n",
       "max      2025.000000\n",
       "Name: year, dtype: float64"
      ]
     },
     "execution_count": 22,
     "metadata": {},
     "output_type": "execute_result"
    }
   ],
   "source": [
    "dfparamount2['year'].describe()"
   ]
  },
  {
   "cell_type": "markdown",
   "id": "4be8a746-9440-40ac-a6cc-5a2bae4b30cc",
   "metadata": {},
   "source": [
    "todos estan dentro de un rango logico"
   ]
  },
  {
   "cell_type": "markdown",
   "id": "97c38027-1257-4ebc-9587-b0fda4aee21d",
   "metadata": {},
   "source": [
    "## Creacion archivo `.csv`\n",
    "Como ya tenemos los datos correctos y limpios, procedemos a guardar en un archivo `.csv`"
   ]
  },
  {
   "cell_type": "code",
   "execution_count": 24,
   "id": "c9a8e1e4-69e2-4787-b536-efb56eb2c0c4",
   "metadata": {},
   "outputs": [],
   "source": [
    "dfparamount2.to_csv('data/api_paramount.csv', index=False)"
   ]
  }
 ],
 "metadata": {
  "kernelspec": {
   "display_name": "Python 3 (ipykernel)",
   "language": "python",
   "name": "python3"
  },
  "language_info": {
   "codemirror_mode": {
    "name": "ipython",
    "version": 3
   },
   "file_extension": ".py",
   "mimetype": "text/x-python",
   "name": "python",
   "nbconvert_exporter": "python",
   "pygments_lexer": "ipython3",
   "version": "3.13.6"
  }
 },
 "nbformat": 4,
 "nbformat_minor": 5
}
