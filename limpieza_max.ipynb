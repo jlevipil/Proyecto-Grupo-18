{
 "cells": [
  {
   "cell_type": "markdown",
   "id": "dc39c320-e45b-4927-9ba9-53cc0c51f985",
   "metadata": {},
   "source": [
    "# Limpieza de Max"
   ]
  },
  {
   "cell_type": "markdown",
   "id": "eb5fea03-80ca-49d5-b07f-1cb559ac630c",
   "metadata": {},
   "source": [
    "## Pedir datos a la API"
   ]
  },
  {
   "cell_type": "code",
   "execution_count": 1,
   "id": "c4639437-fb3d-419b-84d9-154826364017",
   "metadata": {},
   "outputs": [],
   "source": [
    "# IMPORTS\n",
    "import numpy as np\n",
    "import pandas as pd\n",
    "import requests as rq\n",
    "from src.buscar_peliculas import buscar_peliculas"
   ]
  },
  {
   "cell_type": "markdown",
   "id": "2d0bde1b-0c13-4ab3-8d44-abf71450184b",
   "metadata": {},
   "source": [
    "Pedimos los datos:"
   ]
  },
  {
   "cell_type": "code",
   "execution_count": 2,
   "id": "f43975c6-08f6-4c10-8569-ba9a09969fdf",
   "metadata": {},
   "outputs": [
    {
     "name": "stdout",
     "output_type": "stream",
     "text": [
      "<Response [200]> 5 1182\n"
     ]
    }
   ],
   "source": [
    "dfmax_raw = buscar_peliculas('Max')"
   ]
  },
  {
   "cell_type": "markdown",
   "id": "7f2dad34-17d7-44bd-b1f4-c3c801688f62",
   "metadata": {},
   "source": [
    "Fecha de consulta en la API: 21-10-2025 1:11\n",
    "\n",
    "Verificamos que no haya perdida de datos:"
   ]
  },
  {
   "cell_type": "code",
   "execution_count": 3,
   "id": "4fd10e4a-e5f6-45be-87f7-8c2b29d77340",
   "metadata": {},
   "outputs": [
    {
     "name": "stdout",
     "output_type": "stream",
     "text": [
      "[1182, 1182]\n"
     ]
    }
   ],
   "source": [
    "largo_dataframe = len(dfmax_raw[0])\n",
    "largo_segun_API = dfmax_raw[1]\n",
    "print([largo_dataframe, largo_segun_API])"
   ]
  },
  {
   "cell_type": "markdown",
   "id": "d9e81758-ab90-4380-aff5-56713369d9f8",
   "metadata": {},
   "source": [
    "Los largos coinciden"
   ]
  },
  {
   "cell_type": "code",
   "execution_count": 4,
   "id": "358b51eb-4363-4596-82ae-267b32f80ec4",
   "metadata": {},
   "outputs": [],
   "source": [
    "dfmax1 = dfmax_raw[0]"
   ]
  },
  {
   "cell_type": "code",
   "execution_count": 5,
   "id": "37ee4993-eb6b-4af2-bbd9-15e04a53b781",
   "metadata": {},
   "outputs": [
    {
     "data": {
      "text/html": [
       "<div>\n",
       "<style scoped>\n",
       "    .dataframe tbody tr th:only-of-type {\n",
       "        vertical-align: middle;\n",
       "    }\n",
       "\n",
       "    .dataframe tbody tr th {\n",
       "        vertical-align: top;\n",
       "    }\n",
       "\n",
       "    .dataframe thead th {\n",
       "        text-align: right;\n",
       "    }\n",
       "</style>\n",
       "<table border=\"1\" class=\"dataframe\">\n",
       "  <thead>\n",
       "    <tr style=\"text-align: right;\">\n",
       "      <th></th>\n",
       "      <th>id</th>\n",
       "      <th>title</th>\n",
       "      <th>year</th>\n",
       "      <th>imdb_id</th>\n",
       "      <th>tmdb_id</th>\n",
       "      <th>tmdb_type</th>\n",
       "      <th>type</th>\n",
       "    </tr>\n",
       "  </thead>\n",
       "  <tbody>\n",
       "    <tr>\n",
       "      <th>0</th>\n",
       "      <td>1703330</td>\n",
       "      <td>Superman</td>\n",
       "      <td>2025</td>\n",
       "      <td>tt5950044</td>\n",
       "      <td>1061474</td>\n",
       "      <td>movie</td>\n",
       "      <td>movie</td>\n",
       "    </tr>\n",
       "    <tr>\n",
       "      <th>1</th>\n",
       "      <td>1783110</td>\n",
       "      <td>Sinners</td>\n",
       "      <td>2025</td>\n",
       "      <td>tt31193180</td>\n",
       "      <td>1233413</td>\n",
       "      <td>movie</td>\n",
       "      <td>movie</td>\n",
       "    </tr>\n",
       "    <tr>\n",
       "      <th>2</th>\n",
       "      <td>1532981</td>\n",
       "      <td>The Batman</td>\n",
       "      <td>2022</td>\n",
       "      <td>tt1877830</td>\n",
       "      <td>414906</td>\n",
       "      <td>movie</td>\n",
       "      <td>movie</td>\n",
       "    </tr>\n",
       "    <tr>\n",
       "      <th>3</th>\n",
       "      <td>1718402</td>\n",
       "      <td>Heretic</td>\n",
       "      <td>2024</td>\n",
       "      <td>tt28015403</td>\n",
       "      <td>1138194</td>\n",
       "      <td>movie</td>\n",
       "      <td>movie</td>\n",
       "    </tr>\n",
       "    <tr>\n",
       "      <th>4</th>\n",
       "      <td>1653388</td>\n",
       "      <td>Mickey 17</td>\n",
       "      <td>2025</td>\n",
       "      <td>tt12299608</td>\n",
       "      <td>696506</td>\n",
       "      <td>movie</td>\n",
       "      <td>movie</td>\n",
       "    </tr>\n",
       "    <tr>\n",
       "      <th>...</th>\n",
       "      <td>...</td>\n",
       "      <td>...</td>\n",
       "      <td>...</td>\n",
       "      <td>...</td>\n",
       "      <td>...</td>\n",
       "      <td>...</td>\n",
       "      <td>...</td>\n",
       "    </tr>\n",
       "    <tr>\n",
       "      <th>1177</th>\n",
       "      <td>1307384</td>\n",
       "      <td>Presenting Princess Shaw</td>\n",
       "      <td>2016</td>\n",
       "      <td>tt4161074</td>\n",
       "      <td>357799</td>\n",
       "      <td>movie</td>\n",
       "      <td>movie</td>\n",
       "    </tr>\n",
       "    <tr>\n",
       "      <th>1178</th>\n",
       "      <td>1675301</td>\n",
       "      <td>Master of Light</td>\n",
       "      <td>2022</td>\n",
       "      <td>tt17660502</td>\n",
       "      <td>934624</td>\n",
       "      <td>movie</td>\n",
       "      <td>movie</td>\n",
       "    </tr>\n",
       "    <tr>\n",
       "      <th>1179</th>\n",
       "      <td>1613151</td>\n",
       "      <td>Stockton on My Mind</td>\n",
       "      <td>2020</td>\n",
       "      <td>tt11905696</td>\n",
       "      <td>712393</td>\n",
       "      <td>movie</td>\n",
       "      <td>movie</td>\n",
       "    </tr>\n",
       "    <tr>\n",
       "      <th>1180</th>\n",
       "      <td>540037</td>\n",
       "      <td>Brittany Murphy: An ID Mystery</td>\n",
       "      <td>2020</td>\n",
       "      <td>tt12323826</td>\n",
       "      <td>709098</td>\n",
       "      <td>movie</td>\n",
       "      <td>movie</td>\n",
       "    </tr>\n",
       "    <tr>\n",
       "      <th>1181</th>\n",
       "      <td>1952076</td>\n",
       "      <td>Film Geek</td>\n",
       "      <td>2023</td>\n",
       "      <td>tt28769082</td>\n",
       "      <td>1047415</td>\n",
       "      <td>movie</td>\n",
       "      <td>movie</td>\n",
       "    </tr>\n",
       "  </tbody>\n",
       "</table>\n",
       "<p>1182 rows × 7 columns</p>\n",
       "</div>"
      ],
      "text/plain": [
       "           id                           title  year     imdb_id  tmdb_id  \\\n",
       "0     1703330                        Superman  2025   tt5950044  1061474   \n",
       "1     1783110                         Sinners  2025  tt31193180  1233413   \n",
       "2     1532981                      The Batman  2022   tt1877830   414906   \n",
       "3     1718402                         Heretic  2024  tt28015403  1138194   \n",
       "4     1653388                       Mickey 17  2025  tt12299608   696506   \n",
       "...       ...                             ...   ...         ...      ...   \n",
       "1177  1307384        Presenting Princess Shaw  2016   tt4161074   357799   \n",
       "1178  1675301                 Master of Light  2022  tt17660502   934624   \n",
       "1179  1613151             Stockton on My Mind  2020  tt11905696   712393   \n",
       "1180   540037  Brittany Murphy: An ID Mystery  2020  tt12323826   709098   \n",
       "1181  1952076                       Film Geek  2023  tt28769082  1047415   \n",
       "\n",
       "     tmdb_type   type  \n",
       "0        movie  movie  \n",
       "1        movie  movie  \n",
       "2        movie  movie  \n",
       "3        movie  movie  \n",
       "4        movie  movie  \n",
       "...        ...    ...  \n",
       "1177     movie  movie  \n",
       "1178     movie  movie  \n",
       "1179     movie  movie  \n",
       "1180     movie  movie  \n",
       "1181     movie  movie  \n",
       "\n",
       "[1182 rows x 7 columns]"
      ]
     },
     "execution_count": 5,
     "metadata": {},
     "output_type": "execute_result"
    }
   ],
   "source": [
    "dfmax1"
   ]
  },
  {
   "cell_type": "markdown",
   "id": "222606e4-2cac-442b-a495-a2cd16effb28",
   "metadata": {},
   "source": [
    "Guardamos estos datos crudos en un csv"
   ]
  },
  {
   "cell_type": "code",
   "execution_count": 6,
   "id": "13e48376-ce28-4301-ae0d-7b677ae85bcb",
   "metadata": {},
   "outputs": [],
   "source": [
    "dfmax1.to_csv('data/raw_api_max.csv', index=False)"
   ]
  },
  {
   "cell_type": "markdown",
   "id": "a3416c8b-2a12-439e-94c3-be7551b3a510",
   "metadata": {},
   "source": [
    "## Limpieza\n",
    "### Columnas\n",
    "Las columnas nos entregan los siguientes datos:\n",
    "- `id`: Identificador de la pelicula en la API\n",
    "- `title`: Nombre de la pelicula\n",
    "- `year`: Año de estreno de la pelicula\n",
    "- `imdb_id`: Identificador de la pelicula en IMDB\n",
    "- `tmdb_id`: Identificador de la pelicula en TMDB\n",
    "- `tmdb_type`: Tipo del titulo en TMDB\n",
    "- `type`: Tipo del titulo en la API"
   ]
  },
  {
   "cell_type": "markdown",
   "id": "7745490c-25a8-4f83-b388-90a273e76437",
   "metadata": {},
   "source": [
    "### Eliminar Columnas\n",
    "Como le especificamos a la API que nos entregara solo peliculas, la columna `type` y `tmdb_type` no deberian entregar informacion importante, ya que todas las filas tienen el mismo tipo"
   ]
  },
  {
   "cell_type": "code",
   "execution_count": 7,
   "id": "116ba1c5-bdce-4ece-ab6f-c7cefda25377",
   "metadata": {},
   "outputs": [
    {
     "data": {
      "text/plain": [
       "array(['movie'], dtype=object)"
      ]
     },
     "execution_count": 7,
     "metadata": {},
     "output_type": "execute_result"
    }
   ],
   "source": [
    "dfmax1['type'].unique()"
   ]
  },
  {
   "cell_type": "code",
   "execution_count": 8,
   "id": "8f68405c-e9ab-4050-a13b-608b6c7ca5bf",
   "metadata": {},
   "outputs": [
    {
     "data": {
      "text/plain": [
       "array(['movie'], dtype=object)"
      ]
     },
     "execution_count": 8,
     "metadata": {},
     "output_type": "execute_result"
    }
   ],
   "source": [
    "dfmax1['tmdb_type'].unique()"
   ]
  },
  {
   "cell_type": "markdown",
   "id": "01c2a907-729a-4d94-81ba-18a46bce1d2c",
   "metadata": {},
   "source": [
    "Al ser todos del mismo tipo, ambas columnas pueden ser eliminadas"
   ]
  },
  {
   "cell_type": "code",
   "execution_count": 9,
   "id": "c0c91829-53f3-4d30-aefc-3029c73b9fbf",
   "metadata": {},
   "outputs": [],
   "source": [
    "dfmax2 = dfmax1[['id', 'title', 'year', 'imdb_id', 'tmdb_id']]"
   ]
  },
  {
   "cell_type": "markdown",
   "id": "4da25fc9-2119-4cd9-9e05-58464abc5476",
   "metadata": {},
   "source": [
    "### Valores Na"
   ]
  },
  {
   "cell_type": "code",
   "execution_count": 11,
   "id": "feeab27e-20ca-4afd-999e-4b26892af983",
   "metadata": {},
   "outputs": [
    {
     "data": {
      "text/plain": [
       "{'id': np.int64(0),\n",
       " 'title': np.int64(0),\n",
       " 'year': np.int64(0),\n",
       " 'imdb_id': np.int64(0),\n",
       " 'tmdb_id': np.int64(0)}"
      ]
     },
     "execution_count": 11,
     "metadata": {},
     "output_type": "execute_result"
    }
   ],
   "source": [
    "resultados = {}\n",
    "for i in dfmax2.columns:\n",
    "    resultados[i] = dfmax2[i].isna().sum()\n",
    "resultados"
   ]
  },
  {
   "cell_type": "markdown",
   "id": "190523db-9048-4385-a91c-346ecfb496da",
   "metadata": {},
   "source": [
    "### Duplicados"
   ]
  },
  {
   "cell_type": "code",
   "execution_count": 12,
   "id": "b8ca46d6-91f6-4398-bf86-a0db52c8d6ed",
   "metadata": {},
   "outputs": [
    {
     "data": {
      "text/plain": [
       "np.int64(0)"
      ]
     },
     "execution_count": 12,
     "metadata": {},
     "output_type": "execute_result"
    }
   ],
   "source": [
    "dfmax2.duplicated().sum()"
   ]
  },
  {
   "cell_type": "markdown",
   "id": "9169755c-4e48-4cec-8147-175fc5901150",
   "metadata": {},
   "source": [
    "#### imdb_id"
   ]
  },
  {
   "cell_type": "code",
   "execution_count": 13,
   "id": "c56b7ec5-2c78-464b-9a36-46fe8ac9edd7",
   "metadata": {},
   "outputs": [
    {
     "data": {
      "text/plain": [
       "np.int64(0)"
      ]
     },
     "execution_count": 13,
     "metadata": {},
     "output_type": "execute_result"
    }
   ],
   "source": [
    "dfmax2.duplicated('imdb_id').sum()"
   ]
  },
  {
   "cell_type": "markdown",
   "id": "60d70ee2-00f8-4e1a-87c3-c3ffb64cbc6a",
   "metadata": {},
   "source": [
    "#### id\n",
    "Deberia ser unico para cada pelicula"
   ]
  },
  {
   "cell_type": "code",
   "execution_count": 14,
   "id": "d32467f6-db63-4a19-a659-e672fcc8f7e8",
   "metadata": {},
   "outputs": [
    {
     "data": {
      "text/plain": [
       "np.int64(0)"
      ]
     },
     "execution_count": 14,
     "metadata": {},
     "output_type": "execute_result"
    }
   ],
   "source": [
    "dfmax2.duplicated('id').sum()"
   ]
  },
  {
   "cell_type": "markdown",
   "id": "2f37ef2a-f53d-4aa3-bc00-a5835f2823e4",
   "metadata": {},
   "source": [
    "#### title\n",
    "Es posible que se repita, ya que hay peliculas con el mismo titulo"
   ]
  },
  {
   "cell_type": "code",
   "execution_count": 15,
   "id": "267951b6-397b-4da1-ad56-6900497d3109",
   "metadata": {},
   "outputs": [
    {
     "data": {
      "text/plain": [
       "np.int64(11)"
      ]
     },
     "execution_count": 15,
     "metadata": {},
     "output_type": "execute_result"
    }
   ],
   "source": [
    "dfmax2.duplicated('title').sum()"
   ]
  },
  {
   "cell_type": "markdown",
   "id": "ac27e826-3b5c-434f-8518-5c4bfbc109a9",
   "metadata": {},
   "source": [
    "revisemos porque se repiten los titulos de las peliculas"
   ]
  },
  {
   "cell_type": "code",
   "execution_count": 16,
   "id": "5988f0e7-9179-4d2f-98b5-69bebbe877ca",
   "metadata": {},
   "outputs": [
    {
     "data": {
      "text/html": [
       "<div>\n",
       "<style scoped>\n",
       "    .dataframe tbody tr th:only-of-type {\n",
       "        vertical-align: middle;\n",
       "    }\n",
       "\n",
       "    .dataframe tbody tr th {\n",
       "        vertical-align: top;\n",
       "    }\n",
       "\n",
       "    .dataframe thead th {\n",
       "        text-align: right;\n",
       "    }\n",
       "</style>\n",
       "<table border=\"1\" class=\"dataframe\">\n",
       "  <thead>\n",
       "    <tr style=\"text-align: right;\">\n",
       "      <th></th>\n",
       "      <th>id</th>\n",
       "      <th>title</th>\n",
       "      <th>year</th>\n",
       "      <th>imdb_id</th>\n",
       "      <th>tmdb_id</th>\n",
       "    </tr>\n",
       "  </thead>\n",
       "  <tbody>\n",
       "    <tr>\n",
       "      <th>270</th>\n",
       "      <td>1260826</td>\n",
       "      <td>Mortal Kombat</td>\n",
       "      <td>1995</td>\n",
       "      <td>tt0113855</td>\n",
       "      <td>9312</td>\n",
       "    </tr>\n",
       "    <tr>\n",
       "      <th>278</th>\n",
       "      <td>19750</td>\n",
       "      <td>A Nightmare on Elm Street</td>\n",
       "      <td>1984</td>\n",
       "      <td>tt0087800</td>\n",
       "      <td>377</td>\n",
       "    </tr>\n",
       "    <tr>\n",
       "      <th>283</th>\n",
       "      <td>1365622</td>\n",
       "      <td>Superman</td>\n",
       "      <td>1978</td>\n",
       "      <td>tt0078346</td>\n",
       "      <td>1924</td>\n",
       "    </tr>\n",
       "    <tr>\n",
       "      <th>375</th>\n",
       "      <td>1318122</td>\n",
       "      <td>Red Dawn</td>\n",
       "      <td>1984</td>\n",
       "      <td>tt0087985</td>\n",
       "      <td>1880</td>\n",
       "    </tr>\n",
       "    <tr>\n",
       "      <th>558</th>\n",
       "      <td>1376890</td>\n",
       "      <td>The Amityville Horror</td>\n",
       "      <td>1979</td>\n",
       "      <td>tt0078767</td>\n",
       "      <td>11449</td>\n",
       "    </tr>\n",
       "  </tbody>\n",
       "</table>\n",
       "</div>"
      ],
      "text/plain": [
       "          id                      title  year    imdb_id  tmdb_id\n",
       "270  1260826              Mortal Kombat  1995  tt0113855     9312\n",
       "278    19750  A Nightmare on Elm Street  1984  tt0087800      377\n",
       "283  1365622                   Superman  1978  tt0078346     1924\n",
       "375  1318122                   Red Dawn  1984  tt0087985     1880\n",
       "558  1376890      The Amityville Horror  1979  tt0078767    11449"
      ]
     },
     "execution_count": 16,
     "metadata": {},
     "output_type": "execute_result"
    }
   ],
   "source": [
    "dfmax2[dfmax2.duplicated('title')].head()"
   ]
  },
  {
   "cell_type": "code",
   "execution_count": 18,
   "id": "e5ec97e1-5bb1-4278-92d0-fad64bc65c61",
   "metadata": {},
   "outputs": [
    {
     "data": {
      "text/html": [
       "<div>\n",
       "<style scoped>\n",
       "    .dataframe tbody tr th:only-of-type {\n",
       "        vertical-align: middle;\n",
       "    }\n",
       "\n",
       "    .dataframe tbody tr th {\n",
       "        vertical-align: top;\n",
       "    }\n",
       "\n",
       "    .dataframe thead th {\n",
       "        text-align: right;\n",
       "    }\n",
       "</style>\n",
       "<table border=\"1\" class=\"dataframe\">\n",
       "  <thead>\n",
       "    <tr style=\"text-align: right;\">\n",
       "      <th></th>\n",
       "      <th>id</th>\n",
       "      <th>title</th>\n",
       "      <th>year</th>\n",
       "      <th>imdb_id</th>\n",
       "      <th>tmdb_id</th>\n",
       "    </tr>\n",
       "  </thead>\n",
       "  <tbody>\n",
       "    <tr>\n",
       "      <th>41</th>\n",
       "      <td>1559743</td>\n",
       "      <td>Mortal Kombat</td>\n",
       "      <td>2021</td>\n",
       "      <td>tt0293429</td>\n",
       "      <td>460465</td>\n",
       "    </tr>\n",
       "    <tr>\n",
       "      <th>270</th>\n",
       "      <td>1260826</td>\n",
       "      <td>Mortal Kombat</td>\n",
       "      <td>1995</td>\n",
       "      <td>tt0113855</td>\n",
       "      <td>9312</td>\n",
       "    </tr>\n",
       "  </tbody>\n",
       "</table>\n",
       "</div>"
      ],
      "text/plain": [
       "          id          title  year    imdb_id  tmdb_id\n",
       "41   1559743  Mortal Kombat  2021  tt0293429   460465\n",
       "270  1260826  Mortal Kombat  1995  tt0113855     9312"
      ]
     },
     "execution_count": 18,
     "metadata": {},
     "output_type": "execute_result"
    }
   ],
   "source": [
    "dfmax2[dfmax2['title'] == 'Mortal Kombat']"
   ]
  },
  {
   "cell_type": "markdown",
   "id": "5f4ec408-6362-4030-bb2c-39d407b6fbe3",
   "metadata": {},
   "source": [
    "Son distintas peliculas con mismo nombre"
   ]
  },
  {
   "cell_type": "markdown",
   "id": "af2135d7-ca61-4f86-a712-676c76d9544f",
   "metadata": {},
   "source": [
    "### Tipos de columnas"
   ]
  },
  {
   "cell_type": "code",
   "execution_count": 19,
   "id": "709c9686-0b92-4bdc-a2ef-250f1c9f3600",
   "metadata": {},
   "outputs": [
    {
     "data": {
      "text/plain": [
       "id          int64\n",
       "title      object\n",
       "year        int64\n",
       "imdb_id    object\n",
       "tmdb_id     int64\n",
       "dtype: object"
      ]
     },
     "execution_count": 19,
     "metadata": {},
     "output_type": "execute_result"
    }
   ],
   "source": [
    "dfmax2.dtypes"
   ]
  },
  {
   "cell_type": "markdown",
   "id": "78587aee-f2f6-4f55-92b1-3828e173b306",
   "metadata": {},
   "source": [
    "Los tipos de las columnas estan bien"
   ]
  },
  {
   "cell_type": "markdown",
   "id": "f9efcbc5-e1f1-4ebe-bec2-040b399e7d36",
   "metadata": {},
   "source": [
    "### Analisis de columna `year`"
   ]
  },
  {
   "cell_type": "code",
   "execution_count": 20,
   "id": "72ec8f5c-24b9-4d6f-9397-5f5c2accb757",
   "metadata": {},
   "outputs": [
    {
     "data": {
      "text/plain": [
       "count    1182.000000\n",
       "mean     1992.862098\n",
       "std        29.776084\n",
       "min      1921.000000\n",
       "25%      1966.250000\n",
       "50%      2006.000000\n",
       "75%      2019.000000\n",
       "max      2025.000000\n",
       "Name: year, dtype: float64"
      ]
     },
     "execution_count": 20,
     "metadata": {},
     "output_type": "execute_result"
    }
   ],
   "source": [
    "dfmax2['year'].describe()"
   ]
  },
  {
   "cell_type": "markdown",
   "id": "4be8a746-9440-40ac-a6cc-5a2bae4b30cc",
   "metadata": {},
   "source": [
    "todos estan dentro de un rango logico"
   ]
  },
  {
   "cell_type": "markdown",
   "id": "97c38027-1257-4ebc-9587-b0fda4aee21d",
   "metadata": {},
   "source": [
    "## Creacion archivo `.csv`\n",
    "Como ya tenemos los datos correctos y limpios, procedemos a guardar en un archivo `.csv`"
   ]
  },
  {
   "cell_type": "code",
   "execution_count": 21,
   "id": "c9a8e1e4-69e2-4787-b536-efb56eb2c0c4",
   "metadata": {},
   "outputs": [],
   "source": [
    "dfmax2.to_csv('data/api_max.csv', index=False)"
   ]
  }
 ],
 "metadata": {
  "kernelspec": {
   "display_name": "Python 3 (ipykernel)",
   "language": "python",
   "name": "python3"
  },
  "language_info": {
   "codemirror_mode": {
    "name": "ipython",
    "version": 3
   },
   "file_extension": ".py",
   "mimetype": "text/x-python",
   "name": "python",
   "nbconvert_exporter": "python",
   "pygments_lexer": "ipython3",
   "version": "3.13.6"
  }
 },
 "nbformat": 4,
 "nbformat_minor": 5
}
