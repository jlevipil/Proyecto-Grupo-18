{
 "cells": [
  {
   "cell_type": "markdown",
   "id": "4db90966",
   "metadata": {},
   "source": [
    "## Limpieza de Prime Video"
   ]
  },
  {
   "cell_type": "markdown",
   "id": "39419a32",
   "metadata": {},
   "source": [
    "### Pedimos los datos a la API"
   ]
  },
  {
   "cell_type": "code",
   "execution_count": 1,
   "id": "0028a61c",
   "metadata": {},
   "outputs": [],
   "source": [
    "import numpy as np\n",
    "import pandas as pd\n",
    "import requests as rq"
   ]
  },
  {
   "cell_type": "code",
   "execution_count": 2,
   "id": "5bd1bbb2",
   "metadata": {},
   "outputs": [],
   "source": [
    "url = 'https://api.watchmode.com/v1/'\n",
    "API_KEY = 'AvZTb8hmuinRzMat9WdZUa9Iy2DxrPxkK3boMnwg'\n",
    "region = \"CL\"\n",
    "plataformas = {\n",
    "    'Netflix': 203,\n",
    "    'Hulu': 157,\n",
    "    'Max': 387,\n",
    "    'Prime': 26,\n",
    "    'Disney+': 372,\n",
    "    'Paramount+': 444\n",
    "}"
   ]
  },
  {
   "cell_type": "code",
   "execution_count": 3,
   "id": "dcf3909e",
   "metadata": {},
   "outputs": [],
   "source": [
    "# FUNCION\n",
    "def buscar_peliculas(plataforma):\n",
    "    ## Parametros del GET\n",
    "    parametros = {\n",
    "        'apiKey': API_KEY,\n",
    "        'types': 'movie',\n",
    "        # 'regions': region,  # Por alguna razon la request no funciona al especificar la region asi que queda comentada\n",
    "        'source_ids': plataformas[plataforma]\n",
    "    }\n",
    "    url_get = url + 'list-titles/'\n",
    "\n",
    "    ## Primer get\n",
    "    response = rq.get(url_get, params=parametros)\n",
    "    json_1 = response.json()\n",
    "    \n",
    "    print(response, json_1['total_pages'], json_1['total_results'])\n",
    "    \n",
    "    paginas_totales = json_1['total_pages']\n",
    "    df_1 = pd.DataFrame(json_1['titles'])\n",
    "    resultados_totales = json_1['total_results']\n",
    "\n",
    "    # Ciclo\n",
    "    dataframes = []\n",
    "    dataframes.append(df_1)\n",
    "\n",
    "    for i in range(2, paginas_totales + 1):\n",
    "        parametros['page'] = i\n",
    "        response = rq.get(url_get, params=parametros)\n",
    "        json_n = response.json()\n",
    "        df_n = pd.DataFrame(json_n['titles'])\n",
    "        dataframes.append(df_n)\n",
    "\n",
    "    # Se juntan todos los DataFrames\n",
    "    dataframe_final = pd.concat(dataframes, ignore_index=True)\n",
    "    return (dataframe_final, resultados_totales)\n",
    "    return response"
   ]
  },
  {
   "cell_type": "markdown",
   "id": "901d9c9d",
   "metadata": {},
   "source": [
    "### Pedimos los datos"
   ]
  },
  {
   "cell_type": "code",
   "execution_count": 7,
   "id": "c2d29f3b",
   "metadata": {},
   "outputs": [
    {
     "name": "stdout",
     "output_type": "stream",
     "text": [
      "<Response [200]> 5 1182\n"
     ]
    }
   ],
   "source": [
    "df_hbo_1 = buscar_peliculas(\"Max\")"
   ]
  },
  {
   "cell_type": "markdown",
   "id": "999a01c5",
   "metadata": {},
   "source": [
    "Verificamos que no falten de datos:"
   ]
  },
  {
   "cell_type": "code",
   "execution_count": 8,
   "id": "669b045d",
   "metadata": {},
   "outputs": [
    {
     "name": "stdout",
     "output_type": "stream",
     "text": [
      "[1182, 1182]\n"
     ]
    }
   ],
   "source": [
    "largo_dataframe = len(df_hbo_1[0])\n",
    "largo_segun_API = df_hbo[1]\n",
    "print([largo_dataframe, largo_segun_API])"
   ]
  },
  {
   "cell_type": "markdown",
   "id": "c94736cb",
   "metadata": {},
   "source": [
    "Vemos que no hubo perdida de datos, por lo que están todos"
   ]
  },
  {
   "cell_type": "code",
   "execution_count": 9,
   "id": "932d016c",
   "metadata": {},
   "outputs": [
    {
     "data": {
      "text/html": [
       "<div>\n",
       "<style scoped>\n",
       "    .dataframe tbody tr th:only-of-type {\n",
       "        vertical-align: middle;\n",
       "    }\n",
       "\n",
       "    .dataframe tbody tr th {\n",
       "        vertical-align: top;\n",
       "    }\n",
       "\n",
       "    .dataframe thead th {\n",
       "        text-align: right;\n",
       "    }\n",
       "</style>\n",
       "<table border=\"1\" class=\"dataframe\">\n",
       "  <thead>\n",
       "    <tr style=\"text-align: right;\">\n",
       "      <th></th>\n",
       "      <th>id</th>\n",
       "      <th>title</th>\n",
       "      <th>year</th>\n",
       "      <th>imdb_id</th>\n",
       "      <th>tmdb_id</th>\n",
       "      <th>tmdb_type</th>\n",
       "      <th>type</th>\n",
       "    </tr>\n",
       "  </thead>\n",
       "  <tbody>\n",
       "    <tr>\n",
       "      <th>0</th>\n",
       "      <td>1703330</td>\n",
       "      <td>Superman</td>\n",
       "      <td>2025</td>\n",
       "      <td>tt5950044</td>\n",
       "      <td>1061474</td>\n",
       "      <td>movie</td>\n",
       "      <td>movie</td>\n",
       "    </tr>\n",
       "    <tr>\n",
       "      <th>1</th>\n",
       "      <td>1783110</td>\n",
       "      <td>Sinners</td>\n",
       "      <td>2025</td>\n",
       "      <td>tt31193180</td>\n",
       "      <td>1233413</td>\n",
       "      <td>movie</td>\n",
       "      <td>movie</td>\n",
       "    </tr>\n",
       "    <tr>\n",
       "      <th>2</th>\n",
       "      <td>1532981</td>\n",
       "      <td>The Batman</td>\n",
       "      <td>2022</td>\n",
       "      <td>tt1877830</td>\n",
       "      <td>414906</td>\n",
       "      <td>movie</td>\n",
       "      <td>movie</td>\n",
       "    </tr>\n",
       "    <tr>\n",
       "      <th>3</th>\n",
       "      <td>1718402</td>\n",
       "      <td>Heretic</td>\n",
       "      <td>2024</td>\n",
       "      <td>tt28015403</td>\n",
       "      <td>1138194</td>\n",
       "      <td>movie</td>\n",
       "      <td>movie</td>\n",
       "    </tr>\n",
       "    <tr>\n",
       "      <th>4</th>\n",
       "      <td>1653388</td>\n",
       "      <td>Mickey 17</td>\n",
       "      <td>2025</td>\n",
       "      <td>tt12299608</td>\n",
       "      <td>696506</td>\n",
       "      <td>movie</td>\n",
       "      <td>movie</td>\n",
       "    </tr>\n",
       "    <tr>\n",
       "      <th>...</th>\n",
       "      <td>...</td>\n",
       "      <td>...</td>\n",
       "      <td>...</td>\n",
       "      <td>...</td>\n",
       "      <td>...</td>\n",
       "      <td>...</td>\n",
       "      <td>...</td>\n",
       "    </tr>\n",
       "    <tr>\n",
       "      <th>1177</th>\n",
       "      <td>1307384</td>\n",
       "      <td>Presenting Princess Shaw</td>\n",
       "      <td>2016</td>\n",
       "      <td>tt4161074</td>\n",
       "      <td>357799</td>\n",
       "      <td>movie</td>\n",
       "      <td>movie</td>\n",
       "    </tr>\n",
       "    <tr>\n",
       "      <th>1178</th>\n",
       "      <td>1613151</td>\n",
       "      <td>Stockton on My Mind</td>\n",
       "      <td>2020</td>\n",
       "      <td>tt11905696</td>\n",
       "      <td>712393</td>\n",
       "      <td>movie</td>\n",
       "      <td>movie</td>\n",
       "    </tr>\n",
       "    <tr>\n",
       "      <th>1179</th>\n",
       "      <td>1628337</td>\n",
       "      <td>Lily Topples The World</td>\n",
       "      <td>2021</td>\n",
       "      <td>tt13963956</td>\n",
       "      <td>795625</td>\n",
       "      <td>movie</td>\n",
       "      <td>movie</td>\n",
       "    </tr>\n",
       "    <tr>\n",
       "      <th>1180</th>\n",
       "      <td>176887</td>\n",
       "      <td>Citizen USA: A 50 State Road Trip</td>\n",
       "      <td>2011</td>\n",
       "      <td>tt2009450</td>\n",
       "      <td>82325</td>\n",
       "      <td>movie</td>\n",
       "      <td>movie</td>\n",
       "    </tr>\n",
       "    <tr>\n",
       "      <th>1181</th>\n",
       "      <td>1952076</td>\n",
       "      <td>Film Geek</td>\n",
       "      <td>2023</td>\n",
       "      <td>tt28769082</td>\n",
       "      <td>1047415</td>\n",
       "      <td>movie</td>\n",
       "      <td>movie</td>\n",
       "    </tr>\n",
       "  </tbody>\n",
       "</table>\n",
       "<p>1182 rows × 7 columns</p>\n",
       "</div>"
      ],
      "text/plain": [
       "           id                              title  year     imdb_id  tmdb_id  \\\n",
       "0     1703330                           Superman  2025   tt5950044  1061474   \n",
       "1     1783110                            Sinners  2025  tt31193180  1233413   \n",
       "2     1532981                         The Batman  2022   tt1877830   414906   \n",
       "3     1718402                            Heretic  2024  tt28015403  1138194   \n",
       "4     1653388                          Mickey 17  2025  tt12299608   696506   \n",
       "...       ...                                ...   ...         ...      ...   \n",
       "1177  1307384           Presenting Princess Shaw  2016   tt4161074   357799   \n",
       "1178  1613151                Stockton on My Mind  2020  tt11905696   712393   \n",
       "1179  1628337             Lily Topples The World  2021  tt13963956   795625   \n",
       "1180   176887  Citizen USA: A 50 State Road Trip  2011   tt2009450    82325   \n",
       "1181  1952076                          Film Geek  2023  tt28769082  1047415   \n",
       "\n",
       "     tmdb_type   type  \n",
       "0        movie  movie  \n",
       "1        movie  movie  \n",
       "2        movie  movie  \n",
       "3        movie  movie  \n",
       "4        movie  movie  \n",
       "...        ...    ...  \n",
       "1177     movie  movie  \n",
       "1178     movie  movie  \n",
       "1179     movie  movie  \n",
       "1180     movie  movie  \n",
       "1181     movie  movie  \n",
       "\n",
       "[1182 rows x 7 columns]"
      ]
     },
     "execution_count": 9,
     "metadata": {},
     "output_type": "execute_result"
    }
   ],
   "source": [
    "df_hbo_2 = df_hbo_1[0]\n",
    "df_hbo_2"
   ]
  },
  {
   "cell_type": "code",
   "execution_count": 10,
   "id": "89ec2c12",
   "metadata": {},
   "outputs": [
    {
     "data": {
      "text/plain": [
       "array(['movie'], dtype=object)"
      ]
     },
     "execution_count": 10,
     "metadata": {},
     "output_type": "execute_result"
    }
   ],
   "source": [
    "df_hbo_2[\"type\"].unique()"
   ]
  },
  {
   "cell_type": "code",
   "execution_count": 11,
   "id": "6e2c6168",
   "metadata": {},
   "outputs": [
    {
     "data": {
      "text/plain": [
       "array(['movie'], dtype=object)"
      ]
     },
     "execution_count": 11,
     "metadata": {},
     "output_type": "execute_result"
    }
   ],
   "source": [
    "df_hbo_2[\"tmdb_type\"].unique()"
   ]
  },
  {
   "cell_type": "markdown",
   "id": "6a33061e",
   "metadata": {},
   "source": [
    "Como son la misma columna entre ellas dos y vemos que no hay ningun dato colado, las eliminamos porque no son necesarias"
   ]
  },
  {
   "cell_type": "code",
   "execution_count": 12,
   "id": "2005eec9",
   "metadata": {},
   "outputs": [],
   "source": [
    "df_hbo_3 = df_hbo_2[[\"id\",'title', 'year', 'imdb_id', 'tmdb_id']]"
   ]
  },
  {
   "cell_type": "markdown",
   "id": "4cd49905",
   "metadata": {},
   "source": [
    "### Valores nulos\n"
   ]
  },
  {
   "cell_type": "code",
   "execution_count": 13,
   "id": "96aac9a4",
   "metadata": {},
   "outputs": [
    {
     "data": {
      "text/plain": [
       "array([False])"
      ]
     },
     "execution_count": 13,
     "metadata": {},
     "output_type": "execute_result"
    }
   ],
   "source": [
    "df_hbo_3[\"id\"].isna().unique()"
   ]
  },
  {
   "cell_type": "code",
   "execution_count": 14,
   "id": "cfc3fd99",
   "metadata": {},
   "outputs": [
    {
     "data": {
      "text/plain": [
       "array([False])"
      ]
     },
     "execution_count": 14,
     "metadata": {},
     "output_type": "execute_result"
    }
   ],
   "source": [
    "df_hbo_3[\"title\"].isna().unique()"
   ]
  },
  {
   "cell_type": "code",
   "execution_count": 15,
   "id": "749c6929",
   "metadata": {},
   "outputs": [
    {
     "data": {
      "text/plain": [
       "array([False])"
      ]
     },
     "execution_count": 15,
     "metadata": {},
     "output_type": "execute_result"
    }
   ],
   "source": [
    "df_hbo_3[\"year\"].isna().unique()"
   ]
  },
  {
   "cell_type": "code",
   "execution_count": 16,
   "id": "19c8854e",
   "metadata": {},
   "outputs": [
    {
     "data": {
      "text/plain": [
       "array([False])"
      ]
     },
     "execution_count": 16,
     "metadata": {},
     "output_type": "execute_result"
    }
   ],
   "source": [
    "df_hbo_3[\"imdb_id\"].isna().unique()"
   ]
  },
  {
   "cell_type": "markdown",
   "id": "3653c5ce",
   "metadata": {},
   "source": [
    "Ahora vemos si esque existen duplicados"
   ]
  },
  {
   "cell_type": "code",
   "execution_count": 17,
   "id": "98be327d",
   "metadata": {},
   "outputs": [
    {
     "data": {
      "text/plain": [
       "np.int64(0)"
      ]
     },
     "execution_count": 17,
     "metadata": {},
     "output_type": "execute_result"
    }
   ],
   "source": [
    "df_hbo_3.duplicated().sum()"
   ]
  },
  {
   "cell_type": "markdown",
   "id": "342b8d8f",
   "metadata": {},
   "source": [
    "No se encontraron duplicados en el DataFrame"
   ]
  },
  {
   "cell_type": "markdown",
   "id": "39f307f3",
   "metadata": {},
   "source": [
    "### Vemos los valores unicos\n",
    "Ya que para cada pelicula deberían existir un unico id"
   ]
  },
  {
   "cell_type": "code",
   "execution_count": 18,
   "id": "025bda02",
   "metadata": {},
   "outputs": [
    {
     "data": {
      "text/plain": [
       "id\n",
       "1952076    1\n",
       "1703330    1\n",
       "1783110    1\n",
       "1532981    1\n",
       "1718402    1\n",
       "          ..\n",
       "1129886    1\n",
       "1193690    1\n",
       "1295258    1\n",
       "1496273    1\n",
       "1529898    1\n",
       "Name: count, Length: 1182, dtype: int64"
      ]
     },
     "execution_count": 18,
     "metadata": {},
     "output_type": "execute_result"
    }
   ],
   "source": [
    "df_hbo_3[\"id\"].value_counts()"
   ]
  },
  {
   "cell_type": "markdown",
   "id": "0f34b845",
   "metadata": {},
   "source": [
    "Vemos si hay repetición en los titulos"
   ]
  },
  {
   "cell_type": "code",
   "execution_count": 20,
   "id": "876415f4",
   "metadata": {},
   "outputs": [
    {
     "data": {
      "text/plain": [
       "title\n",
       "Mortal Kombat                               2\n",
       "Red Dawn                                    2\n",
       "Superman                                    2\n",
       "A Nightmare on Elm Street                   2\n",
       "Dr. Jekyll and Mr. Hyde                     2\n",
       "                                           ..\n",
       "Westfront 1918                              1\n",
       "537 Votes                                   1\n",
       "Nightingale                                 1\n",
       "If You're Not in the Obit, Eat Breakfast    1\n",
       "Bloody Trophy                               1\n",
       "Name: count, Length: 1171, dtype: int64"
      ]
     },
     "execution_count": 20,
     "metadata": {},
     "output_type": "execute_result"
    }
   ],
   "source": [
    "df_hbo_3[\"title\"].value_counts()"
   ]
  },
  {
   "cell_type": "markdown",
   "id": "5267ddd2",
   "metadata": {},
   "source": [
    "Revisamos a que se debe la repetición de los títulos"
   ]
  },
  {
   "cell_type": "code",
   "execution_count": 22,
   "id": "23d3af0d",
   "metadata": {},
   "outputs": [
    {
     "data": {
      "text/html": [
       "<div>\n",
       "<style scoped>\n",
       "    .dataframe tbody tr th:only-of-type {\n",
       "        vertical-align: middle;\n",
       "    }\n",
       "\n",
       "    .dataframe tbody tr th {\n",
       "        vertical-align: top;\n",
       "    }\n",
       "\n",
       "    .dataframe thead th {\n",
       "        text-align: right;\n",
       "    }\n",
       "</style>\n",
       "<table border=\"1\" class=\"dataframe\">\n",
       "  <thead>\n",
       "    <tr style=\"text-align: right;\">\n",
       "      <th></th>\n",
       "      <th>id</th>\n",
       "      <th>title</th>\n",
       "      <th>year</th>\n",
       "      <th>imdb_id</th>\n",
       "      <th>tmdb_id</th>\n",
       "    </tr>\n",
       "  </thead>\n",
       "  <tbody>\n",
       "    <tr>\n",
       "      <th>41</th>\n",
       "      <td>1559743</td>\n",
       "      <td>Mortal Kombat</td>\n",
       "      <td>2021</td>\n",
       "      <td>tt0293429</td>\n",
       "      <td>460465</td>\n",
       "    </tr>\n",
       "    <tr>\n",
       "      <th>273</th>\n",
       "      <td>1260826</td>\n",
       "      <td>Mortal Kombat</td>\n",
       "      <td>1995</td>\n",
       "      <td>tt0113855</td>\n",
       "      <td>9312</td>\n",
       "    </tr>\n",
       "  </tbody>\n",
       "</table>\n",
       "</div>"
      ],
      "text/plain": [
       "          id          title  year    imdb_id  tmdb_id\n",
       "41   1559743  Mortal Kombat  2021  tt0293429   460465\n",
       "273  1260826  Mortal Kombat  1995  tt0113855     9312"
      ]
     },
     "execution_count": 22,
     "metadata": {},
     "output_type": "execute_result"
    }
   ],
   "source": [
    "df_hbo_3[df_hbo_3[\"title\"] == \"Mortal Kombat\"]"
   ]
  },
  {
   "cell_type": "markdown",
   "id": "13bdfdb8",
   "metadata": {},
   "source": [
    "Podemos ver que se debe a los diferentes años en los cuales salío la pelicula"
   ]
  },
  {
   "cell_type": "markdown",
   "id": "65403db2",
   "metadata": {},
   "source": [
    "### Revisamos los años de estreno de las películas"
   ]
  },
  {
   "cell_type": "code",
   "execution_count": 23,
   "id": "408284d6",
   "metadata": {},
   "outputs": [
    {
     "data": {
      "text/plain": [
       "year\n",
       "2024    70\n",
       "2022    57\n",
       "2016    51\n",
       "2021    43\n",
       "2023    38\n",
       "        ..\n",
       "1923     2\n",
       "1921     1\n",
       "1935     1\n",
       "1929     1\n",
       "1937     1\n",
       "Name: count, Length: 103, dtype: int64"
      ]
     },
     "execution_count": 23,
     "metadata": {},
     "output_type": "execute_result"
    }
   ],
   "source": [
    "df_hbo_3[\"year\"].value_counts()"
   ]
  },
  {
   "cell_type": "markdown",
   "id": "b7fd19c7",
   "metadata": {},
   "source": [
    "Vemos que esta todo bien en los rangos de año"
   ]
  },
  {
   "cell_type": "markdown",
   "id": "3f8b3c69",
   "metadata": {},
   "source": [
    "### Ahora revisamos si un imbd_id sale repetido"
   ]
  },
  {
   "cell_type": "code",
   "execution_count": 25,
   "id": "62f360d6",
   "metadata": {},
   "outputs": [
    {
     "data": {
      "text/plain": [
       "imdb_id\n",
       "tt28769082    1\n",
       "tt5950044     1\n",
       "tt31193180    1\n",
       "tt1877830     1\n",
       "tt28015403    1\n",
       "             ..\n",
       "tt4123432     1\n",
       "tt7286456     1\n",
       "tt6751668     1\n",
       "tt1160419     1\n",
       "tt8999762     1\n",
       "Name: count, Length: 1182, dtype: int64"
      ]
     },
     "execution_count": 25,
     "metadata": {},
     "output_type": "execute_result"
    }
   ],
   "source": [
    "df_hbo_3[\"imdb_id\"].value_counts()"
   ]
  },
  {
   "cell_type": "markdown",
   "id": "2b9cf72c",
   "metadata": {},
   "source": [
    "Vemos que esta todo bien"
   ]
  },
  {
   "cell_type": "code",
   "execution_count": 26,
   "id": "9fe2b6ec",
   "metadata": {},
   "outputs": [
    {
     "name": "stdout",
     "output_type": "stream",
     "text": [
      "<class 'pandas.core.frame.DataFrame'>\n",
      "RangeIndex: 1182 entries, 0 to 1181\n",
      "Data columns (total 5 columns):\n",
      " #   Column   Non-Null Count  Dtype \n",
      "---  ------   --------------  ----- \n",
      " 0   id       1182 non-null   int64 \n",
      " 1   title    1182 non-null   object\n",
      " 2   year     1182 non-null   int64 \n",
      " 3   imdb_id  1182 non-null   object\n",
      " 4   tmdb_id  1182 non-null   int64 \n",
      "dtypes: int64(3), object(2)\n",
      "memory usage: 46.3+ KB\n"
     ]
    }
   ],
   "source": [
    "df_hbo_3.info()"
   ]
  },
  {
   "cell_type": "code",
   "execution_count": 27,
   "id": "b7a13bd1",
   "metadata": {},
   "outputs": [
    {
     "data": {
      "text/plain": [
       "count    1182.000000\n",
       "mean     1992.780880\n",
       "std        29.845896\n",
       "min      1921.000000\n",
       "25%      1966.000000\n",
       "50%      2006.000000\n",
       "75%      2019.000000\n",
       "max      2025.000000\n",
       "Name: year, dtype: float64"
      ]
     },
     "execution_count": 27,
     "metadata": {},
     "output_type": "execute_result"
    }
   ],
   "source": [
    "df_hbo_3[\"year\"].describe()"
   ]
  },
  {
   "cell_type": "markdown",
   "id": "045bc6a0",
   "metadata": {},
   "source": [
    "### Lo pasamos a .csv"
   ]
  },
  {
   "cell_type": "code",
   "execution_count": 28,
   "id": "aea4674d",
   "metadata": {},
   "outputs": [],
   "source": [
    "df_hbo_3.to_csv(\"api_max.csv\", index=False)"
   ]
  }
 ],
 "metadata": {
  "kernelspec": {
   "display_name": "base",
   "language": "python",
   "name": "python3"
  },
  "language_info": {
   "codemirror_mode": {
    "name": "ipython",
    "version": 3
   },
   "file_extension": ".py",
   "mimetype": "text/x-python",
   "name": "python",
   "nbconvert_exporter": "python",
   "pygments_lexer": "ipython3",
   "version": "3.13.5"
  }
 },
 "nbformat": 4,
 "nbformat_minor": 5
}
