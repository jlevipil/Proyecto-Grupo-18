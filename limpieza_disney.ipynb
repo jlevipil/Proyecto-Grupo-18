{
 "cells": [
  {
   "cell_type": "markdown",
   "id": "dc39c320-e45b-4927-9ba9-53cc0c51f985",
   "metadata": {},
   "source": [
    "# Limpieza de Disney+"
   ]
  },
  {
   "cell_type": "markdown",
   "id": "eb5fea03-80ca-49d5-b07f-1cb559ac630c",
   "metadata": {},
   "source": [
    "## Pedir datos a la API"
   ]
  },
  {
   "cell_type": "code",
   "execution_count": 2,
   "id": "c4639437-fb3d-419b-84d9-154826364017",
   "metadata": {},
   "outputs": [],
   "source": [
    "# IMPORTS\n",
    "import numpy as np\n",
    "import pandas as pd\n",
    "import requests as rq\n",
    "from src.buscar_peliculas import buscar_peliculas"
   ]
  },
  {
   "cell_type": "markdown",
   "id": "2d0bde1b-0c13-4ab3-8d44-abf71450184b",
   "metadata": {},
   "source": [
    "Pedimos los datos:"
   ]
  },
  {
   "cell_type": "code",
   "execution_count": 3,
   "id": "f43975c6-08f6-4c10-8569-ba9a09969fdf",
   "metadata": {},
   "outputs": [
    {
     "name": "stdout",
     "output_type": "stream",
     "text": [
      "<Response [200]> 4 800\n"
     ]
    }
   ],
   "source": [
    "dfdisney_raw = buscar_peliculas('Disney+')"
   ]
  },
  {
   "cell_type": "markdown",
   "id": "7f2dad34-17d7-44bd-b1f4-c3c801688f62",
   "metadata": {},
   "source": [
    "Fecha de consulta en la API: 20-10-2025 22:00\n",
    "\n",
    "Verificamos que no haya perdida de datos:"
   ]
  },
  {
   "cell_type": "code",
   "execution_count": 5,
   "id": "4fd10e4a-e5f6-45be-87f7-8c2b29d77340",
   "metadata": {},
   "outputs": [
    {
     "name": "stdout",
     "output_type": "stream",
     "text": [
      "[800, 800]\n"
     ]
    }
   ],
   "source": [
    "largo_dataframe = len(dfdisney_raw[0])\n",
    "largo_segun_API = dfdisney_raw[1]\n",
    "print([largo_dataframe, largo_segun_API])"
   ]
  },
  {
   "cell_type": "markdown",
   "id": "d9e81758-ab90-4380-aff5-56713369d9f8",
   "metadata": {},
   "source": [
    "Los largos coinciden"
   ]
  },
  {
   "cell_type": "code",
   "execution_count": 6,
   "id": "358b51eb-4363-4596-82ae-267b32f80ec4",
   "metadata": {},
   "outputs": [],
   "source": [
    "dfdisney1 = dfdisney_raw[0]"
   ]
  },
  {
   "cell_type": "code",
   "execution_count": 7,
   "id": "37ee4993-eb6b-4af2-bbd9-15e04a53b781",
   "metadata": {},
   "outputs": [
    {
     "data": {
      "text/html": [
       "<div>\n",
       "<style scoped>\n",
       "    .dataframe tbody tr th:only-of-type {\n",
       "        vertical-align: middle;\n",
       "    }\n",
       "\n",
       "    .dataframe tbody tr th {\n",
       "        vertical-align: top;\n",
       "    }\n",
       "\n",
       "    .dataframe thead th {\n",
       "        text-align: right;\n",
       "    }\n",
       "</style>\n",
       "<table border=\"1\" class=\"dataframe\">\n",
       "  <thead>\n",
       "    <tr style=\"text-align: right;\">\n",
       "      <th></th>\n",
       "      <th>id</th>\n",
       "      <th>title</th>\n",
       "      <th>year</th>\n",
       "      <th>imdb_id</th>\n",
       "      <th>tmdb_id</th>\n",
       "      <th>tmdb_type</th>\n",
       "      <th>type</th>\n",
       "    </tr>\n",
       "  </thead>\n",
       "  <tbody>\n",
       "    <tr>\n",
       "      <th>0</th>\n",
       "      <td>1874486</td>\n",
       "      <td>Predator: Killer of Killers</td>\n",
       "      <td>2025</td>\n",
       "      <td>tt36463894</td>\n",
       "      <td>1376434</td>\n",
       "      <td>movie</td>\n",
       "      <td>movie</td>\n",
       "    </tr>\n",
       "    <tr>\n",
       "      <th>1</th>\n",
       "      <td>1685606</td>\n",
       "      <td>Thunderbolts*</td>\n",
       "      <td>2025</td>\n",
       "      <td>tt20969586</td>\n",
       "      <td>986056</td>\n",
       "      <td>movie</td>\n",
       "      <td>movie</td>\n",
       "    </tr>\n",
       "    <tr>\n",
       "      <th>2</th>\n",
       "      <td>1508465</td>\n",
       "      <td>Snow White</td>\n",
       "      <td>2025</td>\n",
       "      <td>tt6208148</td>\n",
       "      <td>447273</td>\n",
       "      <td>movie</td>\n",
       "      <td>movie</td>\n",
       "    </tr>\n",
       "    <tr>\n",
       "      <th>3</th>\n",
       "      <td>1560295</td>\n",
       "      <td>Doctor Strange in the Multiverse of Madness</td>\n",
       "      <td>2022</td>\n",
       "      <td>tt9419884</td>\n",
       "      <td>453395</td>\n",
       "      <td>movie</td>\n",
       "      <td>movie</td>\n",
       "    </tr>\n",
       "    <tr>\n",
       "      <th>4</th>\n",
       "      <td>138018</td>\n",
       "      <td>Avatar: The Way of Water</td>\n",
       "      <td>2022</td>\n",
       "      <td>tt1630029</td>\n",
       "      <td>76600</td>\n",
       "      <td>movie</td>\n",
       "      <td>movie</td>\n",
       "    </tr>\n",
       "    <tr>\n",
       "      <th>...</th>\n",
       "      <td>...</td>\n",
       "      <td>...</td>\n",
       "      <td>...</td>\n",
       "      <td>...</td>\n",
       "      <td>...</td>\n",
       "      <td>...</td>\n",
       "      <td>...</td>\n",
       "    </tr>\n",
       "    <tr>\n",
       "      <th>795</th>\n",
       "      <td>1789373</td>\n",
       "      <td>Fly</td>\n",
       "      <td>2024</td>\n",
       "      <td>tt31189863</td>\n",
       "      <td>1242392</td>\n",
       "      <td>movie</td>\n",
       "      <td>movie</td>\n",
       "    </tr>\n",
       "    <tr>\n",
       "      <th>796</th>\n",
       "      <td>1942789</td>\n",
       "      <td>Jade Eyed Leopard</td>\n",
       "      <td>2020</td>\n",
       "      <td>tt32059187</td>\n",
       "      <td>790058</td>\n",
       "      <td>movie</td>\n",
       "      <td>movie</td>\n",
       "    </tr>\n",
       "    <tr>\n",
       "      <th>797</th>\n",
       "      <td>1829508</td>\n",
       "      <td>Protecting Paradise: The Story of Niue</td>\n",
       "      <td>2024</td>\n",
       "      <td>tt32421420</td>\n",
       "      <td>1300132</td>\n",
       "      <td>movie</td>\n",
       "      <td>movie</td>\n",
       "    </tr>\n",
       "    <tr>\n",
       "      <th>798</th>\n",
       "      <td>1819120</td>\n",
       "      <td>John Williams in Tokyo</td>\n",
       "      <td>2024</td>\n",
       "      <td>tt36131268</td>\n",
       "      <td>1284678</td>\n",
       "      <td>movie</td>\n",
       "      <td>movie</td>\n",
       "    </tr>\n",
       "    <tr>\n",
       "      <th>799</th>\n",
       "      <td>1866954</td>\n",
       "      <td>Abracadaver</td>\n",
       "      <td>2024</td>\n",
       "      <td>tt33525840</td>\n",
       "      <td>1364324</td>\n",
       "      <td>movie</td>\n",
       "      <td>movie</td>\n",
       "    </tr>\n",
       "  </tbody>\n",
       "</table>\n",
       "<p>800 rows × 7 columns</p>\n",
       "</div>"
      ],
      "text/plain": [
       "          id                                        title  year     imdb_id  \\\n",
       "0    1874486                  Predator: Killer of Killers  2025  tt36463894   \n",
       "1    1685606                                Thunderbolts*  2025  tt20969586   \n",
       "2    1508465                                   Snow White  2025   tt6208148   \n",
       "3    1560295  Doctor Strange in the Multiverse of Madness  2022   tt9419884   \n",
       "4     138018                     Avatar: The Way of Water  2022   tt1630029   \n",
       "..       ...                                          ...   ...         ...   \n",
       "795  1789373                                          Fly  2024  tt31189863   \n",
       "796  1942789                            Jade Eyed Leopard  2020  tt32059187   \n",
       "797  1829508       Protecting Paradise: The Story of Niue  2024  tt32421420   \n",
       "798  1819120                       John Williams in Tokyo  2024  tt36131268   \n",
       "799  1866954                                  Abracadaver  2024  tt33525840   \n",
       "\n",
       "     tmdb_id tmdb_type   type  \n",
       "0    1376434     movie  movie  \n",
       "1     986056     movie  movie  \n",
       "2     447273     movie  movie  \n",
       "3     453395     movie  movie  \n",
       "4      76600     movie  movie  \n",
       "..       ...       ...    ...  \n",
       "795  1242392     movie  movie  \n",
       "796   790058     movie  movie  \n",
       "797  1300132     movie  movie  \n",
       "798  1284678     movie  movie  \n",
       "799  1364324     movie  movie  \n",
       "\n",
       "[800 rows x 7 columns]"
      ]
     },
     "execution_count": 7,
     "metadata": {},
     "output_type": "execute_result"
    }
   ],
   "source": [
    "dfdisney1"
   ]
  },
  {
   "cell_type": "markdown",
   "id": "222606e4-2cac-442b-a495-a2cd16effb28",
   "metadata": {},
   "source": [
    "Guardamos estos datos crudos en un csv"
   ]
  },
  {
   "cell_type": "code",
   "execution_count": 8,
   "id": "13e48376-ce28-4301-ae0d-7b677ae85bcb",
   "metadata": {},
   "outputs": [],
   "source": [
    "dfdisney1.to_csv('data/raw_api_disney.csv', index=False)"
   ]
  },
  {
   "cell_type": "markdown",
   "id": "a3416c8b-2a12-439e-94c3-be7551b3a510",
   "metadata": {},
   "source": [
    "## Limpieza\n",
    "### Columnas\n",
    "Las columnas nos entregan los siguientes datos:\n",
    "- `id`: Identificador de la película en la API\n",
    "- `title`: Nombre de la película\n",
    "- `year`: Año de estreno de la película\n",
    "- `imdb_id`: Identificador de la película en IMDB\n",
    "- `tmdb_id`: Identificador de la película en TMDB\n",
    "- `tmdb_type`: Tipo del título en TMDB\n",
    "- `type`: Tipo del título en la API"
   ]
  },
  {
   "cell_type": "markdown",
   "id": "7745490c-25a8-4f83-b388-90a273e76437",
   "metadata": {},
   "source": [
    "### Eliminar Columnas\n",
    "Como le especificamos a la API que nos entregara solo películas, la columna `type` y `tmdb_type` no deberían entregar informacion importante, ya que todas las filas tienen el mismo tipo"
   ]
  },
  {
   "cell_type": "code",
   "execution_count": 9,
   "id": "116ba1c5-bdce-4ece-ab6f-c7cefda25377",
   "metadata": {},
   "outputs": [
    {
     "data": {
      "text/plain": [
       "array(['movie'], dtype=object)"
      ]
     },
     "execution_count": 9,
     "metadata": {},
     "output_type": "execute_result"
    }
   ],
   "source": [
    "dfdisney1['type'].unique()"
   ]
  },
  {
   "cell_type": "code",
   "execution_count": 10,
   "id": "8f68405c-e9ab-4050-a13b-608b6c7ca5bf",
   "metadata": {},
   "outputs": [
    {
     "data": {
      "text/plain": [
       "array(['movie'], dtype=object)"
      ]
     },
     "execution_count": 10,
     "metadata": {},
     "output_type": "execute_result"
    }
   ],
   "source": [
    "dfdisney1['tmdb_type'].unique()"
   ]
  },
  {
   "cell_type": "markdown",
   "id": "e4ba2c0d-e7d9-4213-8c45-e92883f431cb",
   "metadata": {},
   "source": [
    "Al ser todos del mismo tipo, ambas columnas pueden ser eliminadas"
   ]
  },
  {
   "cell_type": "code",
   "execution_count": 11,
   "id": "a1e0c1b1-2852-4d88-9c84-1d0defa459f1",
   "metadata": {},
   "outputs": [],
   "source": [
    "dfdisney2 = dfdisney1[['id', 'title', 'year', 'imdb_id', 'tmdb_id']]"
   ]
  },
  {
   "cell_type": "markdown",
   "id": "4da25fc9-2119-4cd9-9e05-58464abc5476",
   "metadata": {},
   "source": [
    "### Valores Na"
   ]
  },
  {
   "cell_type": "code",
   "execution_count": 12,
   "id": "feeab27e-20ca-4afd-999e-4b26892af983",
   "metadata": {},
   "outputs": [
    {
     "data": {
      "text/plain": [
       "{'id': np.int64(0),\n",
       " 'title': np.int64(0),\n",
       " 'year': np.int64(0),\n",
       " 'imdb_id': np.int64(0),\n",
       " 'tmdb_id': np.int64(0)}"
      ]
     },
     "execution_count": 12,
     "metadata": {},
     "output_type": "execute_result"
    }
   ],
   "source": [
    "resultados = {}\n",
    "for i in dfdisney2.columns:\n",
    "    resultados[i] = dfdisney2[i].isna().sum()\n",
    "resultados"
   ]
  },
  {
   "cell_type": "markdown",
   "id": "190523db-9048-4385-a91c-346ecfb496da",
   "metadata": {},
   "source": [
    "### Duplicados"
   ]
  },
  {
   "cell_type": "code",
   "execution_count": 13,
   "id": "b8ca46d6-91f6-4398-bf86-a0db52c8d6ed",
   "metadata": {},
   "outputs": [
    {
     "data": {
      "text/plain": [
       "np.int64(0)"
      ]
     },
     "execution_count": 13,
     "metadata": {},
     "output_type": "execute_result"
    }
   ],
   "source": [
    "dfdisney2.duplicated().sum()"
   ]
  },
  {
   "cell_type": "markdown",
   "id": "60d70ee2-00f8-4e1a-87c3-c3ffb64cbc6a",
   "metadata": {},
   "source": [
    "#### id\n",
    "Deberia ser unico para cada pelicula"
   ]
  },
  {
   "cell_type": "code",
   "execution_count": 14,
   "id": "f464e5fd-90e8-4672-8ebe-8cac2d93fd60",
   "metadata": {},
   "outputs": [
    {
     "data": {
      "text/plain": [
       "np.int64(0)"
      ]
     },
     "execution_count": 14,
     "metadata": {},
     "output_type": "execute_result"
    }
   ],
   "source": [
    "dfdisney2.duplicated('id').sum()"
   ]
  },
  {
   "cell_type": "markdown",
   "id": "2f37ef2a-f53d-4aa3-bc00-a5835f2823e4",
   "metadata": {},
   "source": [
    "#### title\n",
    "Es posible que se repita, ya que hay películas con el mismo título"
   ]
  },
  {
   "cell_type": "code",
   "execution_count": 15,
   "id": "267951b6-397b-4da1-ad56-6900497d3109",
   "metadata": {},
   "outputs": [
    {
     "data": {
      "text/plain": [
       "np.int64(24)"
      ]
     },
     "execution_count": 15,
     "metadata": {},
     "output_type": "execute_result"
    }
   ],
   "source": [
    "dfdisney2.duplicated('title').sum()"
   ]
  },
  {
   "cell_type": "markdown",
   "id": "ac27e826-3b5c-434f-8518-5c4bfbc109a9",
   "metadata": {},
   "source": [
    "revisemos porque se repiten los titulos de las peliculas"
   ]
  },
  {
   "cell_type": "code",
   "execution_count": 18,
   "id": "e5ec97e1-5bb1-4278-92d0-fad64bc65c61",
   "metadata": {},
   "outputs": [
    {
     "data": {
      "text/html": [
       "<div>\n",
       "<style scoped>\n",
       "    .dataframe tbody tr th:only-of-type {\n",
       "        vertical-align: middle;\n",
       "    }\n",
       "\n",
       "    .dataframe tbody tr th {\n",
       "        vertical-align: top;\n",
       "    }\n",
       "\n",
       "    .dataframe thead th {\n",
       "        text-align: right;\n",
       "    }\n",
       "</style>\n",
       "<table border=\"1\" class=\"dataframe\">\n",
       "  <thead>\n",
       "    <tr style=\"text-align: right;\">\n",
       "      <th></th>\n",
       "      <th>id</th>\n",
       "      <th>title</th>\n",
       "      <th>year</th>\n",
       "      <th>imdb_id</th>\n",
       "      <th>tmdb_id</th>\n",
       "    </tr>\n",
       "  </thead>\n",
       "  <tbody>\n",
       "    <tr>\n",
       "      <th>2</th>\n",
       "      <td>1508465</td>\n",
       "      <td>Snow White</td>\n",
       "      <td>2025</td>\n",
       "      <td>tt6208148</td>\n",
       "      <td>447273</td>\n",
       "    </tr>\n",
       "    <tr>\n",
       "      <th>622</th>\n",
       "      <td>1971665</td>\n",
       "      <td>Snow White</td>\n",
       "      <td>2025</td>\n",
       "      <td>tt35983585</td>\n",
       "      <td>1449951</td>\n",
       "    </tr>\n",
       "    <tr>\n",
       "      <th>710</th>\n",
       "      <td>1883601</td>\n",
       "      <td>Snow White</td>\n",
       "      <td>2025</td>\n",
       "      <td>tt32370897</td>\n",
       "      <td>1387127</td>\n",
       "    </tr>\n",
       "  </tbody>\n",
       "</table>\n",
       "</div>"
      ],
      "text/plain": [
       "          id       title  year     imdb_id  tmdb_id\n",
       "2    1508465  Snow White  2025   tt6208148   447273\n",
       "622  1971665  Snow White  2025  tt35983585  1449951\n",
       "710  1883601  Snow White  2025  tt32370897  1387127"
      ]
     },
     "execution_count": 18,
     "metadata": {},
     "output_type": "execute_result"
    }
   ],
   "source": [
    "dfdisney2[dfdisney2['title'] == 'Snow White']"
   ]
  },
  {
   "cell_type": "markdown",
   "id": "5f4ec408-6362-4030-bb2c-39d407b6fbe3",
   "metadata": {},
   "source": [
    "Son distintas películas con mismo nombre"
   ]
  },
  {
   "cell_type": "markdown",
   "id": "9169755c-4e48-4cec-8147-175fc5901150",
   "metadata": {},
   "source": [
    "#### imdb_id"
   ]
  },
  {
   "cell_type": "code",
   "execution_count": 19,
   "id": "b518afe0-2af3-4f39-8248-2105cbf4a00e",
   "metadata": {},
   "outputs": [
    {
     "data": {
      "text/plain": [
       "np.int64(0)"
      ]
     },
     "execution_count": 19,
     "metadata": {},
     "output_type": "execute_result"
    }
   ],
   "source": [
    "dfdisney2.duplicated('imdb_id').sum()"
   ]
  },
  {
   "cell_type": "markdown",
   "id": "af2135d7-ca61-4f86-a712-676c76d9544f",
   "metadata": {},
   "source": [
    "### Tipos de columnas"
   ]
  },
  {
   "cell_type": "code",
   "execution_count": 20,
   "id": "709c9686-0b92-4bdc-a2ef-250f1c9f3600",
   "metadata": {},
   "outputs": [
    {
     "data": {
      "text/plain": [
       "id          int64\n",
       "title      object\n",
       "year        int64\n",
       "imdb_id    object\n",
       "tmdb_id     int64\n",
       "dtype: object"
      ]
     },
     "execution_count": 20,
     "metadata": {},
     "output_type": "execute_result"
    }
   ],
   "source": [
    "dfdisney2.dtypes"
   ]
  },
  {
   "cell_type": "markdown",
   "id": "78587aee-f2f6-4f55-92b1-3828e173b306",
   "metadata": {},
   "source": [
    "Los tipos de las columnas están bien"
   ]
  },
  {
   "cell_type": "markdown",
   "id": "f9efcbc5-e1f1-4ebe-bec2-040b399e7d36",
   "metadata": {},
   "source": [
    "### Analisis de columna `year`"
   ]
  },
  {
   "cell_type": "code",
   "execution_count": 21,
   "id": "72ec8f5c-24b9-4d6f-9397-5f5c2accb757",
   "metadata": {},
   "outputs": [
    {
     "data": {
      "text/plain": [
       "count     800.000000\n",
       "mean     2005.835000\n",
       "std        17.800951\n",
       "min      1938.000000\n",
       "25%      1998.000000\n",
       "50%      2010.000000\n",
       "75%      2019.000000\n",
       "max      2025.000000\n",
       "Name: year, dtype: float64"
      ]
     },
     "execution_count": 21,
     "metadata": {},
     "output_type": "execute_result"
    }
   ],
   "source": [
    "dfdisney2['year'].describe()"
   ]
  },
  {
   "cell_type": "markdown",
   "id": "4be8a746-9440-40ac-a6cc-5a2bae4b30cc",
   "metadata": {},
   "source": [
    "todos están dentro de un rango lógico"
   ]
  },
  {
   "cell_type": "markdown",
   "id": "97c38027-1257-4ebc-9587-b0fda4aee21d",
   "metadata": {},
   "source": [
    "## Creacion archivo `.csv`\n",
    "Como ya tenemos los datos correctos y limpios, procedemos a guardar en un archivo `.csv`"
   ]
  },
  {
   "cell_type": "code",
   "execution_count": 22,
   "id": "c9a8e1e4-69e2-4787-b536-efb56eb2c0c4",
   "metadata": {},
   "outputs": [],
   "source": [
    "dfdisney2.to_csv('data/api_disney.csv', index=False)"
   ]
  },
  {
   "cell_type": "code",
   "execution_count": null,
   "id": "07f63904-0344-45d6-a4ad-9978ac7e95c8",
   "metadata": {},
   "outputs": [],
   "source": []
  }
 ],
 "metadata": {
  "kernelspec": {
   "display_name": "Python 3 (ipykernel)",
   "language": "python",
   "name": "python3"
  },
  "language_info": {
   "codemirror_mode": {
    "name": "ipython",
    "version": 3
   },
   "file_extension": ".py",
   "mimetype": "text/x-python",
   "name": "python",
   "nbconvert_exporter": "python",
   "pygments_lexer": "ipython3",
   "version": "3.13.2"
  }
 },
 "nbformat": 4,
 "nbformat_minor": 5
}
