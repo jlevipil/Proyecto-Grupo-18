{
 "cells": [
  {
   "cell_type": "markdown",
   "id": "dc39c320-e45b-4927-9ba9-53cc0c51f985",
   "metadata": {},
   "source": [
    "# Limpieza de Netflix"
   ]
  },
  {
   "cell_type": "markdown",
   "id": "eb5fea03-80ca-49d5-b07f-1cb559ac630c",
   "metadata": {},
   "source": [
    "## Pedir datos a la API"
   ]
  },
  {
   "cell_type": "code",
   "execution_count": 1,
   "id": "c4639437-fb3d-419b-84d9-154826364017",
   "metadata": {},
   "outputs": [],
   "source": [
    "# IMPORTS\n",
    "import numpy as np\n",
    "import pandas as pd\n",
    "import requests as rq"
   ]
  },
  {
   "cell_type": "markdown",
   "id": "41487bef",
   "metadata": {},
   "source": [
    "Leemos el archivo csv de Netflix anteriormente pedidos en \"Datos_Netflix\""
   ]
  },
  {
   "cell_type": "code",
   "execution_count": 2,
   "id": "358b51eb-4363-4596-82ae-267b32f80ec4",
   "metadata": {},
   "outputs": [],
   "source": [
    "dfnetflix = pd.read_csv('data/peliculas_netflix.csv')"
   ]
  },
  {
   "cell_type": "code",
   "execution_count": 4,
   "id": "37ee4993-eb6b-4af2-bbd9-15e04a53b781",
   "metadata": {},
   "outputs": [
    {
     "data": {
      "text/html": [
       "<div>\n",
       "<style scoped>\n",
       "    .dataframe tbody tr th:only-of-type {\n",
       "        vertical-align: middle;\n",
       "    }\n",
       "\n",
       "    .dataframe tbody tr th {\n",
       "        vertical-align: top;\n",
       "    }\n",
       "\n",
       "    .dataframe thead th {\n",
       "        text-align: right;\n",
       "    }\n",
       "</style>\n",
       "<table border=\"1\" class=\"dataframe\">\n",
       "  <thead>\n",
       "    <tr style=\"text-align: right;\">\n",
       "      <th></th>\n",
       "      <th>id</th>\n",
       "      <th>title</th>\n",
       "      <th>year</th>\n",
       "      <th>imdb_id</th>\n",
       "      <th>tmdb_id</th>\n",
       "      <th>tmdb_type</th>\n",
       "      <th>type</th>\n",
       "    </tr>\n",
       "  </thead>\n",
       "  <tbody>\n",
       "    <tr>\n",
       "      <th>0</th>\n",
       "      <td>1789382</td>\n",
       "      <td>Steve</td>\n",
       "      <td>2025</td>\n",
       "      <td>tt32985279</td>\n",
       "      <td>1242404</td>\n",
       "      <td>movie</td>\n",
       "      <td>movie</td>\n",
       "    </tr>\n",
       "    <tr>\n",
       "      <th>1</th>\n",
       "      <td>1823218</td>\n",
       "      <td>The Woman in Cabin 10</td>\n",
       "      <td>2025</td>\n",
       "      <td>tt7130300</td>\n",
       "      <td>1290879</td>\n",
       "      <td>movie</td>\n",
       "      <td>movie</td>\n",
       "    </tr>\n",
       "    <tr>\n",
       "      <th>2</th>\n",
       "      <td>1996393</td>\n",
       "      <td>Swim to Me</td>\n",
       "      <td>2025</td>\n",
       "      <td>tt34682204</td>\n",
       "      <td>1484640</td>\n",
       "      <td>movie</td>\n",
       "      <td>movie</td>\n",
       "    </tr>\n",
       "    <tr>\n",
       "      <th>3</th>\n",
       "      <td>11042350</td>\n",
       "      <td>My Father, the BTK Killer</td>\n",
       "      <td>2025</td>\n",
       "      <td>tt38466379</td>\n",
       "      <td>1550785</td>\n",
       "      <td>movie</td>\n",
       "      <td>movie</td>\n",
       "    </tr>\n",
       "    <tr>\n",
       "      <th>4</th>\n",
       "      <td>1780773</td>\n",
       "      <td>28 Years Later</td>\n",
       "      <td>2025</td>\n",
       "      <td>tt10548174</td>\n",
       "      <td>1100988</td>\n",
       "      <td>movie</td>\n",
       "      <td>movie</td>\n",
       "    </tr>\n",
       "    <tr>\n",
       "      <th>...</th>\n",
       "      <td>...</td>\n",
       "      <td>...</td>\n",
       "      <td>...</td>\n",
       "      <td>...</td>\n",
       "      <td>...</td>\n",
       "      <td>...</td>\n",
       "      <td>...</td>\n",
       "    </tr>\n",
       "    <tr>\n",
       "      <th>2899</th>\n",
       "      <td>1725885</td>\n",
       "      <td>The (Almost) Legends</td>\n",
       "      <td>2023</td>\n",
       "      <td>tt21737024</td>\n",
       "      <td>1148969</td>\n",
       "      <td>movie</td>\n",
       "      <td>movie</td>\n",
       "    </tr>\n",
       "    <tr>\n",
       "      <th>2900</th>\n",
       "      <td>1795372</td>\n",
       "      <td>Harta Tahta Raisa</td>\n",
       "      <td>2024</td>\n",
       "      <td>tt31495242</td>\n",
       "      <td>1250870</td>\n",
       "      <td>movie</td>\n",
       "      <td>movie</td>\n",
       "    </tr>\n",
       "    <tr>\n",
       "      <th>2901</th>\n",
       "      <td>1720462</td>\n",
       "      <td>Jurnal Risa by Risa Saraswati</td>\n",
       "      <td>2024</td>\n",
       "      <td>tt28448409</td>\n",
       "      <td>1141132</td>\n",
       "      <td>movie</td>\n",
       "      <td>movie</td>\n",
       "    </tr>\n",
       "    <tr>\n",
       "      <th>2902</th>\n",
       "      <td>1852883</td>\n",
       "      <td>Ahir Shah: Ends</td>\n",
       "      <td>2024</td>\n",
       "      <td>tt33246651</td>\n",
       "      <td>1332077</td>\n",
       "      <td>movie</td>\n",
       "      <td>movie</td>\n",
       "    </tr>\n",
       "    <tr>\n",
       "      <th>2903</th>\n",
       "      <td>1825357</td>\n",
       "      <td>Nelma Kodama: The Queen of Dirty Money</td>\n",
       "      <td>2024</td>\n",
       "      <td>tt32441206</td>\n",
       "      <td>1294017</td>\n",
       "      <td>movie</td>\n",
       "      <td>movie</td>\n",
       "    </tr>\n",
       "  </tbody>\n",
       "</table>\n",
       "<p>2904 rows × 7 columns</p>\n",
       "</div>"
      ],
      "text/plain": [
       "            id                                   title  year     imdb_id  \\\n",
       "0      1789382                                   Steve  2025  tt32985279   \n",
       "1      1823218                   The Woman in Cabin 10  2025   tt7130300   \n",
       "2      1996393                              Swim to Me  2025  tt34682204   \n",
       "3     11042350               My Father, the BTK Killer  2025  tt38466379   \n",
       "4      1780773                          28 Years Later  2025  tt10548174   \n",
       "...        ...                                     ...   ...         ...   \n",
       "2899   1725885                    The (Almost) Legends  2023  tt21737024   \n",
       "2900   1795372                       Harta Tahta Raisa  2024  tt31495242   \n",
       "2901   1720462           Jurnal Risa by Risa Saraswati  2024  tt28448409   \n",
       "2902   1852883                         Ahir Shah: Ends  2024  tt33246651   \n",
       "2903   1825357  Nelma Kodama: The Queen of Dirty Money  2024  tt32441206   \n",
       "\n",
       "      tmdb_id tmdb_type   type  \n",
       "0     1242404     movie  movie  \n",
       "1     1290879     movie  movie  \n",
       "2     1484640     movie  movie  \n",
       "3     1550785     movie  movie  \n",
       "4     1100988     movie  movie  \n",
       "...       ...       ...    ...  \n",
       "2899  1148969     movie  movie  \n",
       "2900  1250870     movie  movie  \n",
       "2901  1141132     movie  movie  \n",
       "2902  1332077     movie  movie  \n",
       "2903  1294017     movie  movie  \n",
       "\n",
       "[2904 rows x 7 columns]"
      ]
     },
     "execution_count": 4,
     "metadata": {},
     "output_type": "execute_result"
    }
   ],
   "source": [
    "dfnetflix"
   ]
  },
  {
   "cell_type": "markdown",
   "id": "a3416c8b-2a12-439e-94c3-be7551b3a510",
   "metadata": {},
   "source": [
    "## Limpieza\n",
    "### Columnas\n",
    "Las columnas nos entregan los siguientes datos:\n",
    "- `id`: Identificador de la pelicula en la API\n",
    "- `title`: Nombre de la pelicula\n",
    "- `year`: Año de estreno de la pelicula\n",
    "- `imdb_id`: Identificador de la pelicula en IMDB\n",
    "- `tmdb_id`: Identificador de la pelicula en TMDB\n",
    "- `tmdb_type`: Tipo del titulo en TMDB\n",
    "- `type`: Tipo del titulo en la API"
   ]
  },
  {
   "cell_type": "markdown",
   "id": "7745490c-25a8-4f83-b388-90a273e76437",
   "metadata": {},
   "source": [
    "### Eliminar Columnas\n",
    "Como le especificamos a la API que nos entregara solo peliculas, la columna `'type'` y `'tmdb_type'` no deberian entregar informacion importante, ya que todas las filas tienen el mismo tipo"
   ]
  },
  {
   "cell_type": "code",
   "execution_count": 5,
   "id": "116ba1c5-bdce-4ece-ab6f-c7cefda25377",
   "metadata": {},
   "outputs": [
    {
     "data": {
      "text/plain": [
       "array(['movie'], dtype=object)"
      ]
     },
     "execution_count": 5,
     "metadata": {},
     "output_type": "execute_result"
    }
   ],
   "source": [
    "dfnetflix1 = dfnetflix\n",
    "dfnetflix1['type'].unique()"
   ]
  },
  {
   "cell_type": "code",
   "execution_count": 6,
   "id": "8f68405c-e9ab-4050-a13b-608b6c7ca5bf",
   "metadata": {},
   "outputs": [
    {
     "data": {
      "text/plain": [
       "array(['movie', 'tv'], dtype=object)"
      ]
     },
     "execution_count": 6,
     "metadata": {},
     "output_type": "execute_result"
    }
   ],
   "source": [
    "dfnetflix1['tmdb_type'].unique()"
   ]
  },
  {
   "cell_type": "markdown",
   "id": "e4ba2c0d-e7d9-4213-8c45-e92883f431cb",
   "metadata": {},
   "source": [
    "En la columna `'type'` si tiene un solo tipo, pero al parecer `'tmdb_type'` no, revisemos las filas con tipo distinto"
   ]
  },
  {
   "cell_type": "code",
   "execution_count": 7,
   "id": "c8e1d481-ed4d-4d10-9369-556fe34627bb",
   "metadata": {},
   "outputs": [
    {
     "data": {
      "text/html": [
       "<div>\n",
       "<style scoped>\n",
       "    .dataframe tbody tr th:only-of-type {\n",
       "        vertical-align: middle;\n",
       "    }\n",
       "\n",
       "    .dataframe tbody tr th {\n",
       "        vertical-align: top;\n",
       "    }\n",
       "\n",
       "    .dataframe thead th {\n",
       "        text-align: right;\n",
       "    }\n",
       "</style>\n",
       "<table border=\"1\" class=\"dataframe\">\n",
       "  <thead>\n",
       "    <tr style=\"text-align: right;\">\n",
       "      <th></th>\n",
       "      <th>id</th>\n",
       "      <th>title</th>\n",
       "      <th>year</th>\n",
       "      <th>imdb_id</th>\n",
       "      <th>tmdb_id</th>\n",
       "      <th>tmdb_type</th>\n",
       "      <th>type</th>\n",
       "    </tr>\n",
       "  </thead>\n",
       "  <tbody>\n",
       "    <tr>\n",
       "      <th>2766</th>\n",
       "      <td>3199048</td>\n",
       "      <td>The Rise of Wagner</td>\n",
       "      <td>2023</td>\n",
       "      <td>tt27480377</td>\n",
       "      <td>228220</td>\n",
       "      <td>tv</td>\n",
       "      <td>movie</td>\n",
       "    </tr>\n",
       "  </tbody>\n",
       "</table>\n",
       "</div>"
      ],
      "text/plain": [
       "           id               title  year     imdb_id  tmdb_id tmdb_type   type\n",
       "2766  3199048  The Rise of Wagner  2023  tt27480377   228220        tv  movie"
      ]
     },
     "execution_count": 7,
     "metadata": {},
     "output_type": "execute_result"
    }
   ],
   "source": [
    "dfnetflix1[dfnetflix1['tmdb_type'] == 'tv']"
   ]
  },
  {
   "cell_type": "markdown",
   "id": "d7077cb2-a1a5-4b09-b7d5-fecf9ba6b0df",
   "metadata": {},
   "source": [
    "Revisando el titulo 'The Rise of Wagner' en la pagina de imdb, este figura como un documental, al no estar separado en capitulos lo dejaremos como tipo `'movie'`. Al ya ser todos del mismo tipo, ambas columnas pueden ser eliminadas"
   ]
  },
  {
   "cell_type": "code",
   "execution_count": 8,
   "id": "a1e0c1b1-2852-4d88-9c84-1d0defa459f1",
   "metadata": {},
   "outputs": [],
   "source": [
    "dfnetflix2 = dfnetflix1[['id', 'title', 'year', 'imdb_id', 'tmdb_id']]"
   ]
  },
  {
   "cell_type": "markdown",
   "id": "4da25fc9-2119-4cd9-9e05-58464abc5476",
   "metadata": {},
   "source": [
    "### Valores nan"
   ]
  },
  {
   "cell_type": "code",
   "execution_count": 9,
   "id": "d55b8329-d9e1-46ed-88b4-496ea01e6caf",
   "metadata": {},
   "outputs": [
    {
     "data": {
      "text/plain": [
       "array([False])"
      ]
     },
     "execution_count": 9,
     "metadata": {},
     "output_type": "execute_result"
    }
   ],
   "source": [
    "dfnetflix2['id'].isna().unique()"
   ]
  },
  {
   "cell_type": "code",
   "execution_count": 10,
   "id": "4e5e5cae-ae13-423d-8fcd-eea0608fdada",
   "metadata": {},
   "outputs": [
    {
     "data": {
      "text/plain": [
       "array([False])"
      ]
     },
     "execution_count": 10,
     "metadata": {},
     "output_type": "execute_result"
    }
   ],
   "source": [
    "dfnetflix2['title'].isna().unique()"
   ]
  },
  {
   "cell_type": "code",
   "execution_count": 11,
   "id": "13727ca7-afee-4eca-9405-7da405863196",
   "metadata": {},
   "outputs": [
    {
     "data": {
      "text/plain": [
       "array([False])"
      ]
     },
     "execution_count": 11,
     "metadata": {},
     "output_type": "execute_result"
    }
   ],
   "source": [
    "dfnetflix2['year'].isna().unique()"
   ]
  },
  {
   "cell_type": "code",
   "execution_count": 12,
   "id": "184ef21e-8436-413b-8cb2-00bef76dbe7e",
   "metadata": {},
   "outputs": [
    {
     "data": {
      "text/plain": [
       "array([False])"
      ]
     },
     "execution_count": 12,
     "metadata": {},
     "output_type": "execute_result"
    }
   ],
   "source": [
    "dfnetflix2['imdb_id'].isna().unique()"
   ]
  },
  {
   "cell_type": "markdown",
   "id": "190523db-9048-4385-a91c-346ecfb496da",
   "metadata": {},
   "source": [
    "### Duplicados"
   ]
  },
  {
   "cell_type": "code",
   "execution_count": 13,
   "id": "b8ca46d6-91f6-4398-bf86-a0db52c8d6ed",
   "metadata": {},
   "outputs": [
    {
     "data": {
      "text/plain": [
       "np.int64(0)"
      ]
     },
     "execution_count": 13,
     "metadata": {},
     "output_type": "execute_result"
    }
   ],
   "source": [
    "dfnetflix2.duplicated().sum()"
   ]
  },
  {
   "cell_type": "code",
   "execution_count": 14,
   "id": "5a7c0fc4-0cd0-40fa-9d29-2ef179f4d844",
   "metadata": {},
   "outputs": [
    {
     "data": {
      "text/html": [
       "<div>\n",
       "<style scoped>\n",
       "    .dataframe tbody tr th:only-of-type {\n",
       "        vertical-align: middle;\n",
       "    }\n",
       "\n",
       "    .dataframe tbody tr th {\n",
       "        vertical-align: top;\n",
       "    }\n",
       "\n",
       "    .dataframe thead th {\n",
       "        text-align: right;\n",
       "    }\n",
       "</style>\n",
       "<table border=\"1\" class=\"dataframe\">\n",
       "  <thead>\n",
       "    <tr style=\"text-align: right;\">\n",
       "      <th></th>\n",
       "      <th>id</th>\n",
       "      <th>title</th>\n",
       "      <th>year</th>\n",
       "      <th>imdb_id</th>\n",
       "      <th>tmdb_id</th>\n",
       "    </tr>\n",
       "  </thead>\n",
       "  <tbody>\n",
       "  </tbody>\n",
       "</table>\n",
       "</div>"
      ],
      "text/plain": [
       "Empty DataFrame\n",
       "Columns: [id, title, year, imdb_id, tmdb_id]\n",
       "Index: []"
      ]
     },
     "execution_count": 14,
     "metadata": {},
     "output_type": "execute_result"
    }
   ],
   "source": [
    "dfnetflix2[dfnetflix2.duplicated()]"
   ]
  },
  {
   "cell_type": "code",
   "execution_count": 15,
   "id": "bda24fb8-0a02-4aed-9bea-34c98a021f96",
   "metadata": {},
   "outputs": [
    {
     "data": {
      "text/html": [
       "<div>\n",
       "<style scoped>\n",
       "    .dataframe tbody tr th:only-of-type {\n",
       "        vertical-align: middle;\n",
       "    }\n",
       "\n",
       "    .dataframe tbody tr th {\n",
       "        vertical-align: top;\n",
       "    }\n",
       "\n",
       "    .dataframe thead th {\n",
       "        text-align: right;\n",
       "    }\n",
       "</style>\n",
       "<table border=\"1\" class=\"dataframe\">\n",
       "  <thead>\n",
       "    <tr style=\"text-align: right;\">\n",
       "      <th></th>\n",
       "      <th>id</th>\n",
       "      <th>title</th>\n",
       "      <th>year</th>\n",
       "      <th>imdb_id</th>\n",
       "      <th>tmdb_id</th>\n",
       "    </tr>\n",
       "  </thead>\n",
       "  <tbody>\n",
       "    <tr>\n",
       "      <th>0</th>\n",
       "      <td>1789382</td>\n",
       "      <td>Steve</td>\n",
       "      <td>2025</td>\n",
       "      <td>tt32985279</td>\n",
       "      <td>1242404</td>\n",
       "    </tr>\n",
       "    <tr>\n",
       "      <th>1</th>\n",
       "      <td>1823218</td>\n",
       "      <td>The Woman in Cabin 10</td>\n",
       "      <td>2025</td>\n",
       "      <td>tt7130300</td>\n",
       "      <td>1290879</td>\n",
       "    </tr>\n",
       "    <tr>\n",
       "      <th>2</th>\n",
       "      <td>1996393</td>\n",
       "      <td>Swim to Me</td>\n",
       "      <td>2025</td>\n",
       "      <td>tt34682204</td>\n",
       "      <td>1484640</td>\n",
       "    </tr>\n",
       "    <tr>\n",
       "      <th>3</th>\n",
       "      <td>11042350</td>\n",
       "      <td>My Father, the BTK Killer</td>\n",
       "      <td>2025</td>\n",
       "      <td>tt38466379</td>\n",
       "      <td>1550785</td>\n",
       "    </tr>\n",
       "    <tr>\n",
       "      <th>4</th>\n",
       "      <td>1780773</td>\n",
       "      <td>28 Years Later</td>\n",
       "      <td>2025</td>\n",
       "      <td>tt10548174</td>\n",
       "      <td>1100988</td>\n",
       "    </tr>\n",
       "    <tr>\n",
       "      <th>...</th>\n",
       "      <td>...</td>\n",
       "      <td>...</td>\n",
       "      <td>...</td>\n",
       "      <td>...</td>\n",
       "      <td>...</td>\n",
       "    </tr>\n",
       "    <tr>\n",
       "      <th>2899</th>\n",
       "      <td>1725885</td>\n",
       "      <td>The (Almost) Legends</td>\n",
       "      <td>2023</td>\n",
       "      <td>tt21737024</td>\n",
       "      <td>1148969</td>\n",
       "    </tr>\n",
       "    <tr>\n",
       "      <th>2900</th>\n",
       "      <td>1795372</td>\n",
       "      <td>Harta Tahta Raisa</td>\n",
       "      <td>2024</td>\n",
       "      <td>tt31495242</td>\n",
       "      <td>1250870</td>\n",
       "    </tr>\n",
       "    <tr>\n",
       "      <th>2901</th>\n",
       "      <td>1720462</td>\n",
       "      <td>Jurnal Risa by Risa Saraswati</td>\n",
       "      <td>2024</td>\n",
       "      <td>tt28448409</td>\n",
       "      <td>1141132</td>\n",
       "    </tr>\n",
       "    <tr>\n",
       "      <th>2902</th>\n",
       "      <td>1852883</td>\n",
       "      <td>Ahir Shah: Ends</td>\n",
       "      <td>2024</td>\n",
       "      <td>tt33246651</td>\n",
       "      <td>1332077</td>\n",
       "    </tr>\n",
       "    <tr>\n",
       "      <th>2903</th>\n",
       "      <td>1825357</td>\n",
       "      <td>Nelma Kodama: The Queen of Dirty Money</td>\n",
       "      <td>2024</td>\n",
       "      <td>tt32441206</td>\n",
       "      <td>1294017</td>\n",
       "    </tr>\n",
       "  </tbody>\n",
       "</table>\n",
       "<p>2904 rows × 5 columns</p>\n",
       "</div>"
      ],
      "text/plain": [
       "            id                                   title  year     imdb_id  \\\n",
       "0      1789382                                   Steve  2025  tt32985279   \n",
       "1      1823218                   The Woman in Cabin 10  2025   tt7130300   \n",
       "2      1996393                              Swim to Me  2025  tt34682204   \n",
       "3     11042350               My Father, the BTK Killer  2025  tt38466379   \n",
       "4      1780773                          28 Years Later  2025  tt10548174   \n",
       "...        ...                                     ...   ...         ...   \n",
       "2899   1725885                    The (Almost) Legends  2023  tt21737024   \n",
       "2900   1795372                       Harta Tahta Raisa  2024  tt31495242   \n",
       "2901   1720462           Jurnal Risa by Risa Saraswati  2024  tt28448409   \n",
       "2902   1852883                         Ahir Shah: Ends  2024  tt33246651   \n",
       "2903   1825357  Nelma Kodama: The Queen of Dirty Money  2024  tt32441206   \n",
       "\n",
       "      tmdb_id  \n",
       "0     1242404  \n",
       "1     1290879  \n",
       "2     1484640  \n",
       "3     1550785  \n",
       "4     1100988  \n",
       "...       ...  \n",
       "2899  1148969  \n",
       "2900  1250870  \n",
       "2901  1141132  \n",
       "2902  1332077  \n",
       "2903  1294017  \n",
       "\n",
       "[2904 rows x 5 columns]"
      ]
     },
     "execution_count": 15,
     "metadata": {},
     "output_type": "execute_result"
    }
   ],
   "source": [
    "dfnetflix3 = dfnetflix2.drop_duplicates(keep='first')\n",
    "dfnetflix3"
   ]
  },
  {
   "cell_type": "markdown",
   "id": "1cf4dfff-a5d2-46b5-8525-7db50d411eac",
   "metadata": {},
   "source": [
    "### Valores unicos"
   ]
  },
  {
   "cell_type": "markdown",
   "id": "60d70ee2-00f8-4e1a-87c3-c3ffb64cbc6a",
   "metadata": {},
   "source": [
    "#### id\n",
    "Deberia ser unico para cada pelicula"
   ]
  },
  {
   "cell_type": "code",
   "execution_count": 16,
   "id": "f464e5fd-90e8-4672-8ebe-8cac2d93fd60",
   "metadata": {},
   "outputs": [
    {
     "data": {
      "text/plain": [
       "id\n",
       "1789382     1\n",
       "1823218     1\n",
       "1996393     1\n",
       "11042350    1\n",
       "1780773     1\n",
       "           ..\n",
       "1725885     1\n",
       "1795372     1\n",
       "1720462     1\n",
       "1852883     1\n",
       "1825357     1\n",
       "Name: count, Length: 2904, dtype: int64"
      ]
     },
     "execution_count": 16,
     "metadata": {},
     "output_type": "execute_result"
    }
   ],
   "source": [
    "dfnetflix3['id'].value_counts()"
   ]
  },
  {
   "cell_type": "markdown",
   "id": "2f37ef2a-f53d-4aa3-bc00-a5835f2823e4",
   "metadata": {},
   "source": [
    "#### title\n",
    "Es posible que se repita, ya que hay peliculas con el mismo titulo"
   ]
  },
  {
   "cell_type": "code",
   "execution_count": 17,
   "id": "267951b6-397b-4da1-ad56-6900497d3109",
   "metadata": {},
   "outputs": [
    {
     "data": {
      "text/plain": [
       "title\n",
       "The Call             3\n",
       "Smile                3\n",
       "Agneepath            2\n",
       "Joy                  2\n",
       "Cobweb               2\n",
       "                    ..\n",
       "6 Underground        1\n",
       "Nonnas               1\n",
       "The Pale Blue Eye    1\n",
       "The Dig              1\n",
       "Swim to Me           1\n",
       "Name: count, Length: 2867, dtype: int64"
      ]
     },
     "execution_count": 17,
     "metadata": {},
     "output_type": "execute_result"
    }
   ],
   "source": [
    "dfnetflix3['title'].value_counts()"
   ]
  },
  {
   "cell_type": "markdown",
   "id": "ac27e826-3b5c-434f-8518-5c4bfbc109a9",
   "metadata": {},
   "source": [
    "revisemos porque se repiten los titulos de las peliculas"
   ]
  },
  {
   "cell_type": "code",
   "execution_count": 18,
   "id": "e5ec97e1-5bb1-4278-92d0-fad64bc65c61",
   "metadata": {},
   "outputs": [
    {
     "data": {
      "text/html": [
       "<div>\n",
       "<style scoped>\n",
       "    .dataframe tbody tr th:only-of-type {\n",
       "        vertical-align: middle;\n",
       "    }\n",
       "\n",
       "    .dataframe tbody tr th {\n",
       "        vertical-align: top;\n",
       "    }\n",
       "\n",
       "    .dataframe thead th {\n",
       "        text-align: right;\n",
       "    }\n",
       "</style>\n",
       "<table border=\"1\" class=\"dataframe\">\n",
       "  <thead>\n",
       "    <tr style=\"text-align: right;\">\n",
       "      <th></th>\n",
       "      <th>id</th>\n",
       "      <th>title</th>\n",
       "      <th>year</th>\n",
       "      <th>imdb_id</th>\n",
       "      <th>tmdb_id</th>\n",
       "    </tr>\n",
       "  </thead>\n",
       "  <tbody>\n",
       "    <tr>\n",
       "      <th>1240</th>\n",
       "      <td>1259681</td>\n",
       "      <td>Monster</td>\n",
       "      <td>2021</td>\n",
       "      <td>tt2850272</td>\n",
       "      <td>489932</td>\n",
       "    </tr>\n",
       "    <tr>\n",
       "      <th>2049</th>\n",
       "      <td>1762146</td>\n",
       "      <td>Monster</td>\n",
       "      <td>2023</td>\n",
       "      <td>tt29941084</td>\n",
       "      <td>1203484</td>\n",
       "    </tr>\n",
       "  </tbody>\n",
       "</table>\n",
       "</div>"
      ],
      "text/plain": [
       "           id    title  year     imdb_id  tmdb_id\n",
       "1240  1259681  Monster  2021   tt2850272   489932\n",
       "2049  1762146  Monster  2023  tt29941084  1203484"
      ]
     },
     "execution_count": 18,
     "metadata": {},
     "output_type": "execute_result"
    }
   ],
   "source": [
    "dfnetflix3[dfnetflix3['title'] == 'Monster']"
   ]
  },
  {
   "cell_type": "code",
   "execution_count": 19,
   "id": "ff0243a3",
   "metadata": {},
   "outputs": [
    {
     "data": {
      "text/html": [
       "<div>\n",
       "<style scoped>\n",
       "    .dataframe tbody tr th:only-of-type {\n",
       "        vertical-align: middle;\n",
       "    }\n",
       "\n",
       "    .dataframe tbody tr th {\n",
       "        vertical-align: top;\n",
       "    }\n",
       "\n",
       "    .dataframe thead th {\n",
       "        text-align: right;\n",
       "    }\n",
       "</style>\n",
       "<table border=\"1\" class=\"dataframe\">\n",
       "  <thead>\n",
       "    <tr style=\"text-align: right;\">\n",
       "      <th></th>\n",
       "      <th>id</th>\n",
       "      <th>title</th>\n",
       "      <th>year</th>\n",
       "      <th>imdb_id</th>\n",
       "      <th>tmdb_id</th>\n",
       "    </tr>\n",
       "  </thead>\n",
       "  <tbody>\n",
       "    <tr>\n",
       "      <th>264</th>\n",
       "      <td>1597901</td>\n",
       "      <td>The Call</td>\n",
       "      <td>2020</td>\n",
       "      <td>tt10530176</td>\n",
       "      <td>575604</td>\n",
       "    </tr>\n",
       "    <tr>\n",
       "      <th>270</th>\n",
       "      <td>1382254</td>\n",
       "      <td>The Call</td>\n",
       "      <td>2013</td>\n",
       "      <td>tt1911644</td>\n",
       "      <td>158011</td>\n",
       "    </tr>\n",
       "    <tr>\n",
       "      <th>1833</th>\n",
       "      <td>1617535</td>\n",
       "      <td>The Call</td>\n",
       "      <td>2020</td>\n",
       "      <td>tt12971924</td>\n",
       "      <td>746817</td>\n",
       "    </tr>\n",
       "  </tbody>\n",
       "</table>\n",
       "</div>"
      ],
      "text/plain": [
       "           id     title  year     imdb_id  tmdb_id\n",
       "264   1597901  The Call  2020  tt10530176   575604\n",
       "270   1382254  The Call  2013   tt1911644   158011\n",
       "1833  1617535  The Call  2020  tt12971924   746817"
      ]
     },
     "execution_count": 19,
     "metadata": {},
     "output_type": "execute_result"
    }
   ],
   "source": [
    "dfnetflix3[dfnetflix3['title'] == 'The Call']"
   ]
  },
  {
   "cell_type": "code",
   "execution_count": 20,
   "id": "7eef6425",
   "metadata": {},
   "outputs": [
    {
     "data": {
      "text/html": [
       "<div>\n",
       "<style scoped>\n",
       "    .dataframe tbody tr th:only-of-type {\n",
       "        vertical-align: middle;\n",
       "    }\n",
       "\n",
       "    .dataframe tbody tr th {\n",
       "        vertical-align: top;\n",
       "    }\n",
       "\n",
       "    .dataframe thead th {\n",
       "        text-align: right;\n",
       "    }\n",
       "</style>\n",
       "<table border=\"1\" class=\"dataframe\">\n",
       "  <thead>\n",
       "    <tr style=\"text-align: right;\">\n",
       "      <th></th>\n",
       "      <th>id</th>\n",
       "      <th>title</th>\n",
       "      <th>year</th>\n",
       "      <th>imdb_id</th>\n",
       "      <th>tmdb_id</th>\n",
       "    </tr>\n",
       "  </thead>\n",
       "  <tbody>\n",
       "    <tr>\n",
       "      <th>12</th>\n",
       "      <td>1645477</td>\n",
       "      <td>Smile</td>\n",
       "      <td>2022</td>\n",
       "      <td>tt15474916</td>\n",
       "      <td>882598</td>\n",
       "    </tr>\n",
       "    <tr>\n",
       "      <th>2738</th>\n",
       "      <td>1698365</td>\n",
       "      <td>Smile</td>\n",
       "      <td>2022</td>\n",
       "      <td>tt15751968</td>\n",
       "      <td>1051335</td>\n",
       "    </tr>\n",
       "    <tr>\n",
       "      <th>2874</th>\n",
       "      <td>2749397</td>\n",
       "      <td>Smile</td>\n",
       "      <td>2023</td>\n",
       "      <td>tt22982202</td>\n",
       "      <td>1038522</td>\n",
       "    </tr>\n",
       "  </tbody>\n",
       "</table>\n",
       "</div>"
      ],
      "text/plain": [
       "           id  title  year     imdb_id  tmdb_id\n",
       "12    1645477  Smile  2022  tt15474916   882598\n",
       "2738  1698365  Smile  2022  tt15751968  1051335\n",
       "2874  2749397  Smile  2023  tt22982202  1038522"
      ]
     },
     "execution_count": 20,
     "metadata": {},
     "output_type": "execute_result"
    }
   ],
   "source": [
    "dfnetflix3[dfnetflix3['title'] == 'Smile']"
   ]
  },
  {
   "cell_type": "code",
   "execution_count": 21,
   "id": "0bfe95ee",
   "metadata": {},
   "outputs": [
    {
     "data": {
      "text/html": [
       "<div>\n",
       "<style scoped>\n",
       "    .dataframe tbody tr th:only-of-type {\n",
       "        vertical-align: middle;\n",
       "    }\n",
       "\n",
       "    .dataframe tbody tr th {\n",
       "        vertical-align: top;\n",
       "    }\n",
       "\n",
       "    .dataframe thead th {\n",
       "        text-align: right;\n",
       "    }\n",
       "</style>\n",
       "<table border=\"1\" class=\"dataframe\">\n",
       "  <thead>\n",
       "    <tr style=\"text-align: right;\">\n",
       "      <th></th>\n",
       "      <th>id</th>\n",
       "      <th>title</th>\n",
       "      <th>year</th>\n",
       "      <th>imdb_id</th>\n",
       "      <th>tmdb_id</th>\n",
       "    </tr>\n",
       "  </thead>\n",
       "  <tbody>\n",
       "    <tr>\n",
       "      <th>440</th>\n",
       "      <td>1749411</td>\n",
       "      <td>Joy</td>\n",
       "      <td>2024</td>\n",
       "      <td>tt10243672</td>\n",
       "      <td>1184495</td>\n",
       "    </tr>\n",
       "    <tr>\n",
       "      <th>2836</th>\n",
       "      <td>1487441</td>\n",
       "      <td>Joy</td>\n",
       "      <td>2018</td>\n",
       "      <td>tt8917752</td>\n",
       "      <td>539445</td>\n",
       "    </tr>\n",
       "  </tbody>\n",
       "</table>\n",
       "</div>"
      ],
      "text/plain": [
       "           id title  year     imdb_id  tmdb_id\n",
       "440   1749411   Joy  2024  tt10243672  1184495\n",
       "2836  1487441   Joy  2018   tt8917752   539445"
      ]
     },
     "execution_count": 21,
     "metadata": {},
     "output_type": "execute_result"
    }
   ],
   "source": [
    "dfnetflix3[dfnetflix3['title'] == 'Joy']"
   ]
  },
  {
   "cell_type": "code",
   "execution_count": 22,
   "id": "c875596e",
   "metadata": {},
   "outputs": [
    {
     "data": {
      "text/html": [
       "<div>\n",
       "<style scoped>\n",
       "    .dataframe tbody tr th:only-of-type {\n",
       "        vertical-align: middle;\n",
       "    }\n",
       "\n",
       "    .dataframe tbody tr th {\n",
       "        vertical-align: top;\n",
       "    }\n",
       "\n",
       "    .dataframe thead th {\n",
       "        text-align: right;\n",
       "    }\n",
       "</style>\n",
       "<table border=\"1\" class=\"dataframe\">\n",
       "  <thead>\n",
       "    <tr style=\"text-align: right;\">\n",
       "      <th></th>\n",
       "      <th>id</th>\n",
       "      <th>title</th>\n",
       "      <th>year</th>\n",
       "      <th>imdb_id</th>\n",
       "      <th>tmdb_id</th>\n",
       "    </tr>\n",
       "  </thead>\n",
       "  <tbody>\n",
       "    <tr>\n",
       "      <th>664</th>\n",
       "      <td>1612542</td>\n",
       "      <td>Cobweb</td>\n",
       "      <td>2023</td>\n",
       "      <td>tt9100018</td>\n",
       "      <td>709631</td>\n",
       "    </tr>\n",
       "    <tr>\n",
       "      <th>1797</th>\n",
       "      <td>1697648</td>\n",
       "      <td>Cobweb</td>\n",
       "      <td>2023</td>\n",
       "      <td>tt21254598</td>\n",
       "      <td>901121</td>\n",
       "    </tr>\n",
       "  </tbody>\n",
       "</table>\n",
       "</div>"
      ],
      "text/plain": [
       "           id   title  year     imdb_id  tmdb_id\n",
       "664   1612542  Cobweb  2023   tt9100018   709631\n",
       "1797  1697648  Cobweb  2023  tt21254598   901121"
      ]
     },
     "execution_count": 22,
     "metadata": {},
     "output_type": "execute_result"
    }
   ],
   "source": [
    "dfnetflix3[dfnetflix3['title'] == 'Cobweb']"
   ]
  },
  {
   "cell_type": "markdown",
   "id": "d51fd535-a161-4fc1-8d99-888c0117386a",
   "metadata": {},
   "source": [
    "Como podemos ver por la diferencia de años y el 'imdb_id', puede que sean peliculas distintas con el mismo titulo, revisando la pagina de imdb se confirma esto"
   ]
  },
  {
   "cell_type": "markdown",
   "id": "fe0da3f7-5bcc-44c1-8ee5-38376ac55726",
   "metadata": {},
   "source": [
    "#### year"
   ]
  },
  {
   "cell_type": "code",
   "execution_count": 18,
   "id": "e8dee4e6-9611-4464-8b36-118b9c09be13",
   "metadata": {},
   "outputs": [
    {
     "data": {
      "text/plain": [
       "year\n",
       "2022    395\n",
       "2024    339\n",
       "2021    324\n",
       "2023    311\n",
       "2020    268\n",
       "2019    226\n",
       "2025    209\n",
       "2018    198\n",
       "2017    139\n",
       "2016     85\n",
       "2014     46\n",
       "2015     45\n",
       "2012     25\n",
       "2013     24\n",
       "2011     20\n",
       "2001     19\n",
       "2008     16\n",
       "2006     15\n",
       "2005     14\n",
       "2004     14\n",
       "2010     14\n",
       "2007     13\n",
       "2003     13\n",
       "2009     12\n",
       "1995     10\n",
       "1997     10\n",
       "1993      9\n",
       "2002      8\n",
       "2000      7\n",
       "1998      7\n",
       "1996      6\n",
       "1999      6\n",
       "1992      6\n",
       "1994      5\n",
       "1987      5\n",
       "1991      4\n",
       "1986      4\n",
       "1988      4\n",
       "1985      3\n",
       "1982      3\n",
       "0         2\n",
       "1979      2\n",
       "1989      2\n",
       "1983      2\n",
       "1984      2\n",
       "1990      2\n",
       "1978      2\n",
       "1976      1\n",
       "1975      1\n",
       "1973      1\n",
       "1971      1\n",
       "1974      1\n",
       "1968      1\n",
       "1967      1\n",
       "1977      1\n",
       "1980      1\n",
       "Name: count, dtype: int64"
      ]
     },
     "execution_count": 18,
     "metadata": {},
     "output_type": "execute_result"
    }
   ],
   "source": [
    "dfnetflix3['year'].value_counts()"
   ]
  },
  {
   "cell_type": "code",
   "execution_count": 19,
   "id": "1a236413-5506-4381-a021-647f634cb635",
   "metadata": {},
   "outputs": [
    {
     "data": {
      "text/plain": [
       "year\n",
       "1978    2\n",
       "1976    1\n",
       "1975    1\n",
       "1973    1\n",
       "1971    1\n",
       "1974    1\n",
       "1968    1\n",
       "1967    1\n",
       "1977    1\n",
       "1980    1\n",
       "Name: count, dtype: int64"
      ]
     },
     "execution_count": 19,
     "metadata": {},
     "output_type": "execute_result"
    }
   ],
   "source": [
    "dfnetflix3['year'].value_counts().tail(10)"
   ]
  },
  {
   "cell_type": "markdown",
   "id": "b397b503-a1b4-485d-8de6-8fee7ddbd296",
   "metadata": {},
   "source": [
    "Nos llama la atencion una pelicula que salio en el año 0"
   ]
  },
  {
   "cell_type": "code",
   "execution_count": 20,
   "id": "1885c54e-9940-4704-b4a5-08de1718ee10",
   "metadata": {},
   "outputs": [
    {
     "data": {
      "text/html": [
       "<div>\n",
       "<style scoped>\n",
       "    .dataframe tbody tr th:only-of-type {\n",
       "        vertical-align: middle;\n",
       "    }\n",
       "\n",
       "    .dataframe tbody tr th {\n",
       "        vertical-align: top;\n",
       "    }\n",
       "\n",
       "    .dataframe thead th {\n",
       "        text-align: right;\n",
       "    }\n",
       "</style>\n",
       "<table border=\"1\" class=\"dataframe\">\n",
       "  <thead>\n",
       "    <tr style=\"text-align: right;\">\n",
       "      <th></th>\n",
       "      <th>id</th>\n",
       "      <th>title</th>\n",
       "      <th>year</th>\n",
       "      <th>imdb_id</th>\n",
       "      <th>tmdb_id</th>\n",
       "    </tr>\n",
       "  </thead>\n",
       "  <tbody>\n",
       "    <tr>\n",
       "      <th>2870</th>\n",
       "      <td>11039715</td>\n",
       "      <td>Rockstar: DUKI desde el fin del mundo</td>\n",
       "      <td>0</td>\n",
       "      <td>tt38203421</td>\n",
       "      <td>1546933</td>\n",
       "    </tr>\n",
       "    <tr>\n",
       "      <th>2890</th>\n",
       "      <td>11046064</td>\n",
       "      <td>Nouvelle École et après : Réussir ou mourir</td>\n",
       "      <td>0</td>\n",
       "      <td>tt38221275</td>\n",
       "      <td>1556160</td>\n",
       "    </tr>\n",
       "  </tbody>\n",
       "</table>\n",
       "</div>"
      ],
      "text/plain": [
       "            id                                        title  year     imdb_id  \\\n",
       "2870  11039715        Rockstar: DUKI desde el fin del mundo     0  tt38203421   \n",
       "2890  11046064  Nouvelle École et après : Réussir ou mourir     0  tt38221275   \n",
       "\n",
       "      tmdb_id  \n",
       "2870  1546933  \n",
       "2890  1556160  "
      ]
     },
     "execution_count": 20,
     "metadata": {},
     "output_type": "execute_result"
    }
   ],
   "source": [
    "dfnetflix3[dfnetflix3['year'] == 0]"
   ]
  },
  {
   "cell_type": "markdown",
   "id": "0e9c992d-31b7-4844-9dab-e24a2636c4bd",
   "metadata": {},
   "source": [
    "Revisando en imdb estas peliculas salieron el 2025"
   ]
  },
  {
   "cell_type": "code",
   "execution_count": 21,
   "id": "5b3b939a-388f-47d1-8fde-b06551a5ef59",
   "metadata": {},
   "outputs": [],
   "source": [
    "dfnetflix3.loc[dfnetflix3['imdb_id'] == 'tt38203421', 'year'] = 2025\n",
    "dfnetflix3.loc[dfnetflix3['imdb_id'] == 'tt38221275', 'year'] = 2025"
   ]
  },
  {
   "cell_type": "code",
   "execution_count": 22,
   "id": "01b9d050-a775-431b-b29b-1fff3cd0fa7c",
   "metadata": {},
   "outputs": [
    {
     "data": {
      "text/plain": [
       "year\n",
       "1978    2\n",
       "1976    1\n",
       "1975    1\n",
       "1973    1\n",
       "1974    1\n",
       "1971    1\n",
       "1967    1\n",
       "1968    1\n",
       "1977    1\n",
       "1980    1\n",
       "Name: count, dtype: int64"
      ]
     },
     "execution_count": 22,
     "metadata": {},
     "output_type": "execute_result"
    }
   ],
   "source": [
    "dfnetflix3['year'].value_counts().tail(10)"
   ]
  },
  {
   "cell_type": "markdown",
   "id": "9169755c-4e48-4cec-8147-175fc5901150",
   "metadata": {},
   "source": [
    "#### imdb_id"
   ]
  },
  {
   "cell_type": "code",
   "execution_count": 23,
   "id": "b518afe0-2af3-4f39-8248-2105cbf4a00e",
   "metadata": {},
   "outputs": [
    {
     "data": {
      "text/plain": [
       "imdb_id\n",
       "tt32985279    1\n",
       "tt7130300     1\n",
       "tt34682204    1\n",
       "tt38466379    1\n",
       "tt10548174    1\n",
       "             ..\n",
       "tt21737024    1\n",
       "tt31495242    1\n",
       "tt28448409    1\n",
       "tt33246651    1\n",
       "tt32441206    1\n",
       "Name: count, Length: 2904, dtype: int64"
      ]
     },
     "execution_count": 23,
     "metadata": {},
     "output_type": "execute_result"
    }
   ],
   "source": [
    "dfnetflix3['imdb_id'].value_counts()"
   ]
  },
  {
   "cell_type": "markdown",
   "id": "5f08b47a",
   "metadata": {},
   "source": [
    "#### Verificamos que el cambio de fecha se aplico correctamente"
   ]
  },
  {
   "cell_type": "code",
   "execution_count": 24,
   "id": "e5b09f79-f216-4b92-b563-a8f9ca4a2796",
   "metadata": {},
   "outputs": [
    {
     "data": {
      "text/html": [
       "<div>\n",
       "<style scoped>\n",
       "    .dataframe tbody tr th:only-of-type {\n",
       "        vertical-align: middle;\n",
       "    }\n",
       "\n",
       "    .dataframe tbody tr th {\n",
       "        vertical-align: top;\n",
       "    }\n",
       "\n",
       "    .dataframe thead th {\n",
       "        text-align: right;\n",
       "    }\n",
       "</style>\n",
       "<table border=\"1\" class=\"dataframe\">\n",
       "  <thead>\n",
       "    <tr style=\"text-align: right;\">\n",
       "      <th></th>\n",
       "      <th>id</th>\n",
       "      <th>title</th>\n",
       "      <th>year</th>\n",
       "      <th>imdb_id</th>\n",
       "      <th>tmdb_id</th>\n",
       "    </tr>\n",
       "  </thead>\n",
       "  <tbody>\n",
       "    <tr>\n",
       "      <th>2870</th>\n",
       "      <td>11039715</td>\n",
       "      <td>Rockstar: DUKI desde el fin del mundo</td>\n",
       "      <td>2025</td>\n",
       "      <td>tt38203421</td>\n",
       "      <td>1546933</td>\n",
       "    </tr>\n",
       "  </tbody>\n",
       "</table>\n",
       "</div>"
      ],
      "text/plain": [
       "            id                                  title  year     imdb_id  \\\n",
       "2870  11039715  Rockstar: DUKI desde el fin del mundo  2025  tt38203421   \n",
       "\n",
       "      tmdb_id  \n",
       "2870  1546933  "
      ]
     },
     "execution_count": 24,
     "metadata": {},
     "output_type": "execute_result"
    }
   ],
   "source": [
    "dfnetflix3[dfnetflix3['imdb_id'] == 'tt38203421']"
   ]
  },
  {
   "cell_type": "code",
   "execution_count": 25,
   "id": "6ef5605e",
   "metadata": {},
   "outputs": [
    {
     "data": {
      "text/html": [
       "<div>\n",
       "<style scoped>\n",
       "    .dataframe tbody tr th:only-of-type {\n",
       "        vertical-align: middle;\n",
       "    }\n",
       "\n",
       "    .dataframe tbody tr th {\n",
       "        vertical-align: top;\n",
       "    }\n",
       "\n",
       "    .dataframe thead th {\n",
       "        text-align: right;\n",
       "    }\n",
       "</style>\n",
       "<table border=\"1\" class=\"dataframe\">\n",
       "  <thead>\n",
       "    <tr style=\"text-align: right;\">\n",
       "      <th></th>\n",
       "      <th>id</th>\n",
       "      <th>title</th>\n",
       "      <th>year</th>\n",
       "      <th>imdb_id</th>\n",
       "      <th>tmdb_id</th>\n",
       "    </tr>\n",
       "  </thead>\n",
       "  <tbody>\n",
       "    <tr>\n",
       "      <th>2890</th>\n",
       "      <td>11046064</td>\n",
       "      <td>Nouvelle École et après : Réussir ou mourir</td>\n",
       "      <td>2025</td>\n",
       "      <td>tt38221275</td>\n",
       "      <td>1556160</td>\n",
       "    </tr>\n",
       "  </tbody>\n",
       "</table>\n",
       "</div>"
      ],
      "text/plain": [
       "            id                                        title  year     imdb_id  \\\n",
       "2890  11046064  Nouvelle École et après : Réussir ou mourir  2025  tt38221275   \n",
       "\n",
       "      tmdb_id  \n",
       "2890  1556160  "
      ]
     },
     "execution_count": 25,
     "metadata": {},
     "output_type": "execute_result"
    }
   ],
   "source": [
    "dfnetflix3[dfnetflix3['imdb_id'] == 'tt38221275']"
   ]
  },
  {
   "cell_type": "markdown",
   "id": "af2135d7-ca61-4f86-a712-676c76d9544f",
   "metadata": {},
   "source": [
    "### Tipos de columnas"
   ]
  },
  {
   "cell_type": "code",
   "execution_count": 26,
   "id": "709c9686-0b92-4bdc-a2ef-250f1c9f3600",
   "metadata": {},
   "outputs": [
    {
     "name": "stdout",
     "output_type": "stream",
     "text": [
      "<class 'pandas.core.frame.DataFrame'>\n",
      "RangeIndex: 2904 entries, 0 to 2903\n",
      "Data columns (total 5 columns):\n",
      " #   Column   Non-Null Count  Dtype \n",
      "---  ------   --------------  ----- \n",
      " 0   id       2904 non-null   int64 \n",
      " 1   title    2904 non-null   object\n",
      " 2   year     2904 non-null   int64 \n",
      " 3   imdb_id  2904 non-null   object\n",
      " 4   tmdb_id  2904 non-null   int64 \n",
      "dtypes: int64(3), object(2)\n",
      "memory usage: 113.6+ KB\n"
     ]
    }
   ],
   "source": [
    "dfnetflix3.info()"
   ]
  },
  {
   "cell_type": "markdown",
   "id": "78587aee-f2f6-4f55-92b1-3828e173b306",
   "metadata": {},
   "source": [
    "Los tipos de las columnas estan bien"
   ]
  },
  {
   "cell_type": "markdown",
   "id": "f9efcbc5-e1f1-4ebe-bec2-040b399e7d36",
   "metadata": {},
   "source": [
    "### Analisis de columna `year`"
   ]
  },
  {
   "cell_type": "code",
   "execution_count": 27,
   "id": "72ec8f5c-24b9-4d6f-9397-5f5c2accb757",
   "metadata": {},
   "outputs": [
    {
     "data": {
      "text/plain": [
       "count    2904.000000\n",
       "mean     2018.906680\n",
       "std         7.249638\n",
       "min      1967.000000\n",
       "25%      2018.000000\n",
       "50%      2021.000000\n",
       "75%      2023.000000\n",
       "max      2025.000000\n",
       "Name: year, dtype: float64"
      ]
     },
     "execution_count": 27,
     "metadata": {},
     "output_type": "execute_result"
    }
   ],
   "source": [
    "dfnetflix3['year'].describe()"
   ]
  },
  {
   "cell_type": "markdown",
   "id": "97c38027-1257-4ebc-9587-b0fda4aee21d",
   "metadata": {},
   "source": [
    "## Creacion archivo `.csv`\n",
    "Como ya tenemos los datos correctos y limpios, procedemos a guardar en un archivo `.csv`"
   ]
  },
  {
   "cell_type": "code",
   "execution_count": 53,
   "id": "c9a8e1e4-69e2-4787-b536-efb56eb2c0c4",
   "metadata": {},
   "outputs": [],
   "source": [
    "\n",
    "dfnetflix3.to_csv('api_netflix.csv', index=False, encoding='utf-8')\n"
   ]
  }
 ],
 "metadata": {
  "kernelspec": {
   "display_name": "Python 3",
   "language": "python",
   "name": "python3"
  },
  "language_info": {
   "codemirror_mode": {
    "name": "ipython",
    "version": 3
   },
   "file_extension": ".py",
   "mimetype": "text/x-python",
   "name": "python",
   "nbconvert_exporter": "python",
   "pygments_lexer": "ipython3",
   "version": "3.13.5"
  }
 },
 "nbformat": 4,
 "nbformat_minor": 5
}
