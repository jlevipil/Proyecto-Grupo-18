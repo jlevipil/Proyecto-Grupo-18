{
 "cells": [
  {
   "cell_type": "markdown",
   "id": "dc39c320-e45b-4927-9ba9-53cc0c51f985",
   "metadata": {},
   "source": [
    "# Limpieza de Netflix"
   ]
  },
  {
   "cell_type": "markdown",
   "id": "eb5fea03-80ca-49d5-b07f-1cb559ac630c",
   "metadata": {},
   "source": [
    "## Pedir datos a la API"
   ]
  },
  {
   "cell_type": "code",
   "execution_count": null,
   "id": "c4639437-fb3d-419b-84d9-154826364017",
   "metadata": {},
   "outputs": [],
   "source": [
    "# IMPORTS\n",
    "import numpy as np\n",
    "import pandas as pd\n",
    "import requests as rq\n",
    "from src.buscar_peliculas import buscar_peliculas"
   ]
  },
  {
   "cell_type": "markdown",
   "id": "41487bef",
   "metadata": {},
   "source": [
    "### Pedimos los datos"
   ]
  },
  {
   "cell_type": "code",
   "execution_count": 6,
   "id": "a5472255",
   "metadata": {},
   "outputs": [
    {
     "name": "stdout",
     "output_type": "stream",
     "text": [
      "<Response [200]> 12 2909\n"
     ]
    }
   ],
   "source": [
    "dfnetflix_raw = buscar_peliculas(\"Netflix\")"
   ]
  },
  {
   "cell_type": "code",
   "execution_count": 7,
   "id": "d3a764d5",
   "metadata": {},
   "outputs": [
    {
     "name": "stdout",
     "output_type": "stream",
     "text": [
      "[2909, 2909]\n"
     ]
    }
   ],
   "source": [
    "largo_dataframe = len(dfnetflix_raw[0])\n",
    "largo_segun_API = dfnetflix_raw[1]\n",
    "print([largo_dataframe, largo_segun_API])"
   ]
  },
  {
   "cell_type": "code",
   "execution_count": 8,
   "id": "d2bb4ce3",
   "metadata": {},
   "outputs": [],
   "source": [
    "dfnetflix1 = dfnetflix_raw[0]"
   ]
  },
  {
   "cell_type": "code",
   "execution_count": 9,
   "id": "37ee4993-eb6b-4af2-bbd9-15e04a53b781",
   "metadata": {},
   "outputs": [
    {
     "data": {
      "text/html": [
       "<div>\n",
       "<style scoped>\n",
       "    .dataframe tbody tr th:only-of-type {\n",
       "        vertical-align: middle;\n",
       "    }\n",
       "\n",
       "    .dataframe tbody tr th {\n",
       "        vertical-align: top;\n",
       "    }\n",
       "\n",
       "    .dataframe thead th {\n",
       "        text-align: right;\n",
       "    }\n",
       "</style>\n",
       "<table border=\"1\" class=\"dataframe\">\n",
       "  <thead>\n",
       "    <tr style=\"text-align: right;\">\n",
       "      <th></th>\n",
       "      <th>id</th>\n",
       "      <th>title</th>\n",
       "      <th>year</th>\n",
       "      <th>imdb_id</th>\n",
       "      <th>tmdb_id</th>\n",
       "      <th>tmdb_type</th>\n",
       "      <th>type</th>\n",
       "    </tr>\n",
       "  </thead>\n",
       "  <tbody>\n",
       "    <tr>\n",
       "      <th>0</th>\n",
       "      <td>1823218</td>\n",
       "      <td>The Woman in Cabin 10</td>\n",
       "      <td>2025</td>\n",
       "      <td>tt7130300</td>\n",
       "      <td>1290879</td>\n",
       "      <td>movie</td>\n",
       "      <td>movie</td>\n",
       "    </tr>\n",
       "    <tr>\n",
       "      <th>1</th>\n",
       "      <td>11042350</td>\n",
       "      <td>My Father, the BTK Killer</td>\n",
       "      <td>2025</td>\n",
       "      <td>tt38466379</td>\n",
       "      <td>1550785</td>\n",
       "      <td>movie</td>\n",
       "      <td>movie</td>\n",
       "    </tr>\n",
       "    <tr>\n",
       "      <th>2</th>\n",
       "      <td>1812460</td>\n",
       "      <td>She Walks in Darkness</td>\n",
       "      <td>2025</td>\n",
       "      <td>tt32129665</td>\n",
       "      <td>1275151</td>\n",
       "      <td>movie</td>\n",
       "      <td>movie</td>\n",
       "    </tr>\n",
       "    <tr>\n",
       "      <th>3</th>\n",
       "      <td>1996393</td>\n",
       "      <td>Swim to Me</td>\n",
       "      <td>2025</td>\n",
       "      <td>tt34682204</td>\n",
       "      <td>1484640</td>\n",
       "      <td>movie</td>\n",
       "      <td>movie</td>\n",
       "    </tr>\n",
       "    <tr>\n",
       "      <th>4</th>\n",
       "      <td>1944218</td>\n",
       "      <td>Everybody Loves Me When I'm Dead</td>\n",
       "      <td>2025</td>\n",
       "      <td>tt35669054</td>\n",
       "      <td>1429750</td>\n",
       "      <td>movie</td>\n",
       "      <td>movie</td>\n",
       "    </tr>\n",
       "    <tr>\n",
       "      <th>...</th>\n",
       "      <td>...</td>\n",
       "      <td>...</td>\n",
       "      <td>...</td>\n",
       "      <td>...</td>\n",
       "      <td>...</td>\n",
       "      <td>...</td>\n",
       "      <td>...</td>\n",
       "    </tr>\n",
       "    <tr>\n",
       "      <th>2904</th>\n",
       "      <td>1720462</td>\n",
       "      <td>Jurnal Risa by Risa Saraswati</td>\n",
       "      <td>2024</td>\n",
       "      <td>tt28448409</td>\n",
       "      <td>1141132</td>\n",
       "      <td>movie</td>\n",
       "      <td>movie</td>\n",
       "    </tr>\n",
       "    <tr>\n",
       "      <th>2905</th>\n",
       "      <td>1857339</td>\n",
       "      <td>Maple Leaf Dreams</td>\n",
       "      <td>2024</td>\n",
       "      <td>tt27197375</td>\n",
       "      <td>1102686</td>\n",
       "      <td>movie</td>\n",
       "      <td>movie</td>\n",
       "    </tr>\n",
       "    <tr>\n",
       "      <th>2906</th>\n",
       "      <td>1852883</td>\n",
       "      <td>Ahir Shah: Ends</td>\n",
       "      <td>2024</td>\n",
       "      <td>tt33246651</td>\n",
       "      <td>1332077</td>\n",
       "      <td>movie</td>\n",
       "      <td>movie</td>\n",
       "    </tr>\n",
       "    <tr>\n",
       "      <th>2907</th>\n",
       "      <td>1795372</td>\n",
       "      <td>Harta Tahta Raisa</td>\n",
       "      <td>2024</td>\n",
       "      <td>tt31495242</td>\n",
       "      <td>1250870</td>\n",
       "      <td>movie</td>\n",
       "      <td>movie</td>\n",
       "    </tr>\n",
       "    <tr>\n",
       "      <th>2908</th>\n",
       "      <td>1747428</td>\n",
       "      <td>Becky and Badette</td>\n",
       "      <td>2023</td>\n",
       "      <td>tt29544878</td>\n",
       "      <td>1181465</td>\n",
       "      <td>movie</td>\n",
       "      <td>movie</td>\n",
       "    </tr>\n",
       "  </tbody>\n",
       "</table>\n",
       "<p>2909 rows × 7 columns</p>\n",
       "</div>"
      ],
      "text/plain": [
       "            id                             title  year     imdb_id  tmdb_id  \\\n",
       "0      1823218             The Woman in Cabin 10  2025   tt7130300  1290879   \n",
       "1     11042350         My Father, the BTK Killer  2025  tt38466379  1550785   \n",
       "2      1812460             She Walks in Darkness  2025  tt32129665  1275151   \n",
       "3      1996393                        Swim to Me  2025  tt34682204  1484640   \n",
       "4      1944218  Everybody Loves Me When I'm Dead  2025  tt35669054  1429750   \n",
       "...        ...                               ...   ...         ...      ...   \n",
       "2904   1720462     Jurnal Risa by Risa Saraswati  2024  tt28448409  1141132   \n",
       "2905   1857339                 Maple Leaf Dreams  2024  tt27197375  1102686   \n",
       "2906   1852883                   Ahir Shah: Ends  2024  tt33246651  1332077   \n",
       "2907   1795372                 Harta Tahta Raisa  2024  tt31495242  1250870   \n",
       "2908   1747428                 Becky and Badette  2023  tt29544878  1181465   \n",
       "\n",
       "     tmdb_type   type  \n",
       "0        movie  movie  \n",
       "1        movie  movie  \n",
       "2        movie  movie  \n",
       "3        movie  movie  \n",
       "4        movie  movie  \n",
       "...        ...    ...  \n",
       "2904     movie  movie  \n",
       "2905     movie  movie  \n",
       "2906     movie  movie  \n",
       "2907     movie  movie  \n",
       "2908     movie  movie  \n",
       "\n",
       "[2909 rows x 7 columns]"
      ]
     },
     "execution_count": 9,
     "metadata": {},
     "output_type": "execute_result"
    }
   ],
   "source": [
    "dfnetflix1"
   ]
  },
  {
   "cell_type": "markdown",
   "id": "3c861be3",
   "metadata": {},
   "source": [
    "Guardamos estos datos crudos en un csv"
   ]
  },
  {
   "cell_type": "code",
   "execution_count": 18,
   "id": "af261b1f",
   "metadata": {},
   "outputs": [],
   "source": [
    "dfnetflix1.to_csv('data/raw_api_netflix.csv', index=False)"
   ]
  },
  {
   "cell_type": "markdown",
   "id": "a3416c8b-2a12-439e-94c3-be7551b3a510",
   "metadata": {},
   "source": [
    "## Limpieza\n",
    "### Columnas\n",
    "Las columnas nos entregan los siguientes datos:\n",
    "- `id`: Identificador de la pelicula en la API\n",
    "- `title`: Nombre de la pelicula\n",
    "- `year`: Año de estreno de la pelicula\n",
    "- `imdb_id`: Identificador de la pelicula en IMDB\n",
    "- `tmdb_id`: Identificador de la pelicula en TMDB\n",
    "- `tmdb_type`: Tipo del titulo en TMDB\n",
    "- `type`: Tipo del titulo en la API"
   ]
  },
  {
   "cell_type": "markdown",
   "id": "7745490c-25a8-4f83-b388-90a273e76437",
   "metadata": {},
   "source": [
    "### Eliminar Columnas\n",
    "Como le especificamos a la API que nos entregara solo peliculas, la columna `'type'` y `'tmdb_type'` no deberian entregar informacion importante, ya que todas las filas tienen el mismo tipo"
   ]
  },
  {
   "cell_type": "code",
   "execution_count": 10,
   "id": "116ba1c5-bdce-4ece-ab6f-c7cefda25377",
   "metadata": {},
   "outputs": [
    {
     "data": {
      "text/plain": [
       "array(['movie'], dtype=object)"
      ]
     },
     "execution_count": 10,
     "metadata": {},
     "output_type": "execute_result"
    }
   ],
   "source": [
    "dfnetflix1 = dfnetflix1\n",
    "dfnetflix1['type'].unique()"
   ]
  },
  {
   "cell_type": "code",
   "execution_count": 11,
   "id": "8f68405c-e9ab-4050-a13b-608b6c7ca5bf",
   "metadata": {},
   "outputs": [
    {
     "data": {
      "text/plain": [
       "array(['movie', 'tv'], dtype=object)"
      ]
     },
     "execution_count": 11,
     "metadata": {},
     "output_type": "execute_result"
    }
   ],
   "source": [
    "dfnetflix1['tmdb_type'].unique()"
   ]
  },
  {
   "cell_type": "markdown",
   "id": "e4ba2c0d-e7d9-4213-8c45-e92883f431cb",
   "metadata": {},
   "source": [
    "En la columna `'type'` si tiene un solo tipo, pero al parecer `'tmdb_type'` no, revisemos las filas con tipo distinto"
   ]
  },
  {
   "cell_type": "code",
   "execution_count": 21,
   "id": "c8e1d481-ed4d-4d10-9369-556fe34627bb",
   "metadata": {},
   "outputs": [
    {
     "data": {
      "text/html": [
       "<div>\n",
       "<style scoped>\n",
       "    .dataframe tbody tr th:only-of-type {\n",
       "        vertical-align: middle;\n",
       "    }\n",
       "\n",
       "    .dataframe tbody tr th {\n",
       "        vertical-align: top;\n",
       "    }\n",
       "\n",
       "    .dataframe thead th {\n",
       "        text-align: right;\n",
       "    }\n",
       "</style>\n",
       "<table border=\"1\" class=\"dataframe\">\n",
       "  <thead>\n",
       "    <tr style=\"text-align: right;\">\n",
       "      <th></th>\n",
       "      <th>id</th>\n",
       "      <th>title</th>\n",
       "      <th>year</th>\n",
       "      <th>imdb_id</th>\n",
       "      <th>tmdb_id</th>\n",
       "      <th>tmdb_type</th>\n",
       "      <th>type</th>\n",
       "    </tr>\n",
       "  </thead>\n",
       "  <tbody>\n",
       "    <tr>\n",
       "      <th>2790</th>\n",
       "      <td>3199048</td>\n",
       "      <td>The Rise of Wagner</td>\n",
       "      <td>2023</td>\n",
       "      <td>tt27480377</td>\n",
       "      <td>228220</td>\n",
       "      <td>tv</td>\n",
       "      <td>movie</td>\n",
       "    </tr>\n",
       "  </tbody>\n",
       "</table>\n",
       "</div>"
      ],
      "text/plain": [
       "           id               title  year     imdb_id  tmdb_id tmdb_type   type\n",
       "2790  3199048  The Rise of Wagner  2023  tt27480377   228220        tv  movie"
      ]
     },
     "execution_count": 21,
     "metadata": {},
     "output_type": "execute_result"
    }
   ],
   "source": [
    "dfnetflix1[dfnetflix1['tmdb_type'] == 'tv']"
   ]
  },
  {
   "cell_type": "markdown",
   "id": "d7077cb2-a1a5-4b09-b7d5-fecf9ba6b0df",
   "metadata": {},
   "source": [
    "Revisando el titulo 'The Rise of Wagner' en la pagina de imdb, este figura como un documental, al no estar separado en capitulos lo dejaremos como tipo `'movie'`. Al ya ser todos del mismo tipo, ambas columnas pueden ser eliminadas"
   ]
  },
  {
   "cell_type": "code",
   "execution_count": 12,
   "id": "a1e0c1b1-2852-4d88-9c84-1d0defa459f1",
   "metadata": {},
   "outputs": [],
   "source": [
    "dfnetflix2 = dfnetflix1[['id', 'title', 'year', 'imdb_id', 'tmdb_id']]"
   ]
  },
  {
   "cell_type": "markdown",
   "id": "4da25fc9-2119-4cd9-9e05-58464abc5476",
   "metadata": {},
   "source": [
    "### Valores nan"
   ]
  },
  {
   "cell_type": "code",
   "execution_count": 13,
   "id": "d55b8329-d9e1-46ed-88b4-496ea01e6caf",
   "metadata": {},
   "outputs": [
    {
     "data": {
      "text/plain": [
       "array([False])"
      ]
     },
     "execution_count": 13,
     "metadata": {},
     "output_type": "execute_result"
    }
   ],
   "source": [
    "dfnetflix2['id'].isna().unique()"
   ]
  },
  {
   "cell_type": "code",
   "execution_count": 14,
   "id": "4e5e5cae-ae13-423d-8fcd-eea0608fdada",
   "metadata": {},
   "outputs": [
    {
     "data": {
      "text/plain": [
       "array([False])"
      ]
     },
     "execution_count": 14,
     "metadata": {},
     "output_type": "execute_result"
    }
   ],
   "source": [
    "dfnetflix2['title'].isna().unique()"
   ]
  },
  {
   "cell_type": "code",
   "execution_count": 15,
   "id": "13727ca7-afee-4eca-9405-7da405863196",
   "metadata": {},
   "outputs": [
    {
     "data": {
      "text/plain": [
       "array([False])"
      ]
     },
     "execution_count": 15,
     "metadata": {},
     "output_type": "execute_result"
    }
   ],
   "source": [
    "dfnetflix2['year'].isna().unique()"
   ]
  },
  {
   "cell_type": "code",
   "execution_count": 16,
   "id": "184ef21e-8436-413b-8cb2-00bef76dbe7e",
   "metadata": {},
   "outputs": [
    {
     "data": {
      "text/plain": [
       "array([False])"
      ]
     },
     "execution_count": 16,
     "metadata": {},
     "output_type": "execute_result"
    }
   ],
   "source": [
    "dfnetflix2['imdb_id'].isna().unique()"
   ]
  },
  {
   "cell_type": "markdown",
   "id": "190523db-9048-4385-a91c-346ecfb496da",
   "metadata": {},
   "source": [
    "### Duplicados"
   ]
  },
  {
   "cell_type": "code",
   "execution_count": 18,
   "id": "b8ca46d6-91f6-4398-bf86-a0db52c8d6ed",
   "metadata": {},
   "outputs": [
    {
     "data": {
      "text/plain": [
       "np.int64(1)"
      ]
     },
     "execution_count": 18,
     "metadata": {},
     "output_type": "execute_result"
    }
   ],
   "source": [
    "dfnetflix2.duplicated().sum()"
   ]
  },
  {
   "cell_type": "code",
   "execution_count": 17,
   "id": "5a7c0fc4-0cd0-40fa-9d29-2ef179f4d844",
   "metadata": {},
   "outputs": [
    {
     "data": {
      "text/html": [
       "<div>\n",
       "<style scoped>\n",
       "    .dataframe tbody tr th:only-of-type {\n",
       "        vertical-align: middle;\n",
       "    }\n",
       "\n",
       "    .dataframe tbody tr th {\n",
       "        vertical-align: top;\n",
       "    }\n",
       "\n",
       "    .dataframe thead th {\n",
       "        text-align: right;\n",
       "    }\n",
       "</style>\n",
       "<table border=\"1\" class=\"dataframe\">\n",
       "  <thead>\n",
       "    <tr style=\"text-align: right;\">\n",
       "      <th></th>\n",
       "      <th>id</th>\n",
       "      <th>title</th>\n",
       "      <th>year</th>\n",
       "      <th>imdb_id</th>\n",
       "      <th>tmdb_id</th>\n",
       "    </tr>\n",
       "  </thead>\n",
       "  <tbody>\n",
       "    <tr>\n",
       "      <th>258</th>\n",
       "      <td>3233385</td>\n",
       "      <td>Saturday Night</td>\n",
       "      <td>2024</td>\n",
       "      <td>tt27657135</td>\n",
       "      <td>1120911</td>\n",
       "    </tr>\n",
       "  </tbody>\n",
       "</table>\n",
       "</div>"
      ],
      "text/plain": [
       "          id           title  year     imdb_id  tmdb_id\n",
       "258  3233385  Saturday Night  2024  tt27657135  1120911"
      ]
     },
     "execution_count": 17,
     "metadata": {},
     "output_type": "execute_result"
    }
   ],
   "source": [
    "dfnetflix2[dfnetflix2.duplicated()]"
   ]
  },
  {
   "cell_type": "code",
   "execution_count": 19,
   "id": "9b88f4d5",
   "metadata": {},
   "outputs": [],
   "source": [
    "dfnetflix4 = dfnetflix2.drop_duplicates(keep='first')"
   ]
  },
  {
   "cell_type": "markdown",
   "id": "0439c1a1",
   "metadata": {},
   "source": [
    "#### imdb_id"
   ]
  },
  {
   "cell_type": "code",
   "execution_count": 20,
   "id": "457ae5ab",
   "metadata": {},
   "outputs": [
    {
     "data": {
      "text/plain": [
       "np.int64(0)"
      ]
     },
     "execution_count": 20,
     "metadata": {},
     "output_type": "execute_result"
    }
   ],
   "source": [
    "dfnetflix4.duplicated('imdb_id').sum()"
   ]
  },
  {
   "cell_type": "markdown",
   "id": "1cf4dfff-a5d2-46b5-8525-7db50d411eac",
   "metadata": {},
   "source": [
    "### Valores unicos"
   ]
  },
  {
   "cell_type": "markdown",
   "id": "60d70ee2-00f8-4e1a-87c3-c3ffb64cbc6a",
   "metadata": {},
   "source": [
    "#### id\n",
    "Deberia ser unico para cada pelicula"
   ]
  },
  {
   "cell_type": "code",
   "execution_count": 21,
   "id": "f464e5fd-90e8-4672-8ebe-8cac2d93fd60",
   "metadata": {},
   "outputs": [
    {
     "data": {
      "text/plain": [
       "id\n",
       "1823218     1\n",
       "11042350    1\n",
       "1812460     1\n",
       "1996393     1\n",
       "1944218     1\n",
       "           ..\n",
       "1720462     1\n",
       "1857339     1\n",
       "1852883     1\n",
       "1795372     1\n",
       "1747428     1\n",
       "Name: count, Length: 2908, dtype: int64"
      ]
     },
     "execution_count": 21,
     "metadata": {},
     "output_type": "execute_result"
    }
   ],
   "source": [
    "dfnetflix4['id'].value_counts()"
   ]
  },
  {
   "cell_type": "markdown",
   "id": "2f37ef2a-f53d-4aa3-bc00-a5835f2823e4",
   "metadata": {},
   "source": [
    "#### title\n",
    "Es posible que se repita, ya que hay peliculas con el mismo titulo"
   ]
  },
  {
   "cell_type": "code",
   "execution_count": 23,
   "id": "267951b6-397b-4da1-ad56-6900497d3109",
   "metadata": {},
   "outputs": [
    {
     "data": {
      "text/plain": [
       "np.int64(39)"
      ]
     },
     "execution_count": 23,
     "metadata": {},
     "output_type": "execute_result"
    }
   ],
   "source": [
    "dfnetflix4.duplicated('title').sum()"
   ]
  },
  {
   "cell_type": "markdown",
   "id": "ac27e826-3b5c-434f-8518-5c4bfbc109a9",
   "metadata": {},
   "source": [
    "revisemos porque se repiten los titulos de las peliculas"
   ]
  },
  {
   "cell_type": "code",
   "execution_count": 24,
   "id": "e5ec97e1-5bb1-4278-92d0-fad64bc65c61",
   "metadata": {},
   "outputs": [
    {
     "data": {
      "text/html": [
       "<div>\n",
       "<style scoped>\n",
       "    .dataframe tbody tr th:only-of-type {\n",
       "        vertical-align: middle;\n",
       "    }\n",
       "\n",
       "    .dataframe tbody tr th {\n",
       "        vertical-align: top;\n",
       "    }\n",
       "\n",
       "    .dataframe thead th {\n",
       "        text-align: right;\n",
       "    }\n",
       "</style>\n",
       "<table border=\"1\" class=\"dataframe\">\n",
       "  <thead>\n",
       "    <tr style=\"text-align: right;\">\n",
       "      <th></th>\n",
       "      <th>id</th>\n",
       "      <th>title</th>\n",
       "      <th>year</th>\n",
       "      <th>imdb_id</th>\n",
       "      <th>tmdb_id</th>\n",
       "    </tr>\n",
       "  </thead>\n",
       "  <tbody>\n",
       "    <tr>\n",
       "      <th>271</th>\n",
       "      <td>1382254</td>\n",
       "      <td>The Call</td>\n",
       "      <td>2013</td>\n",
       "      <td>tt1911644</td>\n",
       "      <td>158011</td>\n",
       "    </tr>\n",
       "    <tr>\n",
       "      <th>444</th>\n",
       "      <td>1400061</td>\n",
       "      <td>The Karate Kid</td>\n",
       "      <td>1984</td>\n",
       "      <td>tt0087538</td>\n",
       "      <td>1885</td>\n",
       "    </tr>\n",
       "    <tr>\n",
       "      <th>795</th>\n",
       "      <td>1467729</td>\n",
       "      <td>White Noise</td>\n",
       "      <td>2005</td>\n",
       "      <td>tt0375210</td>\n",
       "      <td>11804</td>\n",
       "    </tr>\n",
       "    <tr>\n",
       "      <th>938</th>\n",
       "      <td>1678479</td>\n",
       "      <td>Leo</td>\n",
       "      <td>2023</td>\n",
       "      <td>tt15654328</td>\n",
       "      <td>949229</td>\n",
       "    </tr>\n",
       "    <tr>\n",
       "      <th>963</th>\n",
       "      <td>1629411</td>\n",
       "      <td>Beast</td>\n",
       "      <td>2022</td>\n",
       "      <td>tt11301946</td>\n",
       "      <td>800383</td>\n",
       "    </tr>\n",
       "    <tr>\n",
       "      <th>970</th>\n",
       "      <td>1461727</td>\n",
       "      <td>Wanted</td>\n",
       "      <td>2009</td>\n",
       "      <td>tt1084972</td>\n",
       "      <td>22717</td>\n",
       "    </tr>\n",
       "    <tr>\n",
       "      <th>1397</th>\n",
       "      <td>1647850</td>\n",
       "      <td>Don</td>\n",
       "      <td>2022</td>\n",
       "      <td>tt10709484</td>\n",
       "      <td>895033</td>\n",
       "    </tr>\n",
       "    <tr>\n",
       "      <th>1484</th>\n",
       "      <td>1604636</td>\n",
       "      <td>HIT: The First Case</td>\n",
       "      <td>2020</td>\n",
       "      <td>tt11490170</td>\n",
       "      <td>678391</td>\n",
       "    </tr>\n",
       "    <tr>\n",
       "      <th>1528</th>\n",
       "      <td>1571201</td>\n",
       "      <td>Maria</td>\n",
       "      <td>2019</td>\n",
       "      <td>tt7594584</td>\n",
       "      <td>591121</td>\n",
       "    </tr>\n",
       "    <tr>\n",
       "      <th>1541</th>\n",
       "      <td>118794</td>\n",
       "      <td>Agneepath</td>\n",
       "      <td>1990</td>\n",
       "      <td>tt0098999</td>\n",
       "      <td>37403</td>\n",
       "    </tr>\n",
       "    <tr>\n",
       "      <th>1590</th>\n",
       "      <td>1709246</td>\n",
       "      <td>Kingdom</td>\n",
       "      <td>2025</td>\n",
       "      <td>tt11773426</td>\n",
       "      <td>1124838</td>\n",
       "    </tr>\n",
       "    <tr>\n",
       "      <th>1787</th>\n",
       "      <td>1681882</td>\n",
       "      <td>Kushi</td>\n",
       "      <td>2023</td>\n",
       "      <td>tt15380630</td>\n",
       "      <td>965489</td>\n",
       "    </tr>\n",
       "    <tr>\n",
       "      <th>1822</th>\n",
       "      <td>1697648</td>\n",
       "      <td>Cobweb</td>\n",
       "      <td>2023</td>\n",
       "      <td>tt21254598</td>\n",
       "      <td>901121</td>\n",
       "    </tr>\n",
       "    <tr>\n",
       "      <th>1836</th>\n",
       "      <td>1539207</td>\n",
       "      <td>Trouble</td>\n",
       "      <td>2019</td>\n",
       "      <td>tt6772524</td>\n",
       "      <td>570480</td>\n",
       "    </tr>\n",
       "    <tr>\n",
       "      <th>1861</th>\n",
       "      <td>1646498</td>\n",
       "      <td>Dhamaka</td>\n",
       "      <td>2022</td>\n",
       "      <td>tt15685876</td>\n",
       "      <td>888234</td>\n",
       "    </tr>\n",
       "    <tr>\n",
       "      <th>1868</th>\n",
       "      <td>1617535</td>\n",
       "      <td>The Call</td>\n",
       "      <td>2020</td>\n",
       "      <td>tt12971924</td>\n",
       "      <td>746817</td>\n",
       "    </tr>\n",
       "    <tr>\n",
       "      <th>1918</th>\n",
       "      <td>1680518</td>\n",
       "      <td>The House</td>\n",
       "      <td>2022</td>\n",
       "      <td>tt17505492</td>\n",
       "      <td>960139</td>\n",
       "    </tr>\n",
       "    <tr>\n",
       "      <th>1951</th>\n",
       "      <td>1595722</td>\n",
       "      <td>Miracle in Cell No. 7</td>\n",
       "      <td>2019</td>\n",
       "      <td>tt10845262</td>\n",
       "      <td>638240</td>\n",
       "    </tr>\n",
       "    <tr>\n",
       "      <th>2052</th>\n",
       "      <td>1762146</td>\n",
       "      <td>Monster</td>\n",
       "      <td>2023</td>\n",
       "      <td>tt29941084</td>\n",
       "      <td>1203484</td>\n",
       "    </tr>\n",
       "    <tr>\n",
       "      <th>2270</th>\n",
       "      <td>1339904</td>\n",
       "      <td>Sergio</td>\n",
       "      <td>2009</td>\n",
       "      <td>tt1333656</td>\n",
       "      <td>39442</td>\n",
       "    </tr>\n",
       "    <tr>\n",
       "      <th>2312</th>\n",
       "      <td>1400286</td>\n",
       "      <td>The Killer</td>\n",
       "      <td>2017</td>\n",
       "      <td>tt5379294</td>\n",
       "      <td>466190</td>\n",
       "    </tr>\n",
       "    <tr>\n",
       "      <th>2352</th>\n",
       "      <td>147051</td>\n",
       "      <td>Believer</td>\n",
       "      <td>2017</td>\n",
       "      <td>tt7689424</td>\n",
       "      <td>490001</td>\n",
       "    </tr>\n",
       "    <tr>\n",
       "      <th>2414</th>\n",
       "      <td>1606801</td>\n",
       "      <td>Red</td>\n",
       "      <td>2021</td>\n",
       "      <td>tt11191344</td>\n",
       "      <td>681435</td>\n",
       "    </tr>\n",
       "    <tr>\n",
       "      <th>2446</th>\n",
       "      <td>1641387</td>\n",
       "      <td>The Land</td>\n",
       "      <td>2021</td>\n",
       "      <td>tt14345386</td>\n",
       "      <td>860810</td>\n",
       "    </tr>\n",
       "    <tr>\n",
       "      <th>2503</th>\n",
       "      <td>1704006</td>\n",
       "      <td>Fierce</td>\n",
       "      <td>2020</td>\n",
       "      <td>tt3699816</td>\n",
       "      <td>1085895</td>\n",
       "    </tr>\n",
       "    <tr>\n",
       "      <th>2510</th>\n",
       "      <td>1649113</td>\n",
       "      <td>Noise</td>\n",
       "      <td>2022</td>\n",
       "      <td>tt15215468</td>\n",
       "      <td>848298</td>\n",
       "    </tr>\n",
       "    <tr>\n",
       "      <th>2514</th>\n",
       "      <td>1637600</td>\n",
       "      <td>Game Over</td>\n",
       "      <td>2019</td>\n",
       "      <td>tt10709060</td>\n",
       "      <td>678356</td>\n",
       "    </tr>\n",
       "    <tr>\n",
       "      <th>2546</th>\n",
       "      <td>1680562</td>\n",
       "      <td>The Takeover</td>\n",
       "      <td>2022</td>\n",
       "      <td>tt15170560</td>\n",
       "      <td>960570</td>\n",
       "    </tr>\n",
       "    <tr>\n",
       "      <th>2598</th>\n",
       "      <td>1109195</td>\n",
       "      <td>Dostana</td>\n",
       "      <td>1980</td>\n",
       "      <td>tt0080653</td>\n",
       "      <td>143844</td>\n",
       "    </tr>\n",
       "    <tr>\n",
       "      <th>2610</th>\n",
       "      <td>1740620</td>\n",
       "      <td>Paradise</td>\n",
       "      <td>2024</td>\n",
       "      <td>tt28800663</td>\n",
       "      <td>1170659</td>\n",
       "    </tr>\n",
       "    <tr>\n",
       "      <th>2625</th>\n",
       "      <td>1456076</td>\n",
       "      <td>Veronica</td>\n",
       "      <td>2017</td>\n",
       "      <td>tt3183402</td>\n",
       "      <td>423611</td>\n",
       "    </tr>\n",
       "    <tr>\n",
       "      <th>2642</th>\n",
       "      <td>1791568</td>\n",
       "      <td>Lady Chatterley's Lover</td>\n",
       "      <td>2022</td>\n",
       "      <td>tt31324218</td>\n",
       "      <td>1245507</td>\n",
       "    </tr>\n",
       "    <tr>\n",
       "      <th>2725</th>\n",
       "      <td>1692179</td>\n",
       "      <td>Bubble</td>\n",
       "      <td>2022</td>\n",
       "      <td>tt21876722</td>\n",
       "      <td>805730</td>\n",
       "    </tr>\n",
       "    <tr>\n",
       "      <th>2757</th>\n",
       "      <td>1706174</td>\n",
       "      <td>The Long Game</td>\n",
       "      <td>2025</td>\n",
       "      <td>tt23631668</td>\n",
       "      <td>1106565</td>\n",
       "    </tr>\n",
       "    <tr>\n",
       "      <th>2774</th>\n",
       "      <td>1698365</td>\n",
       "      <td>Smile</td>\n",
       "      <td>2022</td>\n",
       "      <td>tt15751968</td>\n",
       "      <td>1051335</td>\n",
       "    </tr>\n",
       "    <tr>\n",
       "      <th>2793</th>\n",
       "      <td>1691046</td>\n",
       "      <td>Incantation</td>\n",
       "      <td>2021</td>\n",
       "      <td>tt10333688</td>\n",
       "      <td>1014659</td>\n",
       "    </tr>\n",
       "    <tr>\n",
       "      <th>2844</th>\n",
       "      <td>1487441</td>\n",
       "      <td>Joy</td>\n",
       "      <td>2018</td>\n",
       "      <td>tt8917752</td>\n",
       "      <td>539445</td>\n",
       "    </tr>\n",
       "    <tr>\n",
       "      <th>2883</th>\n",
       "      <td>2749397</td>\n",
       "      <td>Smile</td>\n",
       "      <td>2023</td>\n",
       "      <td>tt22982202</td>\n",
       "      <td>1038522</td>\n",
       "    </tr>\n",
       "    <tr>\n",
       "      <th>2901</th>\n",
       "      <td>1437602</td>\n",
       "      <td>Toro</td>\n",
       "      <td>2016</td>\n",
       "      <td>tt6097002</td>\n",
       "      <td>427674</td>\n",
       "    </tr>\n",
       "  </tbody>\n",
       "</table>\n",
       "</div>"
      ],
      "text/plain": [
       "           id                    title  year     imdb_id  tmdb_id\n",
       "271   1382254                 The Call  2013   tt1911644   158011\n",
       "444   1400061           The Karate Kid  1984   tt0087538     1885\n",
       "795   1467729              White Noise  2005   tt0375210    11804\n",
       "938   1678479                      Leo  2023  tt15654328   949229\n",
       "963   1629411                    Beast  2022  tt11301946   800383\n",
       "970   1461727                   Wanted  2009   tt1084972    22717\n",
       "1397  1647850                      Don  2022  tt10709484   895033\n",
       "1484  1604636      HIT: The First Case  2020  tt11490170   678391\n",
       "1528  1571201                    Maria  2019   tt7594584   591121\n",
       "1541   118794                Agneepath  1990   tt0098999    37403\n",
       "1590  1709246                  Kingdom  2025  tt11773426  1124838\n",
       "1787  1681882                    Kushi  2023  tt15380630   965489\n",
       "1822  1697648                   Cobweb  2023  tt21254598   901121\n",
       "1836  1539207                  Trouble  2019   tt6772524   570480\n",
       "1861  1646498                  Dhamaka  2022  tt15685876   888234\n",
       "1868  1617535                 The Call  2020  tt12971924   746817\n",
       "1918  1680518                The House  2022  tt17505492   960139\n",
       "1951  1595722    Miracle in Cell No. 7  2019  tt10845262   638240\n",
       "2052  1762146                  Monster  2023  tt29941084  1203484\n",
       "2270  1339904                   Sergio  2009   tt1333656    39442\n",
       "2312  1400286               The Killer  2017   tt5379294   466190\n",
       "2352   147051                 Believer  2017   tt7689424   490001\n",
       "2414  1606801                      Red  2021  tt11191344   681435\n",
       "2446  1641387                 The Land  2021  tt14345386   860810\n",
       "2503  1704006                   Fierce  2020   tt3699816  1085895\n",
       "2510  1649113                    Noise  2022  tt15215468   848298\n",
       "2514  1637600                Game Over  2019  tt10709060   678356\n",
       "2546  1680562             The Takeover  2022  tt15170560   960570\n",
       "2598  1109195                  Dostana  1980   tt0080653   143844\n",
       "2610  1740620                 Paradise  2024  tt28800663  1170659\n",
       "2625  1456076                 Veronica  2017   tt3183402   423611\n",
       "2642  1791568  Lady Chatterley's Lover  2022  tt31324218  1245507\n",
       "2725  1692179                   Bubble  2022  tt21876722   805730\n",
       "2757  1706174            The Long Game  2025  tt23631668  1106565\n",
       "2774  1698365                    Smile  2022  tt15751968  1051335\n",
       "2793  1691046              Incantation  2021  tt10333688  1014659\n",
       "2844  1487441                      Joy  2018   tt8917752   539445\n",
       "2883  2749397                    Smile  2023  tt22982202  1038522\n",
       "2901  1437602                     Toro  2016   tt6097002   427674"
      ]
     },
     "execution_count": 24,
     "metadata": {},
     "output_type": "execute_result"
    }
   ],
   "source": [
    "dfnetflix4[dfnetflix4.duplicated('title')]"
   ]
  },
  {
   "cell_type": "markdown",
   "id": "d51fd535-a161-4fc1-8d99-888c0117386a",
   "metadata": {},
   "source": [
    "Como podemos ver por la diferencia de años y el 'imdb_id', puede que sean peliculas distintas con el mismo titulo, revisando la pagina de imdb se confirma esto"
   ]
  },
  {
   "cell_type": "markdown",
   "id": "50dfbebb",
   "metadata": {},
   "source": [
    "### Tipos de columnas"
   ]
  },
  {
   "cell_type": "code",
   "execution_count": 25,
   "id": "dcb455e3",
   "metadata": {},
   "outputs": [
    {
     "data": {
      "text/plain": [
       "id          int64\n",
       "title      object\n",
       "year        int64\n",
       "imdb_id    object\n",
       "tmdb_id     int64\n",
       "dtype: object"
      ]
     },
     "execution_count": 25,
     "metadata": {},
     "output_type": "execute_result"
    }
   ],
   "source": [
    "dfnetflix4.dtypes"
   ]
  },
  {
   "cell_type": "markdown",
   "id": "fe0da3f7-5bcc-44c1-8ee5-38376ac55726",
   "metadata": {},
   "source": [
    "#### year"
   ]
  },
  {
   "cell_type": "code",
   "execution_count": 26,
   "id": "e8dee4e6-9611-4464-8b36-118b9c09be13",
   "metadata": {},
   "outputs": [
    {
     "data": {
      "text/html": [
       "<div>\n",
       "<style scoped>\n",
       "    .dataframe tbody tr th:only-of-type {\n",
       "        vertical-align: middle;\n",
       "    }\n",
       "\n",
       "    .dataframe tbody tr th {\n",
       "        vertical-align: top;\n",
       "    }\n",
       "\n",
       "    .dataframe thead th {\n",
       "        text-align: right;\n",
       "    }\n",
       "</style>\n",
       "<table border=\"1\" class=\"dataframe\">\n",
       "  <thead>\n",
       "    <tr style=\"text-align: right;\">\n",
       "      <th></th>\n",
       "      <th>id</th>\n",
       "      <th>title</th>\n",
       "      <th>year</th>\n",
       "      <th>imdb_id</th>\n",
       "      <th>tmdb_id</th>\n",
       "    </tr>\n",
       "  </thead>\n",
       "  <tbody>\n",
       "    <tr>\n",
       "      <th>2880</th>\n",
       "      <td>11039715</td>\n",
       "      <td>Rockstar: DUKI desde el fin del mundo</td>\n",
       "      <td>0</td>\n",
       "      <td>tt38203421</td>\n",
       "      <td>1546933</td>\n",
       "    </tr>\n",
       "    <tr>\n",
       "      <th>2890</th>\n",
       "      <td>11046064</td>\n",
       "      <td>Nouvelle École et après : Réussir ou mourir</td>\n",
       "      <td>0</td>\n",
       "      <td>tt38221275</td>\n",
       "      <td>1556160</td>\n",
       "    </tr>\n",
       "  </tbody>\n",
       "</table>\n",
       "</div>"
      ],
      "text/plain": [
       "            id                                        title  year     imdb_id  \\\n",
       "2880  11039715        Rockstar: DUKI desde el fin del mundo     0  tt38203421   \n",
       "2890  11046064  Nouvelle École et après : Réussir ou mourir     0  tt38221275   \n",
       "\n",
       "      tmdb_id  \n",
       "2880  1546933  \n",
       "2890  1556160  "
      ]
     },
     "execution_count": 26,
     "metadata": {},
     "output_type": "execute_result"
    }
   ],
   "source": [
    "dfnetflix4[dfnetflix4['year'] == 0]"
   ]
  },
  {
   "cell_type": "markdown",
   "id": "0e9c992d-31b7-4844-9dab-e24a2636c4bd",
   "metadata": {},
   "source": [
    "Revisando en imdb estas peliculas salieron el 2025"
   ]
  },
  {
   "cell_type": "code",
   "execution_count": 27,
   "id": "5b3b939a-388f-47d1-8fde-b06551a5ef59",
   "metadata": {},
   "outputs": [],
   "source": [
    "dfnetflix4.loc[dfnetflix4['imdb_id'] == 'tt38203421', 'year'] = 2025\n",
    "dfnetflix4.loc[dfnetflix4['imdb_id'] == 'tt38221275', 'year'] = 2025"
   ]
  },
  {
   "cell_type": "markdown",
   "id": "5f08b47a",
   "metadata": {},
   "source": [
    "#### Verificamos que el cambio de fecha se aplico correctamente"
   ]
  },
  {
   "cell_type": "code",
   "execution_count": 29,
   "id": "e5b09f79-f216-4b92-b563-a8f9ca4a2796",
   "metadata": {},
   "outputs": [
    {
     "data": {
      "text/html": [
       "<div>\n",
       "<style scoped>\n",
       "    .dataframe tbody tr th:only-of-type {\n",
       "        vertical-align: middle;\n",
       "    }\n",
       "\n",
       "    .dataframe tbody tr th {\n",
       "        vertical-align: top;\n",
       "    }\n",
       "\n",
       "    .dataframe thead th {\n",
       "        text-align: right;\n",
       "    }\n",
       "</style>\n",
       "<table border=\"1\" class=\"dataframe\">\n",
       "  <thead>\n",
       "    <tr style=\"text-align: right;\">\n",
       "      <th></th>\n",
       "      <th>id</th>\n",
       "      <th>title</th>\n",
       "      <th>year</th>\n",
       "      <th>imdb_id</th>\n",
       "      <th>tmdb_id</th>\n",
       "    </tr>\n",
       "  </thead>\n",
       "  <tbody>\n",
       "    <tr>\n",
       "      <th>2880</th>\n",
       "      <td>11039715</td>\n",
       "      <td>Rockstar: DUKI desde el fin del mundo</td>\n",
       "      <td>2025</td>\n",
       "      <td>tt38203421</td>\n",
       "      <td>1546933</td>\n",
       "    </tr>\n",
       "  </tbody>\n",
       "</table>\n",
       "</div>"
      ],
      "text/plain": [
       "            id                                  title  year     imdb_id  \\\n",
       "2880  11039715  Rockstar: DUKI desde el fin del mundo  2025  tt38203421   \n",
       "\n",
       "      tmdb_id  \n",
       "2880  1546933  "
      ]
     },
     "execution_count": 29,
     "metadata": {},
     "output_type": "execute_result"
    }
   ],
   "source": [
    "dfnetflix4[dfnetflix4['imdb_id'] == 'tt38203421']"
   ]
  },
  {
   "cell_type": "code",
   "execution_count": 30,
   "id": "6ef5605e",
   "metadata": {},
   "outputs": [
    {
     "data": {
      "text/html": [
       "<div>\n",
       "<style scoped>\n",
       "    .dataframe tbody tr th:only-of-type {\n",
       "        vertical-align: middle;\n",
       "    }\n",
       "\n",
       "    .dataframe tbody tr th {\n",
       "        vertical-align: top;\n",
       "    }\n",
       "\n",
       "    .dataframe thead th {\n",
       "        text-align: right;\n",
       "    }\n",
       "</style>\n",
       "<table border=\"1\" class=\"dataframe\">\n",
       "  <thead>\n",
       "    <tr style=\"text-align: right;\">\n",
       "      <th></th>\n",
       "      <th>id</th>\n",
       "      <th>title</th>\n",
       "      <th>year</th>\n",
       "      <th>imdb_id</th>\n",
       "      <th>tmdb_id</th>\n",
       "    </tr>\n",
       "  </thead>\n",
       "  <tbody>\n",
       "    <tr>\n",
       "      <th>2890</th>\n",
       "      <td>11046064</td>\n",
       "      <td>Nouvelle École et après : Réussir ou mourir</td>\n",
       "      <td>2025</td>\n",
       "      <td>tt38221275</td>\n",
       "      <td>1556160</td>\n",
       "    </tr>\n",
       "  </tbody>\n",
       "</table>\n",
       "</div>"
      ],
      "text/plain": [
       "            id                                        title  year     imdb_id  \\\n",
       "2890  11046064  Nouvelle École et après : Réussir ou mourir  2025  tt38221275   \n",
       "\n",
       "      tmdb_id  \n",
       "2890  1556160  "
      ]
     },
     "execution_count": 30,
     "metadata": {},
     "output_type": "execute_result"
    }
   ],
   "source": [
    "dfnetflix4[dfnetflix4['imdb_id'] == 'tt38221275']"
   ]
  },
  {
   "cell_type": "markdown",
   "id": "af2135d7-ca61-4f86-a712-676c76d9544f",
   "metadata": {},
   "source": [
    "### Tipos de columnas"
   ]
  },
  {
   "cell_type": "code",
   "execution_count": 31,
   "id": "709c9686-0b92-4bdc-a2ef-250f1c9f3600",
   "metadata": {},
   "outputs": [
    {
     "name": "stdout",
     "output_type": "stream",
     "text": [
      "<class 'pandas.core.frame.DataFrame'>\n",
      "Index: 2908 entries, 0 to 2908\n",
      "Data columns (total 5 columns):\n",
      " #   Column   Non-Null Count  Dtype \n",
      "---  ------   --------------  ----- \n",
      " 0   id       2908 non-null   int64 \n",
      " 1   title    2908 non-null   object\n",
      " 2   year     2908 non-null   int64 \n",
      " 3   imdb_id  2908 non-null   object\n",
      " 4   tmdb_id  2908 non-null   int64 \n",
      "dtypes: int64(3), object(2)\n",
      "memory usage: 136.3+ KB\n"
     ]
    }
   ],
   "source": [
    "dfnetflix4.info()"
   ]
  },
  {
   "cell_type": "markdown",
   "id": "78587aee-f2f6-4f55-92b1-3828e173b306",
   "metadata": {},
   "source": [
    "Los tipos de las columnas estan bien"
   ]
  },
  {
   "cell_type": "markdown",
   "id": "1374ef5f",
   "metadata": {},
   "source": [
    "### Analisis de columna `year`"
   ]
  },
  {
   "cell_type": "code",
   "execution_count": 33,
   "id": "f8979f55",
   "metadata": {},
   "outputs": [
    {
     "data": {
      "text/plain": [
       "count    2908.000000\n",
       "mean     2018.924347\n",
       "std         7.290506\n",
       "min      1967.000000\n",
       "25%      2018.000000\n",
       "50%      2021.000000\n",
       "75%      2023.000000\n",
       "max      2025.000000\n",
       "Name: year, dtype: float64"
      ]
     },
     "execution_count": 33,
     "metadata": {},
     "output_type": "execute_result"
    }
   ],
   "source": [
    "dfnetflix4['year'].describe()"
   ]
  },
  {
   "cell_type": "markdown",
   "id": "97c38027-1257-4ebc-9587-b0fda4aee21d",
   "metadata": {},
   "source": [
    "## Creacion archivo `.csv`\n",
    "Como ya tenemos los datos correctos y limpios, procedemos a guardar en un archivo `.csv`"
   ]
  },
  {
   "cell_type": "code",
   "execution_count": 34,
   "id": "c9a8e1e4-69e2-4787-b536-efb56eb2c0c4",
   "metadata": {},
   "outputs": [],
   "source": [
    "\n",
    "dfnetflix4.to_csv('data/api_netflix.csv', index=False, encoding='utf-8')\n"
   ]
  }
 ],
 "metadata": {
  "kernelspec": {
   "display_name": "Python 3",
   "language": "python",
   "name": "python3"
  },
  "language_info": {
   "codemirror_mode": {
    "name": "ipython",
    "version": 3
   },
   "file_extension": ".py",
   "mimetype": "text/x-python",
   "name": "python",
   "nbconvert_exporter": "python",
   "pygments_lexer": "ipython3",
   "version": "3.13.5"
  }
 },
 "nbformat": 4,
 "nbformat_minor": 5
}
