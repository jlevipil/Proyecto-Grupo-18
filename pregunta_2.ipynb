{
 "cells": [
  {
   "cell_type": "markdown",
   "id": "e1ee95eb",
   "metadata": {},
   "source": [
    "## **Pregunta 2**"
   ]
  },
  {
   "cell_type": "markdown",
   "id": "df769c7b",
   "metadata": {},
   "source": [
    "¿Cúal es la plataforma que tiene mayor variedad de géneros?"
   ]
  },
  {
   "cell_type": "code",
   "execution_count": null,
   "id": "60a6ec1c",
   "metadata": {},
   "outputs": [],
   "source": [
    "import pandas as pd\n",
    "import ast # para transformar el texto tipo \"['xxxx', 'yyyy']\" en lista"
   ]
  },
  {
   "cell_type": "code",
   "execution_count": 12,
   "id": "a305c2cb",
   "metadata": {},
   "outputs": [],
   "source": [
    "df_disney_per = pd.read_csv(\"data/personas_disney.csv\")\n",
    "df_hulu_per = pd.read_csv(\"data/personas_hulu.csv\")\n",
    "df_max_per = pd.read_csv(\"data/personas_max.csv\")\n",
    "df_netflix_per = pd.read_csv(\"data/personas_netflix.csv\")\n",
    "df_paramount_per = pd.read_csv(\"data/personas_paramount.csv\")\n",
    "df_prime_per = pd.read_csv(\"data/personas_prime.csv\")"
   ]
  },
  {
   "cell_type": "code",
   "execution_count": 13,
   "id": "43757ea8",
   "metadata": {},
   "outputs": [
    {
     "name": "stdout",
     "output_type": "stream",
     "text": [
      "0    ['Action', 'Adventure', 'Animation']\n",
      "1    ['Action', 'Adventure', 'Animation']\n",
      "2    ['Action', 'Adventure', 'Animation']\n",
      "3    ['Action', 'Adventure', 'Animation']\n",
      "4    ['Action', 'Adventure', 'Animation']\n",
      "Name: genres, dtype: object\n"
     ]
    }
   ],
   "source": [
    "print(df_hulu_per['genres'].head())"
   ]
  },
  {
   "cell_type": "markdown",
   "id": "06d85c3d",
   "metadata": {},
   "source": [
    "Ahora Revisaremos cada plataforma para obtener la cantidad de generos distintos que tiene cada una."
   ]
  },
  {
   "cell_type": "code",
   "execution_count": 62,
   "id": "c0497ebf",
   "metadata": {},
   "outputs": [],
   "source": [
    "df_disney2 = df_disney_per.dropna(subset=['genres']).copy()\n",
    "df_hulu2 = df_hulu_per.dropna(subset=['genres']).copy()\n",
    "df_max2 = df_max_per.dropna(subset=['genres']).copy()\n",
    "df_netflix2 = df_netflix_per.dropna(subset=['genres']).copy()\n",
    "df_paramount2 = df_paramount_per.dropna(subset=['genres']).copy()\n",
    "df_prime2 = df_prime_per.dropna(subset=['genres']).copy()"
   ]
  },
  {
   "cell_type": "markdown",
   "id": "047313a9",
   "metadata": {},
   "source": [
    "Convertimos la cadena de texto en una lista"
   ]
  },
  {
   "cell_type": "code",
   "execution_count": 64,
   "id": "fa5d48f3",
   "metadata": {},
   "outputs": [],
   "source": [
    "\n",
    "df_disney2['genres'] = df_disney2['genres'].apply(lambda x: ast.literal_eval(x) if isinstance(x, str) else x)\n",
    "df_hulu2['genres'] = df_hulu2['genres'].apply(lambda x: ast.literal_eval(x) if isinstance(x, str) else x)\n",
    "df_max2['genres'] = df_max2['genres'].apply(lambda x: ast.literal_eval(x) if isinstance(x, str) else x)\n",
    "df_netflix2['genres'] = df_netflix2['genres'].apply(lambda x: ast.literal_eval(x) if isinstance(x, str) else x)\n",
    "df_paramount2['genres'] = df_paramount2['genres'].apply(lambda x: ast.literal_eval(x) if isinstance(x, str) else x)\n",
    "df_prime2['genres'] = df_prime2['genres'].apply(lambda x: ast.literal_eval(x) if isinstance(x, str) else x)"
   ]
  },
  {
   "cell_type": "markdown",
   "id": "3e0d07c8",
   "metadata": {},
   "source": [
    "Separamos cada género en su propia fila"
   ]
  },
  {
   "cell_type": "code",
   "execution_count": 65,
   "id": "594681d9",
   "metadata": {},
   "outputs": [],
   "source": [
    "df_disney_exploded = df_disney2.explode('genres')\n",
    "df_hulu_exploded = df_hulu2.explode('genres')\n",
    "df_max_exploded = df_max2.explode('genres')\n",
    "df_netflix_exploded = df_netflix2.explode('genres')\n",
    "df_paramount_exploded = df_paramount2.explode('genres')\n",
    "df_prime_exploded = df_prime2.explode('genres')"
   ]
  },
  {
   "cell_type": "markdown",
   "id": "6a83e3d0",
   "metadata": {},
   "source": [
    "Contamos cuántas veces aparece cada género"
   ]
  },
  {
   "cell_type": "code",
   "execution_count": 67,
   "id": "ba583157",
   "metadata": {},
   "outputs": [],
   "source": [
    "conteo_disney_generos = df_disney_exploded['genres'].value_counts()\n",
    "conteo_hulu_generos = df_hulu_exploded['genres'].value_counts()\n",
    "conteo_max_generos = df_max_exploded['genres'].value_counts()\n",
    "conteo_netflix_generos = df_netflix_exploded['genres'].value_counts()\n",
    "conteo_paramount_generos = df_paramount_exploded['genres'].value_counts()\n",
    "conteo_prime_generos = df_prime_exploded['genres'].value_counts()"
   ]
  },
  {
   "cell_type": "markdown",
   "id": "a758d646",
   "metadata": {},
   "source": [
    "Damos nombre al indice donde estaran los generos, y obtenemos la columna con la cantidad de generos"
   ]
  },
  {
   "cell_type": "code",
   "execution_count": 68,
   "id": "26941222",
   "metadata": {},
   "outputs": [],
   "source": [
    "conteo_disney_generos = conteo_disney_generos.rename_axis('Genero').reset_index(name='Cantidad')\n",
    "conteo_hulu_generos = conteo_hulu_generos.rename_axis('Genero').reset_index(name='Cantidad')\n",
    "conteo_max_generos = conteo_max_generos.rename_axis('Genero').reset_index(name='Cantidad')\n",
    "conteo_netflix_generos = conteo_netflix_generos.rename_axis('Genero').reset_index(name='Cantidad')\n",
    "conteo_paramount_generos = conteo_paramount_generos.rename_axis('Genero').reset_index(name='Cantidad')\n",
    "conteo_prime_generos = conteo_prime_generos.rename_axis('Genero').reset_index(name='Cantidad')"
   ]
  },
  {
   "cell_type": "code",
   "execution_count": 60,
   "id": "99a95791",
   "metadata": {},
   "outputs": [
    {
     "data": {
      "text/html": [
       "<div>\n",
       "<style scoped>\n",
       "    .dataframe tbody tr th:only-of-type {\n",
       "        vertical-align: middle;\n",
       "    }\n",
       "\n",
       "    .dataframe tbody tr th {\n",
       "        vertical-align: top;\n",
       "    }\n",
       "\n",
       "    .dataframe thead th {\n",
       "        text-align: right;\n",
       "    }\n",
       "</style>\n",
       "<table border=\"1\" class=\"dataframe\">\n",
       "  <thead>\n",
       "    <tr style=\"text-align: right;\">\n",
       "      <th></th>\n",
       "      <th>Genero</th>\n",
       "      <th>Cantidad</th>\n",
       "    </tr>\n",
       "  </thead>\n",
       "  <tbody>\n",
       "    <tr>\n",
       "      <th>0</th>\n",
       "      <td>Drama</td>\n",
       "      <td>10742</td>\n",
       "    </tr>\n",
       "    <tr>\n",
       "      <th>1</th>\n",
       "      <td>Comedy</td>\n",
       "      <td>7751</td>\n",
       "    </tr>\n",
       "    <tr>\n",
       "      <th>2</th>\n",
       "      <td>Action</td>\n",
       "      <td>5330</td>\n",
       "    </tr>\n",
       "    <tr>\n",
       "      <th>3</th>\n",
       "      <td>Thriller</td>\n",
       "      <td>4845</td>\n",
       "    </tr>\n",
       "    <tr>\n",
       "      <th>4</th>\n",
       "      <td>Horror</td>\n",
       "      <td>4316</td>\n",
       "    </tr>\n",
       "    <tr>\n",
       "      <th>5</th>\n",
       "      <td>Adventure</td>\n",
       "      <td>3534</td>\n",
       "    </tr>\n",
       "    <tr>\n",
       "      <th>6</th>\n",
       "      <td>Crime</td>\n",
       "      <td>3488</td>\n",
       "    </tr>\n",
       "    <tr>\n",
       "      <th>7</th>\n",
       "      <td>Mystery</td>\n",
       "      <td>2914</td>\n",
       "    </tr>\n",
       "    <tr>\n",
       "      <th>8</th>\n",
       "      <td>Romance</td>\n",
       "      <td>2781</td>\n",
       "    </tr>\n",
       "    <tr>\n",
       "      <th>9</th>\n",
       "      <td>Sci-Fi</td>\n",
       "      <td>1857</td>\n",
       "    </tr>\n",
       "    <tr>\n",
       "      <th>10</th>\n",
       "      <td>Biography</td>\n",
       "      <td>1706</td>\n",
       "    </tr>\n",
       "    <tr>\n",
       "      <th>11</th>\n",
       "      <td>Documentary</td>\n",
       "      <td>1522</td>\n",
       "    </tr>\n",
       "    <tr>\n",
       "      <th>12</th>\n",
       "      <td>Fantasy</td>\n",
       "      <td>1356</td>\n",
       "    </tr>\n",
       "    <tr>\n",
       "      <th>13</th>\n",
       "      <td>Animation</td>\n",
       "      <td>1345</td>\n",
       "    </tr>\n",
       "    <tr>\n",
       "      <th>14</th>\n",
       "      <td>Family</td>\n",
       "      <td>1007</td>\n",
       "    </tr>\n",
       "    <tr>\n",
       "      <th>15</th>\n",
       "      <td>History</td>\n",
       "      <td>939</td>\n",
       "    </tr>\n",
       "    <tr>\n",
       "      <th>16</th>\n",
       "      <td>Music</td>\n",
       "      <td>572</td>\n",
       "    </tr>\n",
       "    <tr>\n",
       "      <th>17</th>\n",
       "      <td>Sport</td>\n",
       "      <td>402</td>\n",
       "    </tr>\n",
       "    <tr>\n",
       "      <th>18</th>\n",
       "      <td>Musical</td>\n",
       "      <td>154</td>\n",
       "    </tr>\n",
       "    <tr>\n",
       "      <th>19</th>\n",
       "      <td>Western</td>\n",
       "      <td>60</td>\n",
       "    </tr>\n",
       "    <tr>\n",
       "      <th>20</th>\n",
       "      <td>War</td>\n",
       "      <td>56</td>\n",
       "    </tr>\n",
       "    <tr>\n",
       "      <th>21</th>\n",
       "      <td>News</td>\n",
       "      <td>22</td>\n",
       "    </tr>\n",
       "    <tr>\n",
       "      <th>22</th>\n",
       "      <td>Short</td>\n",
       "      <td>14</td>\n",
       "    </tr>\n",
       "  </tbody>\n",
       "</table>\n",
       "</div>"
      ],
      "text/plain": [
       "         Genero  Cantidad\n",
       "0         Drama     10742\n",
       "1        Comedy      7751\n",
       "2        Action      5330\n",
       "3      Thriller      4845\n",
       "4        Horror      4316\n",
       "5     Adventure      3534\n",
       "6         Crime      3488\n",
       "7       Mystery      2914\n",
       "8       Romance      2781\n",
       "9        Sci-Fi      1857\n",
       "10    Biography      1706\n",
       "11  Documentary      1522\n",
       "12      Fantasy      1356\n",
       "13    Animation      1345\n",
       "14       Family      1007\n",
       "15      History       939\n",
       "16        Music       572\n",
       "17        Sport       402\n",
       "18      Musical       154\n",
       "19      Western        60\n",
       "20          War        56\n",
       "21         News        22\n",
       "22        Short        14"
      ]
     },
     "execution_count": 60,
     "metadata": {},
     "output_type": "execute_result"
    }
   ],
   "source": [
    "conteo_hulu_generos"
   ]
  },
  {
   "cell_type": "code",
   "execution_count": 61,
   "id": "4725cb26",
   "metadata": {},
   "outputs": [
    {
     "name": "stdout",
     "output_type": "stream",
     "text": [
      "\n",
      "Total de géneros: 23\n"
     ]
    }
   ],
   "source": [
    "total_generos = conteo_hulu_generos['Genero'].nunique()\n",
    "print(\"\\nTotal de géneros:\", total_generos)"
   ]
  },
  {
   "cell_type": "markdown",
   "id": "e245ad69",
   "metadata": {},
   "source": [
    "Creamos el Dataframe para que quede mas ordenada la información y sea mas rapido ver cual es la plataformaa con mayor variedad de genero"
   ]
  },
  {
   "cell_type": "code",
   "execution_count": 70,
   "id": "d034eb78",
   "metadata": {},
   "outputs": [],
   "source": [
    "generos_vari = {\n",
    "    'Plataforma': ['Disney+', 'Hulu', 'Max', 'Netflix', 'Paramount+', 'Prime'],\n",
    "    'Cantidad de géneros': [\n",
    "        conteo_disney_generos['Genero'].nunique(),\n",
    "        conteo_hulu_generos['Genero'].nunique(),\n",
    "        conteo_max_generos['Genero'].nunique(),\n",
    "        conteo_netflix_generos['Genero'].nunique(),\n",
    "        conteo_paramount_generos['Genero'].nunique(),\n",
    "        conteo_prime_generos['Genero'].nunique()\n",
    "    ]\n",
    "}\n",
    "\n",
    "df_generos_vari = pd.DataFrame(generos_vari)"
   ]
  },
  {
   "cell_type": "code",
   "execution_count": 71,
   "id": "d022e027",
   "metadata": {},
   "outputs": [
    {
     "data": {
      "text/html": [
       "<div>\n",
       "<style scoped>\n",
       "    .dataframe tbody tr th:only-of-type {\n",
       "        vertical-align: middle;\n",
       "    }\n",
       "\n",
       "    .dataframe tbody tr th {\n",
       "        vertical-align: top;\n",
       "    }\n",
       "\n",
       "    .dataframe thead th {\n",
       "        text-align: right;\n",
       "    }\n",
       "</style>\n",
       "<table border=\"1\" class=\"dataframe\">\n",
       "  <thead>\n",
       "    <tr style=\"text-align: right;\">\n",
       "      <th></th>\n",
       "      <th>Plataforma</th>\n",
       "      <th>Cantidad de géneros</th>\n",
       "    </tr>\n",
       "  </thead>\n",
       "  <tbody>\n",
       "    <tr>\n",
       "      <th>0</th>\n",
       "      <td>Disney+</td>\n",
       "      <td>22</td>\n",
       "    </tr>\n",
       "    <tr>\n",
       "      <th>1</th>\n",
       "      <td>Hulu</td>\n",
       "      <td>23</td>\n",
       "    </tr>\n",
       "    <tr>\n",
       "      <th>2</th>\n",
       "      <td>Max</td>\n",
       "      <td>24</td>\n",
       "    </tr>\n",
       "    <tr>\n",
       "      <th>3</th>\n",
       "      <td>Netflix</td>\n",
       "      <td>25</td>\n",
       "    </tr>\n",
       "    <tr>\n",
       "      <th>4</th>\n",
       "      <td>Paramount+</td>\n",
       "      <td>21</td>\n",
       "    </tr>\n",
       "    <tr>\n",
       "      <th>5</th>\n",
       "      <td>Prime</td>\n",
       "      <td>24</td>\n",
       "    </tr>\n",
       "  </tbody>\n",
       "</table>\n",
       "</div>"
      ],
      "text/plain": [
       "   Plataforma  Cantidad de géneros\n",
       "0     Disney+                   22\n",
       "1        Hulu                   23\n",
       "2         Max                   24\n",
       "3     Netflix                   25\n",
       "4  Paramount+                   21\n",
       "5       Prime                   24"
      ]
     },
     "execution_count": 71,
     "metadata": {},
     "output_type": "execute_result"
    }
   ],
   "source": [
    "df_generos_vari"
   ]
  },
  {
   "cell_type": "markdown",
   "id": "ae24af88",
   "metadata": {},
   "source": [
    "Vemos el DataFrame de la caantidad de generos por cada plataforma"
   ]
  },
  {
   "cell_type": "markdown",
   "id": "a291fad3",
   "metadata": {},
   "source": [
    "Por lo tanto la plataforma con mayor variedad de genero es **Netflix**."
   ]
  }
 ],
 "metadata": {
  "kernelspec": {
   "display_name": "Python 3",
   "language": "python",
   "name": "python3"
  },
  "language_info": {
   "codemirror_mode": {
    "name": "ipython",
    "version": 3
   },
   "file_extension": ".py",
   "mimetype": "text/x-python",
   "name": "python",
   "nbconvert_exporter": "python",
   "pygments_lexer": "ipython3",
   "version": "3.13.5"
  }
 },
 "nbformat": 4,
 "nbformat_minor": 5
}
